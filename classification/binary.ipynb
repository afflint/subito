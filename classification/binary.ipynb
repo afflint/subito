{
 "cells": [
  {
   "cell_type": "markdown",
   "metadata": {},
   "source": [
    "# Supervised binary classification"
   ]
  },
  {
   "cell_type": "code",
   "execution_count": 1,
   "metadata": {},
   "outputs": [],
   "source": [
    "import numpy as np\n",
    "import pandas as pd\n",
    "import matplotlib.pyplot as plt\n",
    "from sklearn import preprocessing as pre\n",
    "from sklearn.model_selection import train_test_split"
   ]
  },
  {
   "cell_type": "code",
   "execution_count": 2,
   "metadata": {},
   "outputs": [],
   "source": [
    "file = '../data/classification.xlsx'\n",
    "D = pd.read_excel(file)"
   ]
  },
  {
   "cell_type": "code",
   "execution_count": 3,
   "metadata": {},
   "outputs": [],
   "source": [
    "D.dropna(inplace=True)"
   ]
  },
  {
   "cell_type": "code",
   "execution_count": 4,
   "metadata": {},
   "outputs": [],
   "source": [
    "target = 'dependent variable'\n",
    "X, target_values = D[[x for x in D.columns if x != target]], D[target].values\n",
    "encoder = pre.OrdinalEncoder()\n",
    "y = encoder.fit_transform(target_values.reshape(-1, 1))\n",
    "S_train, S_test, s_train, s_test = train_test_split(X, y, stratify=X.category, test_size=0.2, random_state=42)"
   ]
  },
  {
   "cell_type": "code",
   "execution_count": 5,
   "metadata": {},
   "outputs": [],
   "source": [
    "n_cols, c_cols = [], []\n",
    "for i, x in S_train.dtypes.items():\n",
    "    if i != 'ad_id' and x in [np.int64, np.float64]:\n",
    "        n_cols.append(i)\n",
    "    elif i != 'ad_id':\n",
    "        c_cols.append(i)\n",
    "    else:\n",
    "        pass\n",
    "N_train, C_train = S_train[n_cols], S_train[c_cols]\n",
    "N_test, C_test = S_test[n_cols], S_test[c_cols]"
   ]
  },
  {
   "cell_type": "code",
   "execution_count": 6,
   "metadata": {},
   "outputs": [],
   "source": [
    "scale = True\n",
    "\n",
    "if scale:\n",
    "    scaler = pre.MinMaxScaler()\n",
    "    N_train, N_test = scaler.fit_transform(N_train), scaler.fit_transform(N_test)\n",
    "else:\n",
    "    pass\n",
    "\n",
    "hot = pre.OneHotEncoder(sparse=False)\n",
    "H_train = hot.fit_transform(C_train)\n",
    "H_test = hot.fit_transform(C_test)"
   ]
  },
  {
   "cell_type": "code",
   "execution_count": 7,
   "metadata": {},
   "outputs": [],
   "source": [
    "mode = 'numeric'\n",
    "\n",
    "if mode == 'numeric':\n",
    "    Tr, Tx = np.array(N_train), N_test\n",
    "else:\n",
    "    Tr, Tx = H_train, H_test"
   ]
  },
  {
   "cell_type": "markdown",
   "metadata": {},
   "source": [
    "## Binary classifiers\n",
    "The binary classifiers are specialized classifiers capable of distinguish between a specific class and all the ther classes. For training such a classifier, we need to create a special target."
   ]
  },
  {
   "cell_type": "code",
   "execution_count": 8,
   "metadata": {},
   "outputs": [],
   "source": [
    "s_train_0, cat_0_name = (s_train == 0), encoder.categories_[0][0]\n",
    "s_test_0 = (s_test == 0)"
   ]
  },
  {
   "cell_type": "code",
   "execution_count": 9,
   "metadata": {},
   "outputs": [
    {
     "name": "stdout",
     "output_type": "stream",
     "text": [
      "Non venduto\n"
     ]
    }
   ],
   "source": [
    "print(cat_0_name)"
   ]
  },
  {
   "cell_type": "code",
   "execution_count": 10,
   "metadata": {},
   "outputs": [],
   "source": [
    "from sklearn.linear_model import SGDClassifier"
   ]
  },
  {
   "cell_type": "code",
   "execution_count": 11,
   "metadata": {},
   "outputs": [
    {
     "data": {
      "text/plain": [
       "SGDClassifier(alpha=0.0001, average=False, class_weight=None,\n",
       "              early_stopping=False, epsilon=0.1, eta0=0.0, fit_intercept=True,\n",
       "              l1_ratio=0.15, learning_rate='optimal', loss='hinge',\n",
       "              max_iter=1000, n_iter_no_change=5, n_jobs=None, penalty='l2',\n",
       "              power_t=0.5, random_state=None, shuffle=True, tol=0.001,\n",
       "              validation_fraction=0.1, verbose=0, warm_start=False)"
      ]
     },
     "execution_count": 11,
     "metadata": {},
     "output_type": "execute_result"
    }
   ],
   "source": [
    "sgd = SGDClassifier()\n",
    "sgd.fit(Tr, s_train_0.ravel())"
   ]
  },
  {
   "cell_type": "code",
   "execution_count": 12,
   "metadata": {},
   "outputs": [
    {
     "data": {
      "text/plain": [
       "array([False])"
      ]
     },
     "execution_count": 12,
     "metadata": {},
     "output_type": "execute_result"
    }
   ],
   "source": [
    "sgd.predict(np.array(Tr[0]).reshape(1, -1))"
   ]
  },
  {
   "cell_type": "markdown",
   "metadata": {},
   "source": [
    "# Evaluate the model performances"
   ]
  },
  {
   "cell_type": "markdown",
   "metadata": {},
   "source": [
    "## Cross validation"
   ]
  },
  {
   "cell_type": "code",
   "execution_count": 13,
   "metadata": {},
   "outputs": [],
   "source": [
    "from sklearn.model_selection import cross_val_score, cross_val_predict\n",
    "from sklearn.base import BaseEstimator\n",
    "import sklearn.metrics as mx"
   ]
  },
  {
   "cell_type": "code",
   "execution_count": 14,
   "metadata": {},
   "outputs": [
    {
     "name": "stdout",
     "output_type": "stream",
     "text": [
      "[0.84903529 0.84903529 0.84907218]\n",
      "[0.84564575 0.84564575 0.84564575]\n"
     ]
    }
   ],
   "source": [
    "print(cross_val_score(sgd, Tr, s_train_0.ravel(), cv=3, scoring='accuracy'))\n",
    "print(cross_val_score(sgd, Tx, s_test_0.ravel(), cv=3, scoring='accuracy'))"
   ]
  },
  {
   "cell_type": "markdown",
   "metadata": {},
   "source": [
    "### Limits of accuracy"
   ]
  },
  {
   "cell_type": "code",
   "execution_count": 15,
   "metadata": {},
   "outputs": [],
   "source": [
    "class No(BaseEstimator):\n",
    "    def fit(self, X, y=None):\n",
    "        pass\n",
    "    def predict(self, X):\n",
    "        return np.zeros((X.shape[0], 1), dtype=bool)"
   ]
  },
  {
   "cell_type": "code",
   "execution_count": 16,
   "metadata": {},
   "outputs": [],
   "source": [
    "no = No()"
   ]
  },
  {
   "cell_type": "code",
   "execution_count": 17,
   "metadata": {},
   "outputs": [
    {
     "name": "stdout",
     "output_type": "stream",
     "text": [
      "[0.84981749 0.84790544 0.84941984]\n",
      "[0.85468451 0.8390405  0.84321224]\n"
     ]
    }
   ],
   "source": [
    "print(cross_val_score(no, Tr, s_train_0.ravel(), cv=3, scoring='accuracy'))\n",
    "print(cross_val_score(no, Tx, s_test_0.ravel(), cv=3, scoring='accuracy'))"
   ]
  },
  {
   "cell_type": "code",
   "execution_count": 20,
   "metadata": {},
   "outputs": [
    {
     "name": "stdout",
     "output_type": "stream",
     "text": [
      "0.1167172688715322\n"
     ]
    }
   ],
   "source": [
    "print(len(np.where(y.ravel() == 1)[0]) / len(y))"
   ]
  },
  {
   "cell_type": "markdown",
   "metadata": {},
   "source": [
    "## Confusion matrix"
   ]
  },
  {
   "cell_type": "code",
   "execution_count": 21,
   "metadata": {},
   "outputs": [],
   "source": [
    "p_sgd = cross_val_predict(sgd, Tr, s_train_0.ravel(), cv=3)\n",
    "p_no = cross_val_predict(no, Tr, s_train_0.ravel(), cv=3)"
   ]
  },
  {
   "cell_type": "code",
   "execution_count": 22,
   "metadata": {},
   "outputs": [],
   "source": [
    "labels = [True, False]"
   ]
  },
  {
   "cell_type": "code",
   "execution_count": 23,
   "metadata": {},
   "outputs": [],
   "source": [
    "cm_sgd = mx.confusion_matrix(s_train_0, p_sgd, labels=labels)\n",
    "cm_no = mx.confusion_matrix(s_train_0, p_no, labels=labels)"
   ]
  },
  {
   "cell_type": "code",
   "execution_count": 24,
   "metadata": {},
   "outputs": [],
   "source": [
    "import itertools\n",
    "from mpl_toolkits.axes_grid1 import make_axes_locatable\n",
    "\n",
    "\n",
    "def cm_plot(ax, classes, CM, title, figure):\n",
    "    im = ax.imshow(CM, interpolation='nearest', cmap=plt.cm.Blues)\n",
    "    divider = make_axes_locatable(ax)\n",
    "    cax = divider.append_axes('right', size='5%', pad=0.05)\n",
    "    figure.colorbar(im, cax=cax, orientation='vertical')\n",
    "    tick_marks = np.arange(len(classes))\n",
    "    ax.set_xticks(tick_marks)\n",
    "    ax.set_xticklabels(classes, rotation=90, fontsize=12)\n",
    "    ax.set_yticks(tick_marks)\n",
    "    ax.set_yticklabels(classes, rotation=0, fontsize=12)\n",
    "    ax.set_title(title, fontsize=16)\n",
    "    thresh = CM.max() / 2.\n",
    "    for i, j in itertools.product(range(CM.shape[0]), range(CM.shape[1])):\n",
    "        ax.text(j, i, CM[i, j], horizontalalignment=\"center\",\n",
    "                 color=\"white\" if CM[i, j] > thresh else \"black\", fontsize=12)\n",
    "    ax.set_ylabel('True label', fontsize=16)\n",
    "    ax.set_xlabel('Predicted label', fontsize=16)"
   ]
  },
  {
   "cell_type": "code",
   "execution_count": 25,
   "metadata": {},
   "outputs": [
    {
     "data": {
      "image/png": "[encoded data removed]",
      "text/plain": [
       "<Figure size 720x360 with 4 Axes>"
      ]
     },
     "metadata": {
      "needs_background": "light"
     },
     "output_type": "display_data"
    }
   ],
   "source": [
    "fig, ax = plt.subplots(ncols=2, nrows=1, figsize=(10, 5))\n",
    "cm_plot(ax[0], labels, cm_sgd, 'SGD', fig)\n",
    "cm_plot(ax[1], labels, cm_no, 'NO', fig)\n",
    "plt.tight_layout()\n",
    "plt.show()"
   ]
  },
  {
   "cell_type": "code",
   "execution_count": 26,
   "metadata": {},
   "outputs": [
    {
     "name": "stdout",
     "output_type": "stream",
     "text": [
      "              precision    recall  f1-score   support\n",
      "\n",
      "       False       0.85      1.00      0.92     58614\n",
      "        True       0.00      0.00      0.00     10421\n",
      "\n",
      "    accuracy                           0.85     69035\n",
      "   macro avg       0.42      0.50      0.46     69035\n",
      "weighted avg       0.72      0.85      0.78     69035\n",
      "\n",
      "              precision    recall  f1-score   support\n",
      "\n",
      "       False       0.85      1.00      0.92     58614\n",
      "        True       0.00      0.00      0.00     10421\n",
      "\n",
      "    accuracy                           0.85     69035\n",
      "   macro avg       0.42      0.50      0.46     69035\n",
      "weighted avg       0.72      0.85      0.78     69035\n",
      "\n"
     ]
    },
    {
     "name": "stderr",
     "output_type": "stream",
     "text": [
      "/anaconda3/lib/python3.7/site-packages/sklearn/metrics/classification.py:1437: UndefinedMetricWarning: Precision and F-score are ill-defined and being set to 0.0 in labels with no predicted samples.\n",
      "  'precision', 'predicted', average, warn_for)\n"
     ]
    }
   ],
   "source": [
    "print(mx.classification_report(s_train_0, p_sgd))\n",
    "print(mx.classification_report(s_train_0, p_no))"
   ]
  },
  {
   "cell_type": "markdown",
   "metadata": {},
   "source": [
    "## Exercise: test with categorical values"
   ]
  },
  {
   "cell_type": "code",
   "execution_count": null,
   "metadata": {},
   "outputs": [],
   "source": []
  },
  {
   "cell_type": "markdown",
   "metadata": {},
   "source": [
    "# Precision and recall tradeoff\n",
    "Classifiers take binary decisions based on a classification function used in combination with a threshold. We are interested in studing precision and recall with different threshold levels."
   ]
  },
  {
   "cell_type": "code",
   "execution_count": 27,
   "metadata": {},
   "outputs": [
    {
     "data": {
      "text/plain": [
       "array([-1.00186941, -1.01032395, -1.02199659, ..., -1.00402467,\n",
       "       -1.00202018, -1.00412661])"
      ]
     },
     "execution_count": 27,
     "metadata": {},
     "output_type": "execute_result"
    }
   ],
   "source": [
    "sgd.decision_function(N_test)"
   ]
  },
  {
   "cell_type": "code",
   "execution_count": 28,
   "metadata": {},
   "outputs": [],
   "source": [
    "p_scores = cross_val_predict(sgd, N_train, s_train_0.ravel(), cv=3, method='decision_function')"
   ]
  },
  {
   "cell_type": "code",
   "execution_count": 29,
   "metadata": {},
   "outputs": [],
   "source": [
    "precisions, recalls, thresholds = mx.precision_recall_curve(s_train_0, p_scores)"
   ]
  },
  {
   "cell_type": "code",
   "execution_count": 30,
   "metadata": {},
   "outputs": [],
   "source": [
    "fpr, tpr, thresholds_roc = mx.roc_curve(s_train_0, p_scores)"
   ]
  },
  {
   "cell_type": "code",
   "execution_count": 31,
   "metadata": {},
   "outputs": [
    {
     "data": {
      "image/png": "[encoded data removed]",
      "text/plain": [
       "<Figure size 864x288 with 3 Axes>"
      ]
     },
     "metadata": {
      "needs_background": "light"
     },
     "output_type": "display_data"
    }
   ],
   "source": [
    "fig, ax = plt.subplots(ncols=3, nrows=1, figsize=(12, 4))\n",
    "ax[0].plot(thresholds, precisions[:-1], label='Precision')\n",
    "ax[0].plot(thresholds, recalls[:-1], label='Recall')\n",
    "ax[0].legend()\n",
    "ax[1].plot(recalls[:-1], precisions[:-1])\n",
    "ax[1].set_xlim((-0.1,1.1))\n",
    "ax[1].set_ylim((-0.1,1.1))\n",
    "ax[1].set_xlabel('Recall')\n",
    "ax[1].set_ylabel('Precision')\n",
    "ax[2].plot(fpr[:-1], tpr[:-1])\n",
    "ax[2].set_xlim((-0.1,1.1))\n",
    "ax[2].set_ylim((-0.1,1.1))\n",
    "ax[2].set_xlabel('False Positive Rate')\n",
    "ax[2].set_ylabel('True Positive Rate')\n",
    "plt.tight_layout()\n",
    "plt.show()"
   ]
  },
  {
   "cell_type": "markdown",
   "metadata": {},
   "source": [
    "# Compare"
   ]
  },
  {
   "cell_type": "code",
   "execution_count": 32,
   "metadata": {},
   "outputs": [],
   "source": [
    "from sklearn.ensemble import RandomForestClassifier"
   ]
  },
  {
   "cell_type": "code",
   "execution_count": 33,
   "metadata": {},
   "outputs": [],
   "source": [
    "frs = RandomForestClassifier(n_estimators=20)\n",
    "frs_probs = cross_val_predict(frs, N_train, s_train_0.ravel(), cv=3, method='predict_proba')\n",
    "p_frs = cross_val_predict(frs, N_train, s_train_0.ravel(), cv=3)"
   ]
  },
  {
   "cell_type": "code",
   "execution_count": 34,
   "metadata": {},
   "outputs": [],
   "source": [
    "frs_scores = frs_probs[:,1]"
   ]
  },
  {
   "cell_type": "code",
   "execution_count": 35,
   "metadata": {},
   "outputs": [
    {
     "name": "stdout",
     "output_type": "stream",
     "text": [
      "              precision    recall  f1-score   support\n",
      "\n",
      "       False       0.86      0.93      0.89     58614\n",
      "        True       0.24      0.13      0.17     10421\n",
      "\n",
      "    accuracy                           0.81     69035\n",
      "   macro avg       0.55      0.53      0.53     69035\n",
      "weighted avg       0.76      0.81      0.78     69035\n",
      "\n"
     ]
    }
   ],
   "source": [
    "print(mx.classification_report(s_train_0, p_frs))"
   ]
  },
  {
   "cell_type": "code",
   "execution_count": 36,
   "metadata": {},
   "outputs": [
    {
     "data": {
      "image/png": "[encoded data removed]",
      "text/plain": [
       "<Figure size 1008x360 with 6 Axes>"
      ]
     },
     "metadata": {
      "needs_background": "light"
     },
     "output_type": "display_data"
    }
   ],
   "source": [
    "cm_frs = mx.confusion_matrix(s_train_0, p_frs, labels=labels)\n",
    "\n",
    "fig, ax = plt.subplots(ncols=3, nrows=1, figsize=(14, 5))\n",
    "cm_plot(ax[0], labels, cm_sgd, 'SGD', fig)\n",
    "cm_plot(ax[1], labels, cm_no, 'NO', fig)\n",
    "cm_plot(ax[2], labels, cm_frs, 'RandomForest', fig)\n",
    "plt.tight_layout()\n",
    "plt.show()"
   ]
  },
  {
   "cell_type": "code",
   "execution_count": 37,
   "metadata": {},
   "outputs": [],
   "source": [
    "fpr_f, tpr_f, thresholds_roc_f = mx.roc_curve(s_train_0, frs_scores)"
   ]
  },
  {
   "cell_type": "code",
   "execution_count": 38,
   "metadata": {},
   "outputs": [
    {
     "data": {
      "image/png": "[encoded data removed]",
      "text/plain": [
       "<Figure size 432x432 with 1 Axes>"
      ]
     },
     "metadata": {
      "needs_background": "light"
     },
     "output_type": "display_data"
    }
   ],
   "source": [
    "fig, ax = plt.subplots(ncols=1, nrows=1, figsize=(6, 6))\n",
    "ax.plot(fpr[:-1], tpr[:-1])\n",
    "ax.plot(fpr_f[:-1], tpr_f[:-1])\n",
    "ax.set_xlim((-0.1,1.1))\n",
    "ax.set_ylim((-0.1,1.1))\n",
    "ax.set_xlabel('False Positive Rate')\n",
    "ax.set_ylabel('True Positive Rate')\n",
    "plt.tight_layout()\n",
    "plt.show()"
   ]
  },
  {
   "cell_type": "markdown",
   "metadata": {},
   "source": [
    "# Combine numeric and categorical"
   ]
  },
  {
   "cell_type": "code",
   "execution_count": 39,
   "metadata": {},
   "outputs": [],
   "source": [
    "Z_train = np.concatenate((N_train, H_train), axis=1) "
   ]
  },
  {
   "cell_type": "code",
   "execution_count": 40,
   "metadata": {},
   "outputs": [],
   "source": [
    "sgd = SGDClassifier()\n",
    "sgd.fit(Z_train, s_train_0.ravel())\n",
    "p_all = cross_val_predict(sgd, Z_train, s_train_0.ravel(), cv=3)"
   ]
  },
  {
   "cell_type": "code",
   "execution_count": 41,
   "metadata": {},
   "outputs": [
    {
     "name": "stdout",
     "output_type": "stream",
     "text": [
      "              precision    recall  f1-score   support\n",
      "\n",
      "       False       0.85      1.00      0.92     58614\n",
      "        True       0.00      0.00      0.00     10421\n",
      "\n",
      "    accuracy                           0.85     69035\n",
      "   macro avg       0.42      0.50      0.46     69035\n",
      "weighted avg       0.72      0.85      0.78     69035\n",
      "\n"
     ]
    },
    {
     "name": "stderr",
     "output_type": "stream",
     "text": [
      "/anaconda3/lib/python3.7/site-packages/sklearn/metrics/classification.py:1437: UndefinedMetricWarning: Precision and F-score are ill-defined and being set to 0.0 in labels with no predicted samples.\n",
      "  'precision', 'predicted', average, warn_for)\n"
     ]
    }
   ],
   "source": [
    "print(mx.classification_report(s_train_0.ravel(), p_all))"
   ]
  },
  {
   "cell_type": "code",
   "execution_count": 42,
   "metadata": {},
   "outputs": [
    {
     "data": {
      "image/png": "[encoded data removed]",
      "text/plain": [
       "<Figure size 432x432 with 2 Axes>"
      ]
     },
     "metadata": {
      "needs_background": "light"
     },
     "output_type": "display_data"
    }
   ],
   "source": [
    "cm_all = mx.confusion_matrix(s_train_0.ravel(), p_all, labels=[True, False])\n",
    "\n",
    "fig, ax = plt.subplots(ncols=1, nrows=1, figsize=(6, 6))\n",
    "cm_plot(ax, labels, cm_all, 'ALL', fig)\n",
    "plt.tight_layout()\n",
    "plt.show()"
   ]
  },
  {
   "cell_type": "code",
   "execution_count": null,
   "metadata": {},
   "outputs": [],
   "source": []
  },
  {
   "cell_type": "code",
   "execution_count": null,
   "metadata": {},
   "outputs": [],
   "source": []
  }
 ],
 "metadata": {
  "kernelspec": {
   "display_name": "Python 3",
   "language": "python",
   "name": "python3"
  },
  "language_info": {
   "codemirror_mode": {
    "name": "ipython",
    "version": 3
   },
   "file_extension": ".py",
   "mimetype": "text/x-python",
   "name": "python",
   "nbconvert_exporter": "python",
   "pygments_lexer": "ipython3",
   "version": "3.7.1"
  }
 },
 "nbformat": 4,
 "nbformat_minor": 2
}
