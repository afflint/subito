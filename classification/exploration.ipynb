{
 "cells": [
  {
   "cell_type": "code",
   "execution_count": 1,
   "metadata": {},
   "outputs": [],
   "source": [
    "import numpy as np\n",
    "import pandas as pd\n",
    "import matplotlib.pyplot as plt"
   ]
  },
  {
   "cell_type": "markdown",
   "metadata": {},
   "source": [
    "# Data load & exploration"
   ]
  },
  {
   "cell_type": "code",
   "execution_count": 2,
   "metadata": {},
   "outputs": [],
   "source": [
    "file = '../data/classification.xlsx'\n",
    "D = pd.read_excel(file)"
   ]
  },
  {
   "cell_type": "code",
   "execution_count": 3,
   "metadata": {},
   "outputs": [
    {
     "data": {
      "text/html": [
       "<div>\n",
       "<style scoped>\n",
       "    .dataframe tbody tr th:only-of-type {\n",
       "        vertical-align: middle;\n",
       "    }\n",
       "\n",
       "    .dataframe tbody tr th {\n",
       "        vertical-align: top;\n",
       "    }\n",
       "\n",
       "    .dataframe thead th {\n",
       "        text-align: right;\n",
       "    }\n",
       "</style>\n",
       "<table border=\"1\" class=\"dataframe\">\n",
       "  <thead>\n",
       "    <tr style=\"text-align: right;\">\n",
       "      <th></th>\n",
       "      <th>ad_id</th>\n",
       "      <th>days_from_approvation</th>\n",
       "      <th>num_images</th>\n",
       "      <th>price</th>\n",
       "    </tr>\n",
       "  </thead>\n",
       "  <tbody>\n",
       "    <tr>\n",
       "      <th>count</th>\n",
       "      <td>98416.000000</td>\n",
       "      <td>98416.000000</td>\n",
       "      <td>98265.000000</td>\n",
       "      <td>8.642800e+04</td>\n",
       "    </tr>\n",
       "    <tr>\n",
       "      <th>mean</th>\n",
       "      <td>49208.500000</td>\n",
       "      <td>200.422157</td>\n",
       "      <td>3.646090</td>\n",
       "      <td>1.430352e+04</td>\n",
       "    </tr>\n",
       "    <tr>\n",
       "      <th>std</th>\n",
       "      <td>28410.396383</td>\n",
       "      <td>315.623538</td>\n",
       "      <td>3.540862</td>\n",
       "      <td>8.261853e+04</td>\n",
       "    </tr>\n",
       "    <tr>\n",
       "      <th>min</th>\n",
       "      <td>1.000000</td>\n",
       "      <td>0.000000</td>\n",
       "      <td>0.000000</td>\n",
       "      <td>0.000000e+00</td>\n",
       "    </tr>\n",
       "    <tr>\n",
       "      <th>25%</th>\n",
       "      <td>24604.750000</td>\n",
       "      <td>20.000000</td>\n",
       "      <td>1.000000</td>\n",
       "      <td>3.000000e+01</td>\n",
       "    </tr>\n",
       "    <tr>\n",
       "      <th>50%</th>\n",
       "      <td>49208.500000</td>\n",
       "      <td>60.000000</td>\n",
       "      <td>3.000000</td>\n",
       "      <td>1.000000e+02</td>\n",
       "    </tr>\n",
       "    <tr>\n",
       "      <th>75%</th>\n",
       "      <td>73812.250000</td>\n",
       "      <td>235.000000</td>\n",
       "      <td>5.000000</td>\n",
       "      <td>5.000000e+02</td>\n",
       "    </tr>\n",
       "    <tr>\n",
       "      <th>max</th>\n",
       "      <td>98416.000000</td>\n",
       "      <td>3473.000000</td>\n",
       "      <td>30.000000</td>\n",
       "      <td>6.200000e+06</td>\n",
       "    </tr>\n",
       "  </tbody>\n",
       "</table>\n",
       "</div>"
      ],
      "text/plain": [
       "              ad_id  days_from_approvation    num_images         price\n",
       "count  98416.000000           98416.000000  98265.000000  8.642800e+04\n",
       "mean   49208.500000             200.422157      3.646090  1.430352e+04\n",
       "std    28410.396383             315.623538      3.540862  8.261853e+04\n",
       "min        1.000000               0.000000      0.000000  0.000000e+00\n",
       "25%    24604.750000              20.000000      1.000000  3.000000e+01\n",
       "50%    49208.500000              60.000000      3.000000  1.000000e+02\n",
       "75%    73812.250000             235.000000      5.000000  5.000000e+02\n",
       "max    98416.000000            3473.000000     30.000000  6.200000e+06"
      ]
     },
     "execution_count": 3,
     "metadata": {},
     "output_type": "execute_result"
    }
   ],
   "source": [
    "D.describe()"
   ]
  },
  {
   "cell_type": "code",
   "execution_count": 4,
   "metadata": {},
   "outputs": [
    {
     "name": "stdout",
     "output_type": "stream",
     "text": [
      "<class 'pandas.core.frame.DataFrame'>\n",
      "RangeIndex: 98416 entries, 0 to 98415\n",
      "Data columns (total 9 columns):\n",
      "ad_id                    98416 non-null int64\n",
      "days_from_approvation    98416 non-null int64\n",
      "num_images               98265 non-null float64\n",
      "ads_is_pro               98416 non-null bool\n",
      "category                 98416 non-null object\n",
      "macrocategory_name       98416 non-null object\n",
      "price                    86428 non-null float64\n",
      "region                   98416 non-null object\n",
      "dependent variable       98416 non-null object\n",
      "dtypes: bool(1), float64(2), int64(2), object(4)\n",
      "memory usage: 6.1+ MB\n"
     ]
    }
   ],
   "source": [
    "D.info()"
   ]
  },
  {
   "cell_type": "code",
   "execution_count": 5,
   "metadata": {},
   "outputs": [
    {
     "data": {
      "text/plain": [
       "Arredamento e Casalinghi     0.123212\n",
       "Accessori Auto               0.118944\n",
       "Abbigliamento e Accessori    0.081247\n",
       "Auto                         0.062144\n",
       "Collezionismo                0.054056\n",
       "Name: category, dtype: float64"
      ]
     },
     "execution_count": 5,
     "metadata": {},
     "output_type": "execute_result"
    }
   ],
   "source": [
    "D['category'].value_counts().iloc[:5] / D.shape[0]"
   ]
  },
  {
   "cell_type": "code",
   "execution_count": 6,
   "metadata": {},
   "outputs": [
    {
     "data": {
      "text/plain": [
       "PER LA CASA e LA PERSONA    0.297259\n",
       "VEICOLI                     0.292463\n",
       "SPORTS E HOBBY              0.169332\n",
       "IMMOBILI                    0.114392\n",
       "ELETTRONICA                 0.096285\n",
       "Name: macrocategory_name, dtype: float64"
      ]
     },
     "execution_count": 6,
     "metadata": {},
     "output_type": "execute_result"
    }
   ],
   "source": [
    "D['macrocategory_name'].value_counts().iloc[:5] / D.shape[0]"
   ]
  },
  {
   "cell_type": "code",
   "execution_count": 7,
   "metadata": {},
   "outputs": [
    {
     "data": {
      "text/plain": [
       "cancellato senza alcuna ragione di cancellazione    0.603205\n",
       "Non venduto                                         0.150687\n",
       "Venduto su Subito                                   0.111811\n",
       "active                                              0.099994\n",
       "Venduto su altri canali                             0.034303\n",
       "Name: dependent variable, dtype: float64"
      ]
     },
     "execution_count": 7,
     "metadata": {},
     "output_type": "execute_result"
    }
   ],
   "source": [
    "D['dependent variable'].value_counts() / D.shape[0]"
   ]
  },
  {
   "cell_type": "markdown",
   "metadata": {},
   "source": [
    "# Handle null values"
   ]
  },
  {
   "cell_type": "code",
   "execution_count": 8,
   "metadata": {},
   "outputs": [],
   "source": [
    "D.dropna(inplace=True)"
   ]
  },
  {
   "cell_type": "markdown",
   "metadata": {},
   "source": [
    "# Encoding classes"
   ]
  },
  {
   "cell_type": "code",
   "execution_count": 9,
   "metadata": {},
   "outputs": [],
   "source": [
    "from sklearn import preprocessing as pre"
   ]
  },
  {
   "cell_type": "code",
   "execution_count": 10,
   "metadata": {},
   "outputs": [],
   "source": [
    "target = 'dependent variable'\n",
    "X, target_values = D[[x for x in D.columns if x != target]], D[target].values"
   ]
  },
  {
   "cell_type": "code",
   "execution_count": 11,
   "metadata": {},
   "outputs": [],
   "source": [
    "encoder = pre.OrdinalEncoder()\n",
    "y = encoder.fit_transform(target_values.reshape(-1, 1))"
   ]
  },
  {
   "cell_type": "code",
   "execution_count": 12,
   "metadata": {},
   "outputs": [
    {
     "name": "stdout",
     "output_type": "stream",
     "text": [
      "[array(['Non venduto', 'Venduto su Subito', 'Venduto su altri canali',\n",
      "       'active', 'cancellato senza alcuna ragione di cancellazione'],\n",
      "      dtype=object)]\n",
      "[['Non venduto']\n",
      " ['Venduto su Subito']\n",
      " ['Venduto su altri canali']\n",
      " ['active']\n",
      " ['cancellato senza alcuna ragione di cancellazione']]\n"
     ]
    }
   ],
   "source": [
    "print(encoder.categories_)\n",
    "print(encoder.inverse_transform(np.array(list(range(len(encoder.categories_[0])))).reshape(-1, 1)))"
   ]
  },
  {
   "cell_type": "markdown",
   "metadata": {},
   "source": [
    "# Train and test split"
   ]
  },
  {
   "cell_type": "code",
   "execution_count": 13,
   "metadata": {},
   "outputs": [],
   "source": [
    "from sklearn.model_selection import train_test_split"
   ]
  },
  {
   "cell_type": "markdown",
   "metadata": {},
   "source": [
    "## Unstratified split"
   ]
  },
  {
   "cell_type": "code",
   "execution_count": 14,
   "metadata": {},
   "outputs": [],
   "source": [
    "X_train, X_test, y_train, y_test = train_test_split(X, y, test_size=0.2, random_state=42)"
   ]
  },
  {
   "cell_type": "code",
   "execution_count": 15,
   "metadata": {},
   "outputs": [
    {
     "data": {
      "image/png": "[encoded data removed]",
      "text/plain": [
       "<Figure size 1008x288 with 1 Axes>"
      ]
     },
     "metadata": {
      "needs_background": "light"
     },
     "output_type": "display_data"
    }
   ],
   "source": [
    "fig, ax = plt.subplots(figsize=(14, 4))\n",
    "df = pd.DataFrame({\n",
    "    'original': X.macrocategory_name.value_counts() / X.shape[0],\n",
    "    'shuffle': X_train.macrocategory_name.value_counts() / X_train.shape[0]})\n",
    "df.plot.barh(ax=ax, rot=0)\n",
    "plt.show()"
   ]
  },
  {
   "cell_type": "code",
   "execution_count": 16,
   "metadata": {},
   "outputs": [],
   "source": [
    "S_train, S_test, s_train, s_test = train_test_split(X, y, stratify=X.category, test_size=0.2, random_state=42)"
   ]
  },
  {
   "cell_type": "code",
   "execution_count": 17,
   "metadata": {},
   "outputs": [
    {
     "data": {
      "image/png": "[encoded data removed]",
      "text/plain": [
       "<Figure size 1008x288 with 1 Axes>"
      ]
     },
     "metadata": {
      "needs_background": "light"
     },
     "output_type": "display_data"
    }
   ],
   "source": [
    "fig, ax = plt.subplots(figsize=(14, 4))\n",
    "df = pd.DataFrame({\n",
    "    'original': X.macrocategory_name.value_counts() / X.shape[0],\n",
    "    'shuffle': X_train.macrocategory_name.value_counts() / X_train.shape[0],\n",
    "    'stratified': S_train.macrocategory_name.value_counts() / S_train.shape[0],\n",
    "})\n",
    "df.plot.barh(ax=ax, rot=0)\n",
    "plt.show()"
   ]
  },
  {
   "cell_type": "code",
   "execution_count": 18,
   "metadata": {},
   "outputs": [
    {
     "data": {
      "text/html": [
       "<div>\n",
       "<style scoped>\n",
       "    .dataframe tbody tr th:only-of-type {\n",
       "        vertical-align: middle;\n",
       "    }\n",
       "\n",
       "    .dataframe tbody tr th {\n",
       "        vertical-align: top;\n",
       "    }\n",
       "\n",
       "    .dataframe thead th {\n",
       "        text-align: right;\n",
       "    }\n",
       "</style>\n",
       "<table border=\"1\" class=\"dataframe\">\n",
       "  <thead>\n",
       "    <tr style=\"text-align: right;\">\n",
       "      <th></th>\n",
       "      <th>original</th>\n",
       "      <th>shuffle</th>\n",
       "      <th>stratified</th>\n",
       "    </tr>\n",
       "  </thead>\n",
       "  <tbody>\n",
       "    <tr>\n",
       "      <th>PER LA CASA e LA PERSONA</th>\n",
       "      <td>0.318945</td>\n",
       "      <td>0.319403</td>\n",
       "      <td>0.318954</td>\n",
       "    </tr>\n",
       "    <tr>\n",
       "      <th>VEICOLI</th>\n",
       "      <td>0.299140</td>\n",
       "      <td>0.298037</td>\n",
       "      <td>0.299124</td>\n",
       "    </tr>\n",
       "    <tr>\n",
       "      <th>SPORTS E HOBBY</th>\n",
       "      <td>0.167810</td>\n",
       "      <td>0.167698</td>\n",
       "      <td>0.167828</td>\n",
       "    </tr>\n",
       "    <tr>\n",
       "      <th>ELETTRONICA</th>\n",
       "      <td>0.104283</td>\n",
       "      <td>0.104990</td>\n",
       "      <td>0.104280</td>\n",
       "    </tr>\n",
       "    <tr>\n",
       "      <th>IMMOBILI</th>\n",
       "      <td>0.102904</td>\n",
       "      <td>0.102977</td>\n",
       "      <td>0.102904</td>\n",
       "    </tr>\n",
       "    <tr>\n",
       "      <th>ALTRO</th>\n",
       "      <td>0.003836</td>\n",
       "      <td>0.003810</td>\n",
       "      <td>0.003839</td>\n",
       "    </tr>\n",
       "    <tr>\n",
       "      <th>LAVORO E SERVIZI</th>\n",
       "      <td>0.003082</td>\n",
       "      <td>0.003085</td>\n",
       "      <td>0.003071</td>\n",
       "    </tr>\n",
       "  </tbody>\n",
       "</table>\n",
       "</div>"
      ],
      "text/plain": [
       "                          original   shuffle  stratified\n",
       "PER LA CASA e LA PERSONA  0.318945  0.319403    0.318954\n",
       "VEICOLI                   0.299140  0.298037    0.299124\n",
       "SPORTS E HOBBY            0.167810  0.167698    0.167828\n",
       "ELETTRONICA               0.104283  0.104990    0.104280\n",
       "IMMOBILI                  0.102904  0.102977    0.102904\n",
       "ALTRO                     0.003836  0.003810    0.003839\n",
       "LAVORO E SERVIZI          0.003082  0.003085    0.003071"
      ]
     },
     "execution_count": 18,
     "metadata": {},
     "output_type": "execute_result"
    }
   ],
   "source": [
    "df"
   ]
  },
  {
   "cell_type": "code",
   "execution_count": 19,
   "metadata": {},
   "outputs": [
    {
     "data": {
      "text/html": [
       "<div>\n",
       "<style scoped>\n",
       "    .dataframe tbody tr th:only-of-type {\n",
       "        vertical-align: middle;\n",
       "    }\n",
       "\n",
       "    .dataframe tbody tr th {\n",
       "        vertical-align: top;\n",
       "    }\n",
       "\n",
       "    .dataframe thead th {\n",
       "        text-align: right;\n",
       "    }\n",
       "</style>\n",
       "<table border=\"1\" class=\"dataframe\">\n",
       "  <thead>\n",
       "    <tr style=\"text-align: right;\">\n",
       "      <th></th>\n",
       "      <th>original</th>\n",
       "      <th>shuffle</th>\n",
       "      <th>stratified</th>\n",
       "    </tr>\n",
       "  </thead>\n",
       "  <tbody>\n",
       "    <tr>\n",
       "      <th>original</th>\n",
       "      <td>1.000000</td>\n",
       "      <td>0.999991</td>\n",
       "      <td>1.000000</td>\n",
       "    </tr>\n",
       "    <tr>\n",
       "      <th>shuffle</th>\n",
       "      <td>0.999991</td>\n",
       "      <td>1.000000</td>\n",
       "      <td>0.999991</td>\n",
       "    </tr>\n",
       "    <tr>\n",
       "      <th>stratified</th>\n",
       "      <td>1.000000</td>\n",
       "      <td>0.999991</td>\n",
       "      <td>1.000000</td>\n",
       "    </tr>\n",
       "  </tbody>\n",
       "</table>\n",
       "</div>"
      ],
      "text/plain": [
       "            original   shuffle  stratified\n",
       "original    1.000000  0.999991    1.000000\n",
       "shuffle     0.999991  1.000000    0.999991\n",
       "stratified  1.000000  0.999991    1.000000"
      ]
     },
     "execution_count": 19,
     "metadata": {},
     "output_type": "execute_result"
    }
   ],
   "source": [
    "df.corr()"
   ]
  },
  {
   "cell_type": "code",
   "execution_count": 20,
   "metadata": {},
   "outputs": [
    {
     "data": {
      "text/html": [
       "<div>\n",
       "<style scoped>\n",
       "    .dataframe tbody tr th:only-of-type {\n",
       "        vertical-align: middle;\n",
       "    }\n",
       "\n",
       "    .dataframe tbody tr th {\n",
       "        vertical-align: top;\n",
       "    }\n",
       "\n",
       "    .dataframe thead th {\n",
       "        text-align: right;\n",
       "    }\n",
       "</style>\n",
       "<table border=\"1\" class=\"dataframe\">\n",
       "  <thead>\n",
       "    <tr style=\"text-align: right;\">\n",
       "      <th></th>\n",
       "      <th>ad_id</th>\n",
       "      <th>days_from_approvation</th>\n",
       "      <th>num_images</th>\n",
       "      <th>ads_is_pro</th>\n",
       "      <th>category</th>\n",
       "      <th>macrocategory_name</th>\n",
       "      <th>price</th>\n",
       "      <th>region</th>\n",
       "    </tr>\n",
       "  </thead>\n",
       "  <tbody>\n",
       "    <tr>\n",
       "      <th>63295</th>\n",
       "      <td>63296</td>\n",
       "      <td>73</td>\n",
       "      <td>4.0</td>\n",
       "      <td>False</td>\n",
       "      <td>Biciclette</td>\n",
       "      <td>SPORTS E HOBBY</td>\n",
       "      <td>239.0</td>\n",
       "      <td>Lazio</td>\n",
       "    </tr>\n",
       "    <tr>\n",
       "      <th>90669</th>\n",
       "      <td>90670</td>\n",
       "      <td>15</td>\n",
       "      <td>5.0</td>\n",
       "      <td>False</td>\n",
       "      <td>Auto</td>\n",
       "      <td>VEICOLI</td>\n",
       "      <td>1200.0</td>\n",
       "      <td>Veneto</td>\n",
       "    </tr>\n",
       "    <tr>\n",
       "      <th>858</th>\n",
       "      <td>859</td>\n",
       "      <td>280</td>\n",
       "      <td>1.0</td>\n",
       "      <td>True</td>\n",
       "      <td>Accessori Moto</td>\n",
       "      <td>VEICOLI</td>\n",
       "      <td>90.0</td>\n",
       "      <td>Abruzzo</td>\n",
       "    </tr>\n",
       "    <tr>\n",
       "      <th>79983</th>\n",
       "      <td>79984</td>\n",
       "      <td>40</td>\n",
       "      <td>2.0</td>\n",
       "      <td>False</td>\n",
       "      <td>Strumenti Musicali</td>\n",
       "      <td>SPORTS E HOBBY</td>\n",
       "      <td>70.0</td>\n",
       "      <td>Puglia</td>\n",
       "    </tr>\n",
       "    <tr>\n",
       "      <th>47206</th>\n",
       "      <td>47207</td>\n",
       "      <td>376</td>\n",
       "      <td>3.0</td>\n",
       "      <td>False</td>\n",
       "      <td>Biciclette</td>\n",
       "      <td>SPORTS E HOBBY</td>\n",
       "      <td>1950.0</td>\n",
       "      <td>Trentino-Alto Adige</td>\n",
       "    </tr>\n",
       "  </tbody>\n",
       "</table>\n",
       "</div>"
      ],
      "text/plain": [
       "       ad_id  days_from_approvation  num_images  ads_is_pro  \\\n",
       "63295  63296                     73         4.0       False   \n",
       "90669  90670                     15         5.0       False   \n",
       "858      859                    280         1.0        True   \n",
       "79983  79984                     40         2.0       False   \n",
       "47206  47207                    376         3.0       False   \n",
       "\n",
       "                 category macrocategory_name   price               region  \n",
       "63295          Biciclette     SPORTS E HOBBY   239.0                Lazio  \n",
       "90669                Auto            VEICOLI  1200.0               Veneto  \n",
       "858        Accessori Moto            VEICOLI    90.0              Abruzzo  \n",
       "79983  Strumenti Musicali     SPORTS E HOBBY    70.0               Puglia  \n",
       "47206          Biciclette     SPORTS E HOBBY  1950.0  Trentino-Alto Adige  "
      ]
     },
     "execution_count": 20,
     "metadata": {},
     "output_type": "execute_result"
    }
   ],
   "source": [
    "S_train.head()"
   ]
  },
  {
   "cell_type": "markdown",
   "metadata": {},
   "source": [
    "# Numeric vs categorical features"
   ]
  },
  {
   "cell_type": "code",
   "execution_count": 21,
   "metadata": {},
   "outputs": [],
   "source": [
    "n_cols, c_cols = [], []\n",
    "for i, x in S_train.dtypes.items():\n",
    "    if i != 'ad_id' and x in [np.int64, np.float64]:\n",
    "        n_cols.append(i)\n",
    "    elif i != 'ad_id':\n",
    "        c_cols.append(i)\n",
    "    else:\n",
    "        pass\n",
    "N_train, C_train = S_train[n_cols], S_train[c_cols]\n",
    "N_test, C_test = S_test[n_cols], S_test[c_cols]"
   ]
  },
  {
   "cell_type": "markdown",
   "metadata": {},
   "source": [
    "## Deal with numeric values"
   ]
  },
  {
   "cell_type": "code",
   "execution_count": 22,
   "metadata": {},
   "outputs": [
    {
     "data": {
      "text/html": [
       "<div>\n",
       "<style scoped>\n",
       "    .dataframe tbody tr th:only-of-type {\n",
       "        vertical-align: middle;\n",
       "    }\n",
       "\n",
       "    .dataframe tbody tr th {\n",
       "        vertical-align: top;\n",
       "    }\n",
       "\n",
       "    .dataframe thead th {\n",
       "        text-align: right;\n",
       "    }\n",
       "</style>\n",
       "<table border=\"1\" class=\"dataframe\">\n",
       "  <thead>\n",
       "    <tr style=\"text-align: right;\">\n",
       "      <th></th>\n",
       "      <th>days_from_approvation</th>\n",
       "      <th>num_images</th>\n",
       "      <th>price</th>\n",
       "    </tr>\n",
       "  </thead>\n",
       "  <tbody>\n",
       "    <tr>\n",
       "      <th>days_from_approvation</th>\n",
       "      <td>1.000000</td>\n",
       "      <td>-0.098641</td>\n",
       "      <td>-0.011593</td>\n",
       "    </tr>\n",
       "    <tr>\n",
       "      <th>num_images</th>\n",
       "      <td>-0.098641</td>\n",
       "      <td>1.000000</td>\n",
       "      <td>0.262845</td>\n",
       "    </tr>\n",
       "    <tr>\n",
       "      <th>price</th>\n",
       "      <td>-0.011593</td>\n",
       "      <td>0.262845</td>\n",
       "      <td>1.000000</td>\n",
       "    </tr>\n",
       "  </tbody>\n",
       "</table>\n",
       "</div>"
      ],
      "text/plain": [
       "                       days_from_approvation  num_images     price\n",
       "days_from_approvation               1.000000   -0.098641 -0.011593\n",
       "num_images                         -0.098641    1.000000  0.262845\n",
       "price                              -0.011593    0.262845  1.000000"
      ]
     },
     "execution_count": 22,
     "metadata": {},
     "output_type": "execute_result"
    }
   ],
   "source": [
    "N_train.corr()"
   ]
  },
  {
   "cell_type": "markdown",
   "metadata": {},
   "source": [
    "### Linear transformations"
   ]
  },
  {
   "cell_type": "code",
   "execution_count": 23,
   "metadata": {},
   "outputs": [],
   "source": [
    "N_std = pre.StandardScaler().fit_transform(N_train)\n",
    "N_mms = pre.MinMaxScaler().fit_transform(N_train)\n",
    "N_mab = pre.MaxAbsScaler().fit_transform(N_train)"
   ]
  },
  {
   "cell_type": "markdown",
   "metadata": {},
   "source": [
    "### Non linear transformations"
   ]
  },
  {
   "cell_type": "code",
   "execution_count": 24,
   "metadata": {},
   "outputs": [],
   "source": [
    "N_qtl = pre.QuantileTransformer().fit_transform(N_train)\n",
    "N_pow = pre.PowerTransformer().fit_transform(N_train)\n",
    "N_norm = pre.Normalizer().fit_transform(N_train)"
   ]
  },
  {
   "cell_type": "code",
   "execution_count": 25,
   "metadata": {},
   "outputs": [
    {
     "data": {
      "image/png": "[encoded data removed]",
      "text/plain": [
       "<Figure size 1008x432 with 6 Axes>"
      ]
     },
     "metadata": {
      "needs_background": "light"
     },
     "output_type": "display_data"
    }
   ],
   "source": [
    "fig, ax = plt.subplots(ncols=3, nrows=2, figsize=(14, 6))\n",
    "ax[0,0].boxplot(N_std)\n",
    "ax[0,1].boxplot(N_mms)\n",
    "ax[0,2].boxplot(N_mab)\n",
    "ax[1,0].boxplot(N_qtl)\n",
    "ax[1,1].boxplot(N_pow)\n",
    "ax[1,2].boxplot(N_norm)\n",
    "plt.tight_layout()\n",
    "plt.show()"
   ]
  },
  {
   "cell_type": "code",
   "execution_count": 26,
   "metadata": {},
   "outputs": [
    {
     "name": "stdout",
     "output_type": "stream",
     "text": [
      "[ 4.44635999e-17 -6.23725498e-17 -4.11699999e-18] [1. 1. 1.]\n",
      "[0.05718903 0.12612008 0.00233659] [0.08955431 0.11938215 0.01373122]\n",
      "[0.05718903 0.12612008 0.00233659] [0.08955431 0.11938215 0.01373122]\n",
      "[0.49977571 0.49971549 0.50003892] [0.28907347 0.28567414 0.28859997]\n",
      "[-1.66738500e-16  4.58016249e-16 -4.03465999e-17] [1. 1. 1.]\n",
      "[0.49781998 0.02318968 0.65093613] [0.41809777 0.04843616 0.38828837]\n"
     ]
    }
   ],
   "source": [
    "print(N_std.mean(axis=0), N_std.std(axis=0))\n",
    "print(N_mms.mean(axis=0), N_mms.std(axis=0))\n",
    "print(N_mab.mean(axis=0), N_mab.std(axis=0))\n",
    "print(N_qtl.mean(axis=0), N_qtl.std(axis=0))\n",
    "print(N_pow.mean(axis=0), N_pow.std(axis=0))\n",
    "print(N_norm.mean(axis=0), N_norm.std(axis=0))"
   ]
  },
  {
   "cell_type": "markdown",
   "metadata": {},
   "source": [
    "## Discretize numbers"
   ]
  },
  {
   "cell_type": "code",
   "execution_count": 27,
   "metadata": {},
   "outputs": [],
   "source": [
    "N_bin = pre.KBinsDiscretizer(n_bins=[2, 4, 3], \n",
    "                             encode='ordinal').fit_transform(N_train)\n",
    "N_thr = pre.Binarizer(threshold=0.02).fit_transform(N_mms)"
   ]
  },
  {
   "cell_type": "code",
   "execution_count": 28,
   "metadata": {},
   "outputs": [
    {
     "data": {
      "text/html": [
       "<div>\n",
       "<style scoped>\n",
       "    .dataframe tbody tr th:only-of-type {\n",
       "        vertical-align: middle;\n",
       "    }\n",
       "\n",
       "    .dataframe tbody tr th {\n",
       "        vertical-align: top;\n",
       "    }\n",
       "\n",
       "    .dataframe thead th {\n",
       "        text-align: right;\n",
       "    }\n",
       "</style>\n",
       "<table border=\"1\" class=\"dataframe\">\n",
       "  <thead>\n",
       "    <tr style=\"text-align: right;\">\n",
       "      <th></th>\n",
       "      <th>days_from_approvation</th>\n",
       "      <th>num_images</th>\n",
       "      <th>price</th>\n",
       "    </tr>\n",
       "  </thead>\n",
       "  <tbody>\n",
       "    <tr>\n",
       "      <th>63295</th>\n",
       "      <td>73</td>\n",
       "      <td>4.0</td>\n",
       "      <td>239.0</td>\n",
       "    </tr>\n",
       "    <tr>\n",
       "      <th>90669</th>\n",
       "      <td>15</td>\n",
       "      <td>5.0</td>\n",
       "      <td>1200.0</td>\n",
       "    </tr>\n",
       "    <tr>\n",
       "      <th>858</th>\n",
       "      <td>280</td>\n",
       "      <td>1.0</td>\n",
       "      <td>90.0</td>\n",
       "    </tr>\n",
       "    <tr>\n",
       "      <th>79983</th>\n",
       "      <td>40</td>\n",
       "      <td>2.0</td>\n",
       "      <td>70.0</td>\n",
       "    </tr>\n",
       "    <tr>\n",
       "      <th>47206</th>\n",
       "      <td>376</td>\n",
       "      <td>3.0</td>\n",
       "      <td>1950.0</td>\n",
       "    </tr>\n",
       "  </tbody>\n",
       "</table>\n",
       "</div>"
      ],
      "text/plain": [
       "       days_from_approvation  num_images   price\n",
       "63295                     73         4.0   239.0\n",
       "90669                     15         5.0  1200.0\n",
       "858                      280         1.0    90.0\n",
       "79983                     40         2.0    70.0\n",
       "47206                    376         3.0  1950.0"
      ]
     },
     "execution_count": 28,
     "metadata": {},
     "output_type": "execute_result"
    }
   ],
   "source": [
    "N_train.iloc[:5]"
   ]
  },
  {
   "cell_type": "code",
   "execution_count": 29,
   "metadata": {},
   "outputs": [
    {
     "data": {
      "text/plain": [
       "array([[1., 2., 1.],\n",
       "       [0., 3., 2.],\n",
       "       [1., 1., 1.],\n",
       "       [0., 1., 1.],\n",
       "       [1., 2., 2.]])"
      ]
     },
     "execution_count": 29,
     "metadata": {},
     "output_type": "execute_result"
    }
   ],
   "source": [
    "N_bin[:5,:]"
   ]
  },
  {
   "cell_type": "code",
   "execution_count": 30,
   "metadata": {},
   "outputs": [
    {
     "data": {
      "text/plain": [
       "array([[1., 1., 0.],\n",
       "       [0., 1., 0.],\n",
       "       [1., 1., 0.],\n",
       "       [0., 1., 0.],\n",
       "       [1., 1., 0.]])"
      ]
     },
     "execution_count": 30,
     "metadata": {},
     "output_type": "execute_result"
    }
   ],
   "source": [
    "N_thr[:5,:]"
   ]
  },
  {
   "cell_type": "markdown",
   "metadata": {},
   "source": [
    "## Deal with categorical values"
   ]
  },
  {
   "cell_type": "code",
   "execution_count": 31,
   "metadata": {},
   "outputs": [],
   "source": [
    "hot = pre.OneHotEncoder()\n",
    "C_hot = hot.fit_transform(C_train)"
   ]
  },
  {
   "cell_type": "code",
   "execution_count": 32,
   "metadata": {},
   "outputs": [
    {
     "name": "stdout",
     "output_type": "stream",
     "text": [
      "  (0, 50)\t1.0\n",
      "  (0, 42)\t1.0\n",
      "  (0, 12)\t1.0\n",
      "  (0, 0)\t1.0\n",
      "  (1, 52)\t1.0\n",
      "  (1, 38)\t1.0\n",
      "  (1, 31)\t1.0\n",
      "  (1, 0)\t1.0\n"
     ]
    }
   ],
   "source": [
    "print(C_hot[[0,1000]])"
   ]
  },
  {
   "cell_type": "code",
   "execution_count": 33,
   "metadata": {},
   "outputs": [
    {
     "name": "stdout",
     "output_type": "stream",
     "text": [
      "<class 'scipy.sparse.csr.csr_matrix'>\n",
      "[array([False,  True]), array(['Abbigliamento e Accessori', 'Accessori Auto', 'Accessori Moto',\n",
      "       'Altri', 'Animali', 'Appartamenti', 'Arredamento e Casalinghi',\n",
      "       'Attrezzature di lavoro', 'Audio/Video', 'Auto', 'Biciclette',\n",
      "       'Camere/Posti letto', 'Candidati in cerca di lavoro',\n",
      "       'Caravan e Camper', 'Case vacanza', 'Collezionismo',\n",
      "       'Console e Videogiochi', 'Elettrodomestici', 'Fotografia',\n",
      "       'Garage e box', 'Giardino e Fai da te', 'Informatica',\n",
      "       'Libri e Riviste', 'Moto e Scooter', 'Musica e Film', 'Nautica',\n",
      "       'Offerte di lavoro', 'Sports', 'Strumenti Musicali', 'Telefonia',\n",
      "       'Terreni e rustici', 'Tutto per i bambini',\n",
      "       'Uffici e Locali commerciali', 'Veicoli commerciali',\n",
      "       'Ville singole e a schiera'], dtype=object), array(['ALTRO', 'ELETTRONICA', 'IMMOBILI', 'LAVORO E SERVIZI',\n",
      "       'PER LA CASA e LA PERSONA', 'SPORTS E HOBBY', 'VEICOLI'],\n",
      "      dtype=object), array(['Abruzzo', 'Basilicata', 'Calabria', 'Campania', 'Emilia-Romagna',\n",
      "       'Friuli-Venezia Giulia', 'Lazio', 'Liguria', 'Lombardia', 'Marche',\n",
      "       'Molise', 'Piemonte', 'Puglia', 'Sardegna', 'Sicilia', 'Toscana',\n",
      "       'Trentino-Alto Adige', 'Umbria', \"Valle d'Aosta\", 'Veneto'],\n",
      "      dtype=object)]\n"
     ]
    }
   ],
   "source": [
    "print(type(C_hot))\n",
    "print(hot.categories_)"
   ]
  },
  {
   "cell_type": "code",
   "execution_count": 34,
   "metadata": {},
   "outputs": [],
   "source": [
    "hot2 = pre.OneHotEncoder(sparse=False)\n",
    "C_hot2 = hot2.fit_transform(C_train)"
   ]
  },
  {
   "cell_type": "code",
   "execution_count": 35,
   "metadata": {},
   "outputs": [
    {
     "data": {
      "text/plain": [
       "array([[1., 0., 0., 0., 0., 0., 0., 0., 0., 0., 0., 0., 1., 0., 0., 0.,\n",
       "        0., 0., 0., 0., 0., 0., 0., 0., 0., 0., 0., 0., 0., 0., 0., 0.,\n",
       "        0., 0., 0., 0., 0., 0., 0., 0., 0., 0., 1., 0., 0., 0., 0., 0.,\n",
       "        0., 0., 1., 0., 0., 0., 0., 0., 0., 0., 0., 0., 0., 0., 0., 0.],\n",
       "       [1., 0., 0., 0., 0., 0., 0., 0., 0., 0., 0., 0., 0., 0., 0., 0.,\n",
       "        0., 0., 0., 0., 0., 0., 0., 0., 0., 0., 0., 0., 0., 0., 0., 1.,\n",
       "        0., 0., 0., 0., 0., 0., 1., 0., 0., 0., 0., 0., 0., 0., 0., 0.,\n",
       "        0., 0., 0., 0., 1., 0., 0., 0., 0., 0., 0., 0., 0., 0., 0., 0.]])"
      ]
     },
     "execution_count": 35,
     "metadata": {},
     "output_type": "execute_result"
    }
   ],
   "source": [
    "C_hot2[[0,1000]]"
   ]
  },
  {
   "cell_type": "code",
   "execution_count": 36,
   "metadata": {},
   "outputs": [
    {
     "data": {
      "text/plain": [
       "ads_is_pro                     False\n",
       "category                  Biciclette\n",
       "macrocategory_name    SPORTS E HOBBY\n",
       "region                         Lazio\n",
       "Name: 63295, dtype: object"
      ]
     },
     "execution_count": 36,
     "metadata": {},
     "output_type": "execute_result"
    }
   ],
   "source": [
    "C_train.iloc[0]"
   ]
  },
  {
   "cell_type": "code",
   "execution_count": 37,
   "metadata": {},
   "outputs": [
    {
     "name": "stdout",
     "output_type": "stream",
     "text": [
      "x0_False\n",
      "x1_Biciclette\n",
      "x2_SPORTS E HOBBY\n",
      "x3_Lazio\n"
     ]
    }
   ],
   "source": [
    "for x in np.where(C_hot2[0] > 0)[0]:\n",
    "    print(hot2.get_feature_names()[x])"
   ]
  },
  {
   "cell_type": "markdown",
   "metadata": {},
   "source": [
    "## Correlation with target"
   ]
  },
  {
   "cell_type": "code",
   "execution_count": 76,
   "metadata": {},
   "outputs": [
    {
     "data": {
      "image/png": "[encoded data removed]",
      "text/plain": [
       "<Figure size 864x576 with 15 Axes>"
      ]
     },
     "metadata": {
      "needs_background": "light"
     },
     "output_type": "display_data"
    }
   ],
   "source": [
    "fig, ax = plt.subplots(ncols=len(encoder.categories_[0]), nrows=len(N_train.columns), figsize=(12, 8))\n",
    "for j, cat in enumerate(encoder.categories_[0]):\n",
    "    cat_indexes = np.where(y_train.ravel() == j)[0]\n",
    "    for i, c in enumerate(N_train.columns):\n",
    "        V = N_train.iloc[cat_indexes][[c]]\n",
    "        ax[i,j].boxplot(pre.MinMaxScaler().fit_transform(V.values))\n",
    "        ax[i,j].set_title(\"{}, {}\".format(i, c))\n",
    "plt.tight_layout()\n",
    "plt.show()"
   ]
  },
  {
   "cell_type": "markdown",
   "metadata": {},
   "source": [
    "For categorical features, we aim at estimating $P(f \\mid C)$"
   ]
  },
  {
   "cell_type": "code",
   "execution_count": 78,
   "metadata": {},
   "outputs": [
    {
     "data": {
      "text/html": [
       "<div>\n",
       "<style scoped>\n",
       "    .dataframe tbody tr th:only-of-type {\n",
       "        vertical-align: middle;\n",
       "    }\n",
       "\n",
       "    .dataframe tbody tr th {\n",
       "        vertical-align: top;\n",
       "    }\n",
       "\n",
       "    .dataframe thead th {\n",
       "        text-align: right;\n",
       "    }\n",
       "</style>\n",
       "<table border=\"1\" class=\"dataframe\">\n",
       "  <thead>\n",
       "    <tr style=\"text-align: right;\">\n",
       "      <th></th>\n",
       "      <th>ads_is_pro</th>\n",
       "      <th>category</th>\n",
       "      <th>macrocategory_name</th>\n",
       "      <th>region</th>\n",
       "    </tr>\n",
       "  </thead>\n",
       "  <tbody>\n",
       "    <tr>\n",
       "      <th>63295</th>\n",
       "      <td>False</td>\n",
       "      <td>Biciclette</td>\n",
       "      <td>SPORTS E HOBBY</td>\n",
       "      <td>Lazio</td>\n",
       "    </tr>\n",
       "    <tr>\n",
       "      <th>90669</th>\n",
       "      <td>False</td>\n",
       "      <td>Auto</td>\n",
       "      <td>VEICOLI</td>\n",
       "      <td>Veneto</td>\n",
       "    </tr>\n",
       "    <tr>\n",
       "      <th>858</th>\n",
       "      <td>True</td>\n",
       "      <td>Accessori Moto</td>\n",
       "      <td>VEICOLI</td>\n",
       "      <td>Abruzzo</td>\n",
       "    </tr>\n",
       "    <tr>\n",
       "      <th>79983</th>\n",
       "      <td>False</td>\n",
       "      <td>Strumenti Musicali</td>\n",
       "      <td>SPORTS E HOBBY</td>\n",
       "      <td>Puglia</td>\n",
       "    </tr>\n",
       "    <tr>\n",
       "      <th>47206</th>\n",
       "      <td>False</td>\n",
       "      <td>Biciclette</td>\n",
       "      <td>SPORTS E HOBBY</td>\n",
       "      <td>Trentino-Alto Adige</td>\n",
       "    </tr>\n",
       "  </tbody>\n",
       "</table>\n",
       "</div>"
      ],
      "text/plain": [
       "       ads_is_pro            category macrocategory_name               region\n",
       "63295       False          Biciclette     SPORTS E HOBBY                Lazio\n",
       "90669       False                Auto            VEICOLI               Veneto\n",
       "858          True      Accessori Moto            VEICOLI              Abruzzo\n",
       "79983       False  Strumenti Musicali     SPORTS E HOBBY               Puglia\n",
       "47206       False          Biciclette     SPORTS E HOBBY  Trentino-Alto Adige"
      ]
     },
     "execution_count": 78,
     "metadata": {},
     "output_type": "execute_result"
    }
   ],
   "source": [
    "C_train.head()"
   ]
  },
  {
   "cell_type": "code",
   "execution_count": 97,
   "metadata": {},
   "outputs": [],
   "source": [
    "P = {}\n",
    "column = 'macrocategory_name'\n",
    "for j, cat in enumerate(encoder.categories_[0]):\n",
    "    P[cat] = {}\n",
    "    cat_indexes = np.where(y_train.ravel() == j)[0]\n",
    "    subset = C_train.iloc[cat_indexes]\n",
    "    count = subset.groupby(column).size()\n",
    "    for i, v in count.items():\n",
    "        P[cat][i] = v\n",
    "P = pd.DataFrame(P)"
   ]
  },
  {
   "cell_type": "code",
   "execution_count": 108,
   "metadata": {},
   "outputs": [
    {
     "data": {
      "text/html": [
       "<div>\n",
       "<style scoped>\n",
       "    .dataframe tbody tr th:only-of-type {\n",
       "        vertical-align: middle;\n",
       "    }\n",
       "\n",
       "    .dataframe tbody tr th {\n",
       "        vertical-align: top;\n",
       "    }\n",
       "\n",
       "    .dataframe thead th {\n",
       "        text-align: right;\n",
       "    }\n",
       "</style>\n",
       "<table border=\"1\" class=\"dataframe\">\n",
       "  <thead>\n",
       "    <tr style=\"text-align: right;\">\n",
       "      <th></th>\n",
       "      <th>ALTRO</th>\n",
       "      <th>ELETTRONICA</th>\n",
       "      <th>IMMOBILI</th>\n",
       "      <th>LAVORO E SERVIZI</th>\n",
       "      <th>PER LA CASA e LA PERSONA</th>\n",
       "      <th>SPORTS E HOBBY</th>\n",
       "      <th>VEICOLI</th>\n",
       "    </tr>\n",
       "  </thead>\n",
       "  <tbody>\n",
       "    <tr>\n",
       "      <th>Non venduto</th>\n",
       "      <td>0.143396</td>\n",
       "      <td>0.156272</td>\n",
       "      <td>0.153716</td>\n",
       "      <td>0.169811</td>\n",
       "      <td>0.152005</td>\n",
       "      <td>0.154152</td>\n",
       "      <td>0.148426</td>\n",
       "    </tr>\n",
       "    <tr>\n",
       "      <th>Venduto su Subito</th>\n",
       "      <td>0.098113</td>\n",
       "      <td>0.114460</td>\n",
       "      <td>0.115428</td>\n",
       "      <td>0.122642</td>\n",
       "      <td>0.119987</td>\n",
       "      <td>0.113240</td>\n",
       "      <td>0.116465</td>\n",
       "    </tr>\n",
       "    <tr>\n",
       "      <th>Venduto su altri canali</th>\n",
       "      <td>0.026415</td>\n",
       "      <td>0.039867</td>\n",
       "      <td>0.035755</td>\n",
       "      <td>0.033019</td>\n",
       "      <td>0.035424</td>\n",
       "      <td>0.039530</td>\n",
       "      <td>0.036416</td>\n",
       "    </tr>\n",
       "    <tr>\n",
       "      <th>active</th>\n",
       "      <td>0.116981</td>\n",
       "      <td>0.105015</td>\n",
       "      <td>0.100788</td>\n",
       "      <td>0.080189</td>\n",
       "      <td>0.097734</td>\n",
       "      <td>0.090799</td>\n",
       "      <td>0.096901</td>\n",
       "    </tr>\n",
       "    <tr>\n",
       "      <th>cancellato senza alcuna ragione di cancellazione</th>\n",
       "      <td>0.615094</td>\n",
       "      <td>0.584387</td>\n",
       "      <td>0.594313</td>\n",
       "      <td>0.594340</td>\n",
       "      <td>0.594850</td>\n",
       "      <td>0.602279</td>\n",
       "      <td>0.601792</td>\n",
       "    </tr>\n",
       "  </tbody>\n",
       "</table>\n",
       "</div>"
      ],
      "text/plain": [
       "                                                     ALTRO  ELETTRONICA  \\\n",
       "Non venduto                                       0.143396     0.156272   \n",
       "Venduto su Subito                                 0.098113     0.114460   \n",
       "Venduto su altri canali                           0.026415     0.039867   \n",
       "active                                            0.116981     0.105015   \n",
       "cancellato senza alcuna ragione di cancellazione  0.615094     0.584387   \n",
       "\n",
       "                                                  IMMOBILI  LAVORO E SERVIZI  \\\n",
       "Non venduto                                       0.153716          0.169811   \n",
       "Venduto su Subito                                 0.115428          0.122642   \n",
       "Venduto su altri canali                           0.035755          0.033019   \n",
       "active                                            0.100788          0.080189   \n",
       "cancellato senza alcuna ragione di cancellazione  0.594313          0.594340   \n",
       "\n",
       "                                                  PER LA CASA e LA PERSONA  \\\n",
       "Non venduto                                                       0.152005   \n",
       "Venduto su Subito                                                 0.119987   \n",
       "Venduto su altri canali                                           0.035424   \n",
       "active                                                            0.097734   \n",
       "cancellato senza alcuna ragione di cancellazione                  0.594850   \n",
       "\n",
       "                                                  SPORTS E HOBBY   VEICOLI  \n",
       "Non venduto                                             0.154152  0.148426  \n",
       "Venduto su Subito                                       0.113240  0.116465  \n",
       "Venduto su altri canali                                 0.039530  0.036416  \n",
       "active                                                  0.090799  0.096901  \n",
       "cancellato senza alcuna ragione di cancellazione        0.602279  0.601792  "
      ]
     },
     "execution_count": 108,
     "metadata": {},
     "output_type": "execute_result"
    }
   ],
   "source": [
    "P.T / P.sum(axis=1)"
   ]
  },
  {
   "cell_type": "code",
   "execution_count": 110,
   "metadata": {},
   "outputs": [
    {
     "data": {
      "text/plain": [
       "ALTRO                       1.0\n",
       "ELETTRONICA                 1.0\n",
       "IMMOBILI                    1.0\n",
       "LAVORO E SERVIZI            1.0\n",
       "PER LA CASA e LA PERSONA    1.0\n",
       "SPORTS E HOBBY              1.0\n",
       "VEICOLI                     1.0\n",
       "dtype: float64"
      ]
     },
     "execution_count": 110,
     "metadata": {},
     "output_type": "execute_result"
    }
   ],
   "source": [
    "(P.T / P.sum(axis=1)).sum(axis=0)"
   ]
  },
  {
   "cell_type": "code",
   "execution_count": null,
   "metadata": {},
   "outputs": [],
   "source": []
  },
  {
   "cell_type": "code",
   "execution_count": null,
   "metadata": {},
   "outputs": [],
   "source": []
  }
 ],
 "metadata": {
  "kernelspec": {
   "display_name": "Python 3",
   "language": "python",
   "name": "python3"
  },
  "language_info": {
   "codemirror_mode": {
    "name": "ipython",
    "version": 3
   },
   "file_extension": ".py",
   "mimetype": "text/x-python",
   "name": "python",
   "nbconvert_exporter": "python",
   "pygments_lexer": "ipython3",
   "version": "3.7.1"
  }
 },
 "nbformat": 4,
 "nbformat_minor": 2
}
