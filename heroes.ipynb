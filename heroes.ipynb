{
 "cells": [
  {
   "cell_type": "code",
   "execution_count": 1,
   "metadata": {},
   "outputs": [],
   "source": [
    "import pandas as pd"
   ]
  },
  {
   "cell_type": "code",
   "execution_count": 2,
   "metadata": {},
   "outputs": [],
   "source": [
    "hfile = 'data/heroes.csv'"
   ]
  },
  {
   "cell_type": "code",
   "execution_count": 3,
   "metadata": {},
   "outputs": [],
   "source": [
    "H = pd.read_csv(hfile, sep=';')"
   ]
  },
  {
   "cell_type": "code",
   "execution_count": 4,
   "metadata": {},
   "outputs": [
    {
     "data": {
      "text/html": [
       "<div>\n",
       "<style scoped>\n",
       "    .dataframe tbody tr th:only-of-type {\n",
       "        vertical-align: middle;\n",
       "    }\n",
       "\n",
       "    .dataframe tbody tr th {\n",
       "        vertical-align: top;\n",
       "    }\n",
       "\n",
       "    .dataframe thead th {\n",
       "        text-align: right;\n",
       "    }\n",
       "</style>\n",
       "<table border=\"1\" class=\"dataframe\">\n",
       "  <thead>\n",
       "    <tr style=\"text-align: right;\">\n",
       "      <th></th>\n",
       "      <th>Name</th>\n",
       "      <th>Identity</th>\n",
       "      <th>Birth place</th>\n",
       "      <th>Publisher</th>\n",
       "      <th>Height</th>\n",
       "      <th>Weight</th>\n",
       "      <th>Gender</th>\n",
       "      <th>First appearance</th>\n",
       "      <th>Eye color</th>\n",
       "      <th>Hair color</th>\n",
       "      <th>Strength</th>\n",
       "      <th>Intelligence</th>\n",
       "    </tr>\n",
       "  </thead>\n",
       "  <tbody>\n",
       "    <tr>\n",
       "      <th>0</th>\n",
       "      <td>A-Bomb</td>\n",
       "      <td>Richard Milhouse Jones</td>\n",
       "      <td>Scarsdale, Arizona</td>\n",
       "      <td>Marvel Comics</td>\n",
       "      <td>203.21</td>\n",
       "      <td>441.95</td>\n",
       "      <td>M</td>\n",
       "      <td>2008.0</td>\n",
       "      <td>Yellow</td>\n",
       "      <td>No Hair</td>\n",
       "      <td>100.0</td>\n",
       "      <td>moderate</td>\n",
       "    </tr>\n",
       "    <tr>\n",
       "      <th>1</th>\n",
       "      <td>Abraxas</td>\n",
       "      <td>Abraxas</td>\n",
       "      <td>Within Eternity</td>\n",
       "      <td>Marvel Comics</td>\n",
       "      <td>NaN</td>\n",
       "      <td>NaN</td>\n",
       "      <td>M</td>\n",
       "      <td>NaN</td>\n",
       "      <td>Blue</td>\n",
       "      <td>Black</td>\n",
       "      <td>100.0</td>\n",
       "      <td>high</td>\n",
       "    </tr>\n",
       "  </tbody>\n",
       "</table>\n",
       "</div>"
      ],
      "text/plain": [
       "      Name                Identity         Birth place      Publisher  Height  \\\n",
       "0   A-Bomb  Richard Milhouse Jones  Scarsdale, Arizona  Marvel Comics  203.21   \n",
       "1  Abraxas                 Abraxas    Within Eternity   Marvel Comics     NaN   \n",
       "\n",
       "   Weight Gender  First appearance Eye color Hair color  Strength Intelligence  \n",
       "0  441.95      M            2008.0    Yellow    No Hair     100.0     moderate  \n",
       "1     NaN      M               NaN      Blue      Black     100.0         high  "
      ]
     },
     "execution_count": 4,
     "metadata": {},
     "output_type": "execute_result"
    }
   ],
   "source": [
    "H.head(2)"
   ]
  },
  {
   "cell_type": "code",
   "execution_count": 6,
   "metadata": {},
   "outputs": [
    {
     "data": {
      "text/plain": [
       "Name                 object\n",
       "Identity             object\n",
       "Birth place          object\n",
       "Publisher            object\n",
       "Height              float64\n",
       "Weight              float64\n",
       "Gender               object\n",
       "First appearance    float64\n",
       "Eye color            object\n",
       "Hair color           object\n",
       "Strength            float64\n",
       "Intelligence         object\n",
       "dtype: object"
      ]
     },
     "execution_count": 6,
     "metadata": {},
     "output_type": "execute_result"
    }
   ],
   "source": [
    "H.dtypes"
   ]
  },
  {
   "cell_type": "markdown",
   "metadata": {},
   "source": [
    "## Data Enrichment using wikidata\n",
    "Find occupation of SuperHeroes\n",
    "- lookup hero on wikidata\n",
    "- disambiguate findings\n",
    "- look for occupation"
   ]
  },
  {
   "cell_type": "code",
   "execution_count": 17,
   "metadata": {},
   "outputs": [],
   "source": [
    "import requests\n",
    "from SPARQLWrapper import SPARQLWrapper, JSON"
   ]
  },
  {
   "cell_type": "code",
   "execution_count": 41,
   "metadata": {},
   "outputs": [],
   "source": [
    "def search(query, lang='en'):\n",
    "    url = 'https://www.wikidata.org/w/api.php'\n",
    "    par = {\n",
    "        'action': 'wbsearchentities',\n",
    "        'format': 'json',\n",
    "        'search': query,\n",
    "        'language': lang\n",
    "    }\n",
    "    response = requests.get(url=url, params=par)\n",
    "    return response.json()\n",
    "\n",
    "def sparql(entity_id, lang='en'):\n",
    "    endpoint_url = \"https://query.wikidata.org/sparql\"\n",
    "    sparql = SPARQLWrapper(endpoint_url)\n",
    "    query = \"\"\"\n",
    "    SELECT * WHERE {{\n",
    "      wd:{sh1} wdt:P31 ?type.\n",
    "      wd:{sh2} rdfs:label ?entityLabel.\n",
    "      ?type rdfs:label ?typeLabel.\n",
    "      OPTIONAL {{\n",
    "        wd:Q4646886 wdt:P21 ?gender.\n",
    "      }}\n",
    "      FILTER (langMatches( lang(?entityLabel), \"{lang1}\" ) ).\n",
    "      FILTER (langMatches( lang(?typeLabel), \"{lang2}\" ) ).\n",
    "    }}\n",
    "    \"\"\".format(sh1=entity_id, sh2=entity_id, lang1=lang, lang2=lang)\n",
    "    sparql.setQuery(query)\n",
    "    sparql.setReturnFormat(JSON)\n",
    "    return sparql.query().convert()"
   ]
  },
  {
   "cell_type": "code",
   "execution_count": 55,
   "metadata": {},
   "outputs": [],
   "source": [
    "hero = 'Animal Man'\n",
    "sh_wikiclass = 'http://www.wikidata.org/entity/Q188784'"
   ]
  },
  {
   "cell_type": "markdown",
   "metadata": {},
   "source": [
    "Check for type matching"
   ]
  },
  {
   "cell_type": "code",
   "execution_count": 57,
   "metadata": {},
   "outputs": [
    {
     "name": "stdout",
     "output_type": "stream",
     "text": [
      "The best matching entity for Animal Man is Q547391\n"
     ]
    }
   ],
   "source": [
    "for option in search(hero)['search']:\n",
    "    data = sparql(option['id'])\n",
    "    for binding in data['results']['bindings']:\n",
    "        if binding['type']['value'] == sh_wikiclass:\n",
    "            print(\"The best matching entity for {} is {}\".format(hero, option['id']))\n",
    "            break"
   ]
  },
  {
   "cell_type": "markdown",
   "metadata": {},
   "source": [
    "## Location of birth cities"
   ]
  },
  {
   "cell_type": "code",
   "execution_count": 59,
   "metadata": {},
   "outputs": [],
   "source": [
    "from geopy.geocoders import Nominatim"
   ]
  },
  {
   "cell_type": "code",
   "execution_count": 60,
   "metadata": {},
   "outputs": [],
   "source": [
    "geolocator = Nominatim(user_agent=\"HEROLOC\")"
   ]
  },
  {
   "cell_type": "code",
   "execution_count": 65,
   "metadata": {},
   "outputs": [],
   "source": [
    "location = geolocator.geocode(\"Chicago Illinois\")"
   ]
  },
  {
   "cell_type": "code",
   "execution_count": 66,
   "metadata": {},
   "outputs": [
    {
     "name": "stdout",
     "output_type": "stream",
     "text": [
      "Chicago, Cook County, Illinois, USA\n",
      "(41.8755616, -87.6244212)\n",
      "{'place_id': 197578857, 'licence': 'Data © OpenStreetMap contributors, ODbL 1.0. https://osm.org/copyright', 'osm_type': 'relation', 'osm_id': 122604, 'boundingbox': ['41.644531', '42.0230396', '-87.940101', '-87.5239841'], 'lat': '41.8755616', 'lon': '-87.6244212', 'display_name': 'Chicago, Cook County, Illinois, USA', 'class': 'place', 'type': 'city', 'importance': 1.002647610488886, 'icon': 'https://nominatim.openstreetmap.org/images/mapicons/poi_place_city.p.20.png'}\n"
     ]
    }
   ],
   "source": [
    "print(location.address)\n",
    "print((location.latitude, location.longitude))\n",
    "print(location.raw)"
   ]
  },
  {
   "cell_type": "code",
   "execution_count": 67,
   "metadata": {},
   "outputs": [],
   "source": [
    "H = H.dropna()"
   ]
  },
  {
   "cell_type": "code",
   "execution_count": 71,
   "metadata": {},
   "outputs": [],
   "source": [
    "valid_rows = []\n",
    "for i, hero in H.iterrows():\n",
    "    bp = hero['Birth place']\n",
    "    location = geolocator.geocode(bp)\n",
    "    if location is not None and hero['Publisher'] in ['Marvel Comics', 'DC Comics']:\n",
    "        hero['Latitude'], hero['Longitude'] = location.latitude, location.longitude\n",
    "        valid_rows.append(hero)"
   ]
  },
  {
   "cell_type": "code",
   "execution_count": 72,
   "metadata": {},
   "outputs": [
    {
     "data": {
      "text/plain": [
       "94"
      ]
     },
     "execution_count": 72,
     "metadata": {},
     "output_type": "execute_result"
    }
   ],
   "source": [
    "len(valid_rows)"
   ]
  },
  {
   "cell_type": "code",
   "execution_count": 73,
   "metadata": {},
   "outputs": [],
   "source": [
    "S = pd.DataFrame(valid_rows)"
   ]
  },
  {
   "cell_type": "code",
   "execution_count": 74,
   "metadata": {},
   "outputs": [
    {
     "data": {
      "text/html": [
       "<div>\n",
       "<style scoped>\n",
       "    .dataframe tbody tr th:only-of-type {\n",
       "        vertical-align: middle;\n",
       "    }\n",
       "\n",
       "    .dataframe tbody tr th {\n",
       "        vertical-align: top;\n",
       "    }\n",
       "\n",
       "    .dataframe thead th {\n",
       "        text-align: right;\n",
       "    }\n",
       "</style>\n",
       "<table border=\"1\" class=\"dataframe\">\n",
       "  <thead>\n",
       "    <tr style=\"text-align: right;\">\n",
       "      <th></th>\n",
       "      <th>Name</th>\n",
       "      <th>Identity</th>\n",
       "      <th>Birth place</th>\n",
       "      <th>Publisher</th>\n",
       "      <th>Height</th>\n",
       "      <th>Weight</th>\n",
       "      <th>Gender</th>\n",
       "      <th>First appearance</th>\n",
       "      <th>Eye color</th>\n",
       "      <th>Hair color</th>\n",
       "      <th>Strength</th>\n",
       "      <th>Intelligence</th>\n",
       "      <th>Latitude</th>\n",
       "      <th>Longitude</th>\n",
       "    </tr>\n",
       "  </thead>\n",
       "  <tbody>\n",
       "    <tr>\n",
       "      <th>16</th>\n",
       "      <td>Lady Deathstrike</td>\n",
       "      <td>Yuriko Oyama</td>\n",
       "      <td>Osaka, Japan</td>\n",
       "      <td>Marvel Comics</td>\n",
       "      <td>175.85</td>\n",
       "      <td>58.89</td>\n",
       "      <td>F</td>\n",
       "      <td>1985.0</td>\n",
       "      <td>Brown</td>\n",
       "      <td>Black</td>\n",
       "      <td>30.0</td>\n",
       "      <td>good</td>\n",
       "      <td>34.693757</td>\n",
       "      <td>135.501454</td>\n",
       "    </tr>\n",
       "    <tr>\n",
       "      <th>22</th>\n",
       "      <td>Absorbing Man</td>\n",
       "      <td>Carl Creel</td>\n",
       "      <td>New York City, New York</td>\n",
       "      <td>Marvel Comics</td>\n",
       "      <td>193.36</td>\n",
       "      <td>122.28</td>\n",
       "      <td>M</td>\n",
       "      <td>1964.0</td>\n",
       "      <td>Blue</td>\n",
       "      <td>No Hair</td>\n",
       "      <td>80.0</td>\n",
       "      <td>moderate</td>\n",
       "      <td>40.712728</td>\n",
       "      <td>-74.006015</td>\n",
       "    </tr>\n",
       "    <tr>\n",
       "      <th>26</th>\n",
       "      <td>Adam Strange</td>\n",
       "      <td>Adam Strange</td>\n",
       "      <td>Chicago, Illinois</td>\n",
       "      <td>DC Comics</td>\n",
       "      <td>185.10</td>\n",
       "      <td>88.92</td>\n",
       "      <td>M</td>\n",
       "      <td>1986.0</td>\n",
       "      <td>Blue</td>\n",
       "      <td>Blond</td>\n",
       "      <td>10.0</td>\n",
       "      <td>good</td>\n",
       "      <td>41.875562</td>\n",
       "      <td>-87.624421</td>\n",
       "    </tr>\n",
       "    <tr>\n",
       "      <th>46</th>\n",
       "      <td>Warpath</td>\n",
       "      <td>James Proudstar</td>\n",
       "      <td>Camp Verde, Arizona</td>\n",
       "      <td>Marvel Comics</td>\n",
       "      <td>218.05</td>\n",
       "      <td>158.22</td>\n",
       "      <td>M</td>\n",
       "      <td>1984.0</td>\n",
       "      <td>Brown</td>\n",
       "      <td>Black</td>\n",
       "      <td>75.0</td>\n",
       "      <td>moderate</td>\n",
       "      <td>34.563636</td>\n",
       "      <td>-111.854318</td>\n",
       "    </tr>\n",
       "    <tr>\n",
       "      <th>47</th>\n",
       "      <td>War Machine</td>\n",
       "      <td>James Rupert Rhodes</td>\n",
       "      <td>Philadelphia, Pennsylvania</td>\n",
       "      <td>Marvel Comics</td>\n",
       "      <td>185.01</td>\n",
       "      <td>95.93</td>\n",
       "      <td>M</td>\n",
       "      <td>1979.0</td>\n",
       "      <td>Brown</td>\n",
       "      <td>Brown</td>\n",
       "      <td>80.0</td>\n",
       "      <td>good</td>\n",
       "      <td>39.952724</td>\n",
       "      <td>-75.163526</td>\n",
       "    </tr>\n",
       "  </tbody>\n",
       "</table>\n",
       "</div>"
      ],
      "text/plain": [
       "                Name             Identity                  Birth place  \\\n",
       "16  Lady Deathstrike         Yuriko Oyama                 Osaka, Japan   \n",
       "22     Absorbing Man           Carl Creel      New York City, New York   \n",
       "26      Adam Strange         Adam Strange            Chicago, Illinois   \n",
       "46           Warpath      James Proudstar         Camp Verde, Arizona    \n",
       "47       War Machine  James Rupert Rhodes  Philadelphia, Pennsylvania    \n",
       "\n",
       "        Publisher  Height  Weight Gender  First appearance Eye color  \\\n",
       "16  Marvel Comics  175.85   58.89      F            1985.0     Brown   \n",
       "22  Marvel Comics  193.36  122.28      M            1964.0      Blue   \n",
       "26      DC Comics  185.10   88.92      M            1986.0      Blue   \n",
       "46  Marvel Comics  218.05  158.22      M            1984.0     Brown   \n",
       "47  Marvel Comics  185.01   95.93      M            1979.0     Brown   \n",
       "\n",
       "   Hair color  Strength Intelligence   Latitude   Longitude  \n",
       "16      Black      30.0         good  34.693757  135.501454  \n",
       "22    No Hair      80.0     moderate  40.712728  -74.006015  \n",
       "26      Blond      10.0         good  41.875562  -87.624421  \n",
       "46      Black      75.0     moderate  34.563636 -111.854318  \n",
       "47      Brown      80.0         good  39.952724  -75.163526  "
      ]
     },
     "execution_count": 74,
     "metadata": {},
     "output_type": "execute_result"
    }
   ],
   "source": [
    "S.head()"
   ]
  },
  {
   "cell_type": "code",
   "execution_count": 75,
   "metadata": {},
   "outputs": [],
   "source": [
    "import matplotlib.pyplot as plt"
   ]
  },
  {
   "cell_type": "code",
   "execution_count": 76,
   "metadata": {},
   "outputs": [],
   "source": [
    "marvel = S[S['Publisher'] == 'Marvel Comics']\n",
    "dc = S[S['Publisher'] == 'DC Comics']"
   ]
  },
  {
   "cell_type": "code",
   "execution_count": 87,
   "metadata": {},
   "outputs": [
    {
     "data": {
      "image/png": "[encoded data removed]",
      "text/plain": [
       "<Figure size 1152x576 with 1 Axes>"
      ]
     },
     "metadata": {
      "needs_background": "light"
     },
     "output_type": "display_data"
    }
   ],
   "source": [
    "fig, ax = plt.subplots(figsize=(16,8))\n",
    "ax.scatter(marvel.Latitude, marvel.Longitude, c='#FF0000')\n",
    "ax.scatter(dc.Latitude, dc.Longitude, c='#000066')\n",
    "plt.show()"
   ]
  },
  {
   "cell_type": "code",
   "execution_count": 79,
   "metadata": {},
   "outputs": [],
   "source": [
    "import geopandas as gpd"
   ]
  },
  {
   "cell_type": "code",
   "execution_count": 80,
   "metadata": {},
   "outputs": [],
   "source": [
    "world = gpd.read_file(gpd.datasets.get_path('naturalearth_lowres'))"
   ]
  },
  {
   "cell_type": "code",
   "execution_count": 88,
   "metadata": {},
   "outputs": [
    {
     "data": {
      "image/png": "[encoded data removed]",
      "text/plain": [
       "<Figure size 1152x576 with 1 Axes>"
      ]
     },
     "metadata": {
      "needs_background": "light"
     },
     "output_type": "display_data"
    }
   ],
   "source": [
    "fig, ax = plt.subplots(figsize=(16,8))\n",
    "world.plot(ax=ax, color='#CCCCCC')\n",
    "ax.scatter(marvel.Longitude, marvel.Latitude, c='#FF0000')\n",
    "ax.scatter(dc.Longitude, dc.Latitude, c='#000066')\n",
    "plt.show()"
   ]
  },
  {
   "cell_type": "code",
   "execution_count": 89,
   "metadata": {},
   "outputs": [],
   "source": [
    "marvel.to_csv('data/marvel.csv')\n",
    "dc.to_csv('data/dc.csv')"
   ]
  },
  {
   "cell_type": "code",
   "execution_count": null,
   "metadata": {},
   "outputs": [],
   "source": []
  }
 ],
 "metadata": {
  "kernelspec": {
   "display_name": "Python 3",
   "language": "python",
   "name": "python3"
  },
  "language_info": {
   "codemirror_mode": {
    "name": "ipython",
    "version": 3
   },
   "file_extension": ".py",
   "mimetype": "text/x-python",
   "name": "python",
   "nbconvert_exporter": "python",
   "pygments_lexer": "ipython3",
   "version": "3.7.1"
  }
 },
 "nbformat": 4,
 "nbformat_minor": 2
}
