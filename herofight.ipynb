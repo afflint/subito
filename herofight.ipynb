{
 "cells": [
  {
   "cell_type": "markdown",
   "metadata": {},
   "source": [
    "# Exercize: create a hero fight simulation\n",
    "- Step 1: collocate heroes on map based of their birth cities\n",
    "- Step 2: create connections between cities based on their distances (using any threshold)\n",
    "- Step 3: make agents for heroes capable of moving randomly and fighting\n",
    "- Step 4: lauch simulation and collects stats about heroes surviving"
   ]
  },
  {
   "cell_type": "code",
   "execution_count": null,
   "metadata": {},
   "outputs": [],
   "source": []
  }
 ],
 "metadata": {
  "kernelspec": {
   "display_name": "Python 3",
   "language": "python",
   "name": "python3"
  },
  "language_info": {
   "codemirror_mode": {
    "name": "ipython",
    "version": 3
   },
   "file_extension": ".py",
   "mimetype": "text/x-python",
   "name": "python",
   "nbconvert_exporter": "python",
   "pygments_lexer": "ipython3",
   "version": "3.7.1"
  }
 },
 "nbformat": 4,
 "nbformat_minor": 2
}
