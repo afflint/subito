{
 "cells": [
  {
   "cell_type": "markdown",
   "metadata": {
    "slideshow": {
     "slide_type": "slide"
    }
   },
   "source": [
    "## Nei RDBMS classici...\n",
    "\n",
    "- un database aggrega delle tabelle\n",
    "- una tabella aggrega delle righe\n",
    "- una riga aggrega dei valori per attributi (fissi)\n",
    "- si eseguono operazioni di join tra tabelle\n",
    "- la struttura delle righe in una tabella è prefissata (schema)"
   ]
  },
  {
   "cell_type": "markdown",
   "metadata": {
    "slideshow": {
     "slide_type": "slide"
    }
   },
   "source": [
    "## In mongoDB...\n",
    "\n",
    "- un database aggrega delle <span style=\"text-decoration: line-through;\">tabelle</span> collezioni\n",
    "- una <span style=\"text-decoration: line-through;\">tabella</span> collezione aggrega <span style=\"text-decoration: line-through;\">delle righe</span> dei documenti\n",
    "- <span style=\"text-decoration: line-through;\">una riga</span> un documento aggrega dei <span style=\"text-decoration: line-through;\">valori per attributi (fissi)</span> campi (variabili) indicati tramite coppie (nome, valore)\n",
    "- <span style=\"text-decoration: line-through;\">si eseguono</span> non si possono eseguire (direttamente) operazioni di join tra tabelle\n",
    "- la struttura delle righe in una tabella **non** è prefissata <span style=\"text-decoration: line-through;\">(schema)</span>"
   ]
  },
  {
   "cell_type": "markdown",
   "metadata": {
    "slideshow": {
     "slide_type": "slide"
    }
   },
   "source": [
    "## In MongoDB\n",
    "\n",
    "- Invece di memorizzare l'informazione nelle righe di una tabella, MongoDB memorizza dati strutturati utilizzando un formato simile a JSON\n",
    "- JSON (JavaScript Object Notation, http://www.json.org) è un formato lightweight per lo scambio di dati, facile da leggere (per gli umani) e da analizzare (dalle macchine)"
   ]
  },
  {
   "cell_type": "markdown",
   "metadata": {
    "slideshow": {
     "slide_type": "slide"
    }
   },
   "source": [
    "## Un esempio\n",
    "\n",
    "- La tabella\n",
    "\n",
    "|Nome    |Cognome |Targa|\n",
    "|--------|------- |-----|\n",
    "|Paolino |Paperino|  313|\n",
    "|Topolino|        |  113|\n",
    "\n",
    "- diventa"
   ]
  },
  {
   "cell_type": "code",
   "execution_count": 1,
   "metadata": {
    "slideshow": {
     "slide_type": "-"
    }
   },
   "outputs": [
    {
     "data": {
      "text/plain": [
       "{'nome': 'Topolino', 'targa': 113}"
      ]
     },
     "execution_count": 1,
     "metadata": {},
     "output_type": "execute_result"
    }
   ],
   "source": [
    "{'nome': 'Paolino',\n",
    " 'cognome': 'Paperino',\n",
    " 'targa': 313},\n",
    "{'nome': 'Topolino',\n",
    " 'targa': 113}"
   ]
  },
  {
   "cell_type": "markdown",
   "metadata": {
    "slideshow": {
     "slide_type": "slide"
    }
   },
   "source": [
    "## JSON e BSON\n",
    "\n",
    "Il formato in cui effettivamente MongoDB memorizza l'informazione è BSON (Binary JSON, http://bsonspec.org/), che permette di\n",
    "\n",
    "- serializzare documenti JSON in modo efficiente\n",
    "- attraversare facilmente tali documenti\n",
    "- conservare la lightweightness"
   ]
  },
  {
   "cell_type": "markdown",
   "metadata": {
    "slideshow": {
     "slide_type": "slide"
    }
   },
   "source": [
    "## Documenti incorporati\n",
    "\n",
    "È possibile inserire un documento all'interno di un campo BSON"
   ]
  },
  {
   "cell_type": "code",
   "execution_count": 2,
   "metadata": {
    "slideshow": {
     "slide_type": "-"
    }
   },
   "outputs": [
    {
     "data": {
      "text/plain": [
       "{'auto': {'modello': 'American Bantam', 'targa': 313},\n",
       " 'cognome': 'Paperino',\n",
       " 'nome': 'Paolino'}"
      ]
     },
     "execution_count": 2,
     "metadata": {},
     "output_type": "execute_result"
    }
   ],
   "source": [
    "{'nome': 'Paolino',\n",
    " 'cognome': 'Paperino',\n",
    " 'auto': {'modello': 'American Bantam', 'targa': 313}\n",
    "}"
   ]
  },
  {
   "cell_type": "markdown",
   "metadata": {
    "slideshow": {
     "slide_type": "slide"
    }
   },
   "source": [
    "## Array\n",
    "\n",
    "In BSON gli array sono oggetti di prima classe"
   ]
  },
  {
   "cell_type": "code",
   "execution_count": 3,
   "metadata": {
    "slideshow": {
     "slide_type": "-"
    }
   },
   "outputs": [
    {
     "data": {
      "text/plain": [
       "{'auto': {'modello': 'American Bantam', 'targa': 313},\n",
       " 'cognome': 'Paperino',\n",
       " 'familiari': ['qui', 'quo', 'qua'],\n",
       " 'nome': 'Paolino'}"
      ]
     },
     "execution_count": 3,
     "metadata": {},
     "output_type": "execute_result"
    }
   ],
   "source": [
    "{'nome': 'Paolino',\n",
    " 'cognome': 'Paperino',\n",
    " 'auto': {'modello': 'American Bantam', 'targa': 313},\n",
    " 'familiari': ['qui', 'quo', 'qua']\n",
    "}"
   ]
  },
  {
   "cell_type": "markdown",
   "metadata": {
    "slideshow": {
     "slide_type": "slide"
    }
   },
   "source": [
    "## Prime operazioni con MongoDB\n",
    "\n",
    "- Per poter interagire con MongoDB è necessario generare una _connessione_"
   ]
  },
  {
   "cell_type": "code",
   "execution_count": 9,
   "metadata": {},
   "outputs": [],
   "source": [
    "from pymongo import MongoClient\n",
    "mongo = MongoClient(host='127.0.0.1', port=27017)"
   ]
  },
  {
   "cell_type": "markdown",
   "metadata": {},
   "source": [
    "- è durante questa fase che si effettua l'eventuale autenticazione"
   ]
  },
  {
   "cell_type": "markdown",
   "metadata": {
    "slideshow": {
     "slide_type": "subslide"
    }
   },
   "source": [
    "## Prime operazioni con MongoDB\n",
    "\n",
    "- si ottiene un riferimento a un DB a partire dalla connessione usando una _dot notation_ "
   ]
  },
  {
   "cell_type": "code",
   "execution_count": 10,
   "metadata": {},
   "outputs": [],
   "source": [
    "db = mongo.fumetti"
   ]
  },
  {
   "cell_type": "markdown",
   "metadata": {},
   "source": [
    "- in alternativa è possibile usare una notazione analoga a quella dei dizionari"
   ]
  },
  {
   "cell_type": "code",
   "execution_count": 11,
   "metadata": {},
   "outputs": [
    {
     "data": {
      "text/plain": [
       "Database(MongoClient(host=['127.0.0.1:27017'], document_class=dict, tz_aware=False, connect=True), 'fumetti')"
      ]
     },
     "execution_count": 11,
     "metadata": {},
     "output_type": "execute_result"
    }
   ],
   "source": [
    "mongo['fumetti']"
   ]
  },
  {
   "cell_type": "markdown",
   "metadata": {},
   "source": [
    "- in entrambi i casi, qualora non esista il DB viene creato"
   ]
  },
  {
   "cell_type": "markdown",
   "metadata": {
    "slideshow": {
     "slide_type": "slide"
    }
   },
   "source": [
    "## Prime operazioni con MongoDB\n",
    "\n",
    "- Analogamente, a partire dal riferimento al DB si ottiene tramite una delle due sintassi viste il riferimento a una collezione"
   ]
  },
  {
   "cell_type": "code",
   "execution_count": 17,
   "metadata": {},
   "outputs": [
    {
     "data": {
      "text/plain": [
       "Collection(Database(MongoClient(host=['127.0.0.1:27017'], document_class=dict, tz_aware=False, connect=True), 'fumetti'), 'personaggi')"
      ]
     },
     "execution_count": 17,
     "metadata": {},
     "output_type": "execute_result"
    }
   ],
   "source": [
    "db.personaggi"
   ]
  },
  {
   "cell_type": "code",
   "execution_count": 18,
   "metadata": {},
   "outputs": [
    {
     "data": {
      "text/plain": [
       "Collection(Database(MongoClient(host=['127.0.0.1:27017'], document_class=dict, tz_aware=False, connect=True), 'fumetti'), 'personaggi')"
      ]
     },
     "execution_count": 18,
     "metadata": {},
     "output_type": "execute_result"
    }
   ],
   "source": [
    "db['personaggi']"
   ]
  },
  {
   "cell_type": "markdown",
   "metadata": {
    "slideshow": {
     "slide_type": "subslide"
    }
   },
   "source": [
    "## Prime operazioni con MongoDB\n",
    "\n",
    "- Inserimento di un documento (con contestuale creazione della collezione)"
   ]
  },
  {
   "cell_type": "code",
   "execution_count": 19,
   "metadata": {},
   "outputs": [],
   "source": [
    "res = db.personaggi.insert_one({'nome': 'Paolino',\n",
    "                                'cognome': 'Paperino',\n",
    "                                'genere': 'M',\n",
    "                                'auto': {'modello': 'American Bantam', 'targa': 313},\n",
    "                                'anno_nascita': 1920,\n",
    "                                'prima_apparizione': 1934})"
   ]
  },
  {
   "cell_type": "code",
   "execution_count": 20,
   "metadata": {},
   "outputs": [
    {
     "data": {
      "text/plain": [
       "ObjectId('5cfe7911fc4b171de3b919a5')"
      ]
     },
     "execution_count": 20,
     "metadata": {},
     "output_type": "execute_result"
    }
   ],
   "source": [
    "res.inserted_id"
   ]
  },
  {
   "cell_type": "markdown",
   "metadata": {
    "slideshow": {
     "slide_type": "subslide"
    }
   },
   "source": [
    "## Prime operazioni con MongoDB\n",
    "\n",
    "- La dimensione massima di un documento è di 64 MByte\n",
    "- L'inserimento è possibile anche attraverso _upsert_ (vedi oltre)"
   ]
  },
  {
   "cell_type": "markdown",
   "metadata": {
    "slideshow": {
     "slide_type": "slide"
    }
   },
   "source": [
    "## Prime operazioni con MongoDB\n",
    "\n",
    "- Lettura di una collezione"
   ]
  },
  {
   "cell_type": "code",
   "execution_count": 21,
   "metadata": {},
   "outputs": [
    {
     "data": {
      "text/plain": [
       "[{'_id': ObjectId('5cfe7911fc4b171de3b919a5'),\n",
       "  'nome': 'Paolino',\n",
       "  'cognome': 'Paperino',\n",
       "  'genere': 'M',\n",
       "  'auto': {'modello': 'American Bantam', 'targa': 313},\n",
       "  'anno_nascita': 1920,\n",
       "  'prima_apparizione': 1934}]"
      ]
     },
     "execution_count": 21,
     "metadata": {},
     "output_type": "execute_result"
    }
   ],
   "source": [
    "list(db.personaggi.find())"
   ]
  },
  {
   "cell_type": "markdown",
   "metadata": {
    "slideshow": {
     "slide_type": "subslide"
    }
   },
   "source": [
    "## Prime operazioni con MongoDB\n",
    "\n",
    "- lettura di un elemento in una collezione (**non** necessariamente il primo)"
   ]
  },
  {
   "cell_type": "code",
   "execution_count": 22,
   "metadata": {},
   "outputs": [
    {
     "data": {
      "text/plain": [
       "{'_id': ObjectId('5cfe7911fc4b171de3b919a5'),\n",
       " 'nome': 'Paolino',\n",
       " 'cognome': 'Paperino',\n",
       " 'genere': 'M',\n",
       " 'auto': {'modello': 'American Bantam', 'targa': 313},\n",
       " 'anno_nascita': 1920,\n",
       " 'prima_apparizione': 1934}"
      ]
     },
     "execution_count": 22,
     "metadata": {},
     "output_type": "execute_result"
    }
   ],
   "source": [
    "db.personaggi.find_one()"
   ]
  },
  {
   "cell_type": "markdown",
   "metadata": {
    "slideshow": {
     "slide_type": "slide"
    }
   },
   "source": [
    "## Identificatori univoci\n",
    "\n",
    "- Il campo `_id` contiene un valore generato automaticamente in termini di `ObjectId`"
   ]
  },
  {
   "cell_type": "code",
   "execution_count": 23,
   "metadata": {},
   "outputs": [
    {
     "data": {
      "text/plain": [
       "[ObjectId('5cfe791dfc4b171de3b919a6'),\n",
       " ObjectId('5cfe791dfc4b171de3b919a7'),\n",
       " ObjectId('5cfe791dfc4b171de3b919a8')]"
      ]
     },
     "execution_count": 23,
     "metadata": {},
     "output_type": "execute_result"
    }
   ],
   "source": [
    "from bson.objectid import ObjectId\n",
    "\n",
    "[ObjectId() for _ in range(3)]"
   ]
  },
  {
   "cell_type": "markdown",
   "metadata": {},
   "source": [
    "- MongoDB indicizza automaticamente i documenti inseriti in una collezione relativamente al campo `_id`"
   ]
  },
  {
   "cell_type": "markdown",
   "metadata": {
    "slideshow": {
     "slide_type": "slide"
    }
   },
   "source": [
    "## Popoliamo una collezione"
   ]
  },
  {
   "cell_type": "code",
   "execution_count": 24,
   "metadata": {},
   "outputs": [
    {
     "data": {
      "text/plain": [
       "<pymongo.results.InsertManyResult at 0x7f55d4349dc8>"
      ]
     },
     "execution_count": 24,
     "metadata": {},
     "output_type": "execute_result"
    }
   ],
   "source": [
    "paperi = [{'nome': 'nonna papera', 'genere': 'F',\n",
    "  'auto': {'modello': 'Detroit Electric'},\n",
    "  'anno_nascita': 1833, 'prima_apparizione': 1943,\n",
    "  'passatempi': ['cucina', 'agricoltura']},\n",
    " {'nome': 'Paperon', 'cognome': 'De Paperoni', 'genere': 'M',\n",
    "  'anno_nascita': 1867,   'prima_apparizione': 1947,\n",
    "  'passatempi': ['alta finanza', 'risparmio', 'nuoto in depositi aurei']},\n",
    " {'nome': 'Archimede', 'cognome': 'Pitagorico', 'genere': 'M',\n",
    "  'prima_apparizione': 1952,\n",
    "  'passatempi': ['invenzioni', 'studio']},\n",
    " {'nome': 'Pico', 'cognome': 'De Paperis', 'genere': 'M',\n",
    "  'prima_apparizione': 1961,\n",
    "  'passatempi': ['studio']}]\n",
    "\n",
    "db.personaggi.insert_many(paperi)"
   ]
  },
  {
   "cell_type": "markdown",
   "metadata": {},
   "source": [
    "- Il metodo `insert_many` restituisce un oggetto della classe `InsertManyResult` la cui variabile di istanza `inserted_ids` contiene gli `ObjectId` di tutti i documenti inseriti"
   ]
  },
  {
   "cell_type": "markdown",
   "metadata": {
    "slideshow": {
     "slide_type": "slide"
    }
   },
   "source": [
    "## Selettori semplici\n",
    "\n",
    "- in base a esistenza di campi"
   ]
  },
  {
   "cell_type": "code",
   "execution_count": 25,
   "metadata": {},
   "outputs": [
    {
     "data": {
      "text/plain": [
       "[{'_id': ObjectId('5cfe7911fc4b171de3b919a5'),\n",
       "  'nome': 'Paolino',\n",
       "  'cognome': 'Paperino',\n",
       "  'genere': 'M',\n",
       "  'auto': {'modello': 'American Bantam', 'targa': 313},\n",
       "  'anno_nascita': 1920,\n",
       "  'prima_apparizione': 1934},\n",
       " {'_id': ObjectId('5cfe7923fc4b171de3b919a9'),\n",
       "  'nome': 'nonna papera',\n",
       "  'genere': 'F',\n",
       "  'auto': {'modello': 'Detroit Electric'},\n",
       "  'anno_nascita': 1833,\n",
       "  'prima_apparizione': 1943,\n",
       "  'passatempi': ['cucina', 'agricoltura']}]"
      ]
     },
     "execution_count": 25,
     "metadata": {},
     "output_type": "execute_result"
    }
   ],
   "source": [
    "list(db.personaggi.find({'auto': {'$exists': True}}))"
   ]
  },
  {
   "cell_type": "markdown",
   "metadata": {
    "slideshow": {
     "slide_type": "slide"
    }
   },
   "source": [
    "## Selettori semplici\n",
    "\n",
    "- in base a valori specifici"
   ]
  },
  {
   "cell_type": "code",
   "execution_count": 26,
   "metadata": {},
   "outputs": [
    {
     "data": {
      "text/plain": [
       "[{'_id': ObjectId('5cfe7923fc4b171de3b919a9'),\n",
       "  'nome': 'nonna papera',\n",
       "  'genere': 'F',\n",
       "  'auto': {'modello': 'Detroit Electric'},\n",
       "  'anno_nascita': 1833,\n",
       "  'prima_apparizione': 1943,\n",
       "  'passatempi': ['cucina', 'agricoltura']}]"
      ]
     },
     "execution_count": 26,
     "metadata": {},
     "output_type": "execute_result"
    }
   ],
   "source": [
    "list(db.personaggi.find({'genere': 'F'}))"
   ]
  },
  {
   "cell_type": "code",
   "execution_count": 27,
   "metadata": {},
   "outputs": [
    {
     "data": {
      "text/plain": [
       "[{'_id': ObjectId('5cfe7923fc4b171de3b919ac'),\n",
       "  'nome': 'Pico',\n",
       "  'cognome': 'De Paperis',\n",
       "  'genere': 'M',\n",
       "  'prima_apparizione': 1961,\n",
       "  'passatempi': ['studio']}]"
      ]
     },
     "execution_count": 27,
     "metadata": {},
     "output_type": "execute_result"
    }
   ],
   "source": [
    "list(db.personaggi.find({'prima_apparizione': 1961}))"
   ]
  },
  {
   "cell_type": "markdown",
   "metadata": {
    "slideshow": {
     "slide_type": "slide"
    }
   },
   "source": [
    "## Selettori semplici\n",
    "\n",
    "- in base a una relazione"
   ]
  },
  {
   "cell_type": "code",
   "execution_count": 28,
   "metadata": {},
   "outputs": [
    {
     "data": {
      "text/plain": [
       "[{'_id': ObjectId('5cfe7923fc4b171de3b919ab'),\n",
       "  'nome': 'Archimede',\n",
       "  'cognome': 'Pitagorico',\n",
       "  'genere': 'M',\n",
       "  'prima_apparizione': 1952,\n",
       "  'passatempi': ['invenzioni', 'studio']},\n",
       " {'_id': ObjectId('5cfe7923fc4b171de3b919ac'),\n",
       "  'nome': 'Pico',\n",
       "  'cognome': 'De Paperis',\n",
       "  'genere': 'M',\n",
       "  'prima_apparizione': 1961,\n",
       "  'passatempi': ['studio']}]"
      ]
     },
     "execution_count": 28,
     "metadata": {},
     "output_type": "execute_result"
    }
   ],
   "source": [
    "list(db.personaggi.find({'prima_apparizione': {'$gt': 1950}}))"
   ]
  },
  {
   "cell_type": "markdown",
   "metadata": {
    "slideshow": {
     "slide_type": "slide"
    }
   },
   "source": [
    "## Selettori semplici\n",
    "\n",
    "- in base alla presenza di valori in un insieme"
   ]
  },
  {
   "cell_type": "code",
   "execution_count": 29,
   "metadata": {},
   "outputs": [
    {
     "data": {
      "text/plain": [
       "[{'_id': ObjectId('5cfe7923fc4b171de3b919aa'),\n",
       "  'nome': 'Paperon',\n",
       "  'cognome': 'De Paperoni',\n",
       "  'genere': 'M',\n",
       "  'anno_nascita': 1867,\n",
       "  'prima_apparizione': 1947,\n",
       "  'passatempi': ['alta finanza', 'risparmio', 'nuoto in depositi aurei']},\n",
       " {'_id': ObjectId('5cfe7923fc4b171de3b919ac'),\n",
       "  'nome': 'Pico',\n",
       "  'cognome': 'De Paperis',\n",
       "  'genere': 'M',\n",
       "  'prima_apparizione': 1961,\n",
       "  'passatempi': ['studio']}]"
      ]
     },
     "execution_count": 29,
     "metadata": {},
     "output_type": "execute_result"
    }
   ],
   "source": [
    "list(db.personaggi.find({'prima_apparizione': {'$in': [1947, 1961]}}))"
   ]
  },
  {
   "cell_type": "markdown",
   "metadata": {
    "slideshow": {
     "slide_type": "slide"
    }
   },
   "source": [
    "## Selettori complessi\n",
    "\n",
    "- in base a congiunzioni logiche"
   ]
  },
  {
   "cell_type": "code",
   "execution_count": 30,
   "metadata": {
    "scrolled": true
   },
   "outputs": [
    {
     "data": {
      "text/plain": [
       "[{'_id': ObjectId('5cfe7911fc4b171de3b919a5'),\n",
       "  'nome': 'Paolino',\n",
       "  'cognome': 'Paperino',\n",
       "  'genere': 'M',\n",
       "  'auto': {'modello': 'American Bantam', 'targa': 313},\n",
       "  'anno_nascita': 1920,\n",
       "  'prima_apparizione': 1934},\n",
       " {'_id': ObjectId('5cfe7923fc4b171de3b919aa'),\n",
       "  'nome': 'Paperon',\n",
       "  'cognome': 'De Paperoni',\n",
       "  'genere': 'M',\n",
       "  'anno_nascita': 1867,\n",
       "  'prima_apparizione': 1947,\n",
       "  'passatempi': ['alta finanza', 'risparmio', 'nuoto in depositi aurei']}]"
      ]
     },
     "execution_count": 30,
     "metadata": {},
     "output_type": "execute_result"
    }
   ],
   "source": [
    "list(db.personaggi.find({'prima_apparizione': {'$lt': 1950},\n",
    "                         'genere': 'M'}))"
   ]
  },
  {
   "cell_type": "markdown",
   "metadata": {
    "slideshow": {
     "slide_type": "slide"
    }
   },
   "source": [
    "## Selettori complessi\n",
    "\n",
    "- in base a disgiunzioni logiche"
   ]
  },
  {
   "cell_type": "code",
   "execution_count": 31,
   "metadata": {
    "scrolled": false
   },
   "outputs": [
    {
     "data": {
      "text/plain": [
       "[{'_id': ObjectId('5cfe7911fc4b171de3b919a5'),\n",
       "  'nome': 'Paolino',\n",
       "  'cognome': 'Paperino',\n",
       "  'genere': 'M',\n",
       "  'auto': {'modello': 'American Bantam', 'targa': 313},\n",
       "  'anno_nascita': 1920,\n",
       "  'prima_apparizione': 1934},\n",
       " {'_id': ObjectId('5cfe7923fc4b171de3b919a9'),\n",
       "  'nome': 'nonna papera',\n",
       "  'genere': 'F',\n",
       "  'auto': {'modello': 'Detroit Electric'},\n",
       "  'anno_nascita': 1833,\n",
       "  'prima_apparizione': 1943,\n",
       "  'passatempi': ['cucina', 'agricoltura']}]"
      ]
     },
     "execution_count": 31,
     "metadata": {},
     "output_type": "execute_result"
    }
   ],
   "source": [
    "list(db.personaggi.find({'$or': [{'anno_nascita': {'$gt': 1900}},\n",
    "                                {'genere': 'F'}]}))"
   ]
  },
  {
   "cell_type": "markdown",
   "metadata": {
    "slideshow": {
     "slide_type": "slide"
    }
   },
   "source": [
    "## Selettori complessi\n",
    "\n",
    "- in base a occorrenze in un di array"
   ]
  },
  {
   "cell_type": "code",
   "execution_count": 32,
   "metadata": {},
   "outputs": [
    {
     "data": {
      "text/plain": [
       "[{'_id': ObjectId('5cfe7923fc4b171de3b919ab'),\n",
       "  'nome': 'Archimede',\n",
       "  'cognome': 'Pitagorico',\n",
       "  'genere': 'M',\n",
       "  'prima_apparizione': 1952,\n",
       "  'passatempi': ['invenzioni', 'studio']},\n",
       " {'_id': ObjectId('5cfe7923fc4b171de3b919ac'),\n",
       "  'nome': 'Pico',\n",
       "  'cognome': 'De Paperis',\n",
       "  'genere': 'M',\n",
       "  'prima_apparizione': 1961,\n",
       "  'passatempi': ['studio']}]"
      ]
     },
     "execution_count": 32,
     "metadata": {},
     "output_type": "execute_result"
    }
   ],
   "source": [
    "list(db.personaggi.find({'passatempi': 'studio'}))"
   ]
  },
  {
   "cell_type": "markdown",
   "metadata": {
    "slideshow": {
     "slide_type": "slide"
    }
   },
   "source": [
    "## Selettori complessi\n",
    "\n",
    "- in base alla presenza di un intero array"
   ]
  },
  {
   "cell_type": "code",
   "execution_count": 33,
   "metadata": {},
   "outputs": [
    {
     "data": {
      "text/plain": [
       "[{'_id': ObjectId('5cfe7923fc4b171de3b919ac'),\n",
       "  'nome': 'Pico',\n",
       "  'cognome': 'De Paperis',\n",
       "  'genere': 'M',\n",
       "  'prima_apparizione': 1961,\n",
       "  'passatempi': ['studio']}]"
      ]
     },
     "execution_count": 33,
     "metadata": {},
     "output_type": "execute_result"
    }
   ],
   "source": [
    "list(db.personaggi.find({'passatempi': ['studio']}))"
   ]
  },
  {
   "cell_type": "markdown",
   "metadata": {
    "slideshow": {
     "slide_type": "slide"
    }
   },
   "source": [
    "## Selettori complessi\n",
    "\n",
    "- in base a occorrenze in posizioni specifiche di un array"
   ]
  },
  {
   "cell_type": "code",
   "execution_count": 34,
   "metadata": {
    "slideshow": {
     "slide_type": "-"
    }
   },
   "outputs": [
    {
     "data": {
      "text/plain": [
       "[{'_id': ObjectId('5cfe7923fc4b171de3b919ab'),\n",
       "  'nome': 'Archimede',\n",
       "  'cognome': 'Pitagorico',\n",
       "  'genere': 'M',\n",
       "  'prima_apparizione': 1952,\n",
       "  'passatempi': ['invenzioni', 'studio']}]"
      ]
     },
     "execution_count": 34,
     "metadata": {},
     "output_type": "execute_result"
    }
   ],
   "source": [
    "list(db.personaggi.find({'passatempi.1': 'studio'}))"
   ]
  },
  {
   "cell_type": "markdown",
   "metadata": {
    "slideshow": {
     "slide_type": "slide"
    }
   },
   "source": [
    "## Selettori complessi\n",
    "\n",
    "- in base al contenuto di documenti incorporati"
   ]
  },
  {
   "cell_type": "code",
   "execution_count": 35,
   "metadata": {},
   "outputs": [
    {
     "data": {
      "text/plain": [
       "[{'_id': ObjectId('5cfe7911fc4b171de3b919a5'),\n",
       "  'nome': 'Paolino',\n",
       "  'cognome': 'Paperino',\n",
       "  'genere': 'M',\n",
       "  'auto': {'modello': 'American Bantam', 'targa': 313},\n",
       "  'anno_nascita': 1920,\n",
       "  'prima_apparizione': 1934}]"
      ]
     },
     "execution_count": 35,
     "metadata": {},
     "output_type": "execute_result"
    }
   ],
   "source": [
    "list(db.personaggi.find({'auto.modello': 'American Bantam'}))"
   ]
  },
  {
   "cell_type": "markdown",
   "metadata": {
    "slideshow": {
     "slide_type": "slide"
    }
   },
   "source": [
    "## Selettori complessi\n",
    "\n",
    "- in base a espressioni regolari"
   ]
  },
  {
   "cell_type": "code",
   "execution_count": 36,
   "metadata": {},
   "outputs": [
    {
     "data": {
      "text/plain": [
       "[{'_id': ObjectId('5cfe7923fc4b171de3b919a9'),\n",
       "  'nome': 'nonna papera',\n",
       "  'genere': 'F',\n",
       "  'auto': {'modello': 'Detroit Electric'},\n",
       "  'anno_nascita': 1833,\n",
       "  'prima_apparizione': 1943,\n",
       "  'passatempi': ['cucina', 'agricoltura']},\n",
       " {'_id': ObjectId('5cfe7923fc4b171de3b919aa'),\n",
       "  'nome': 'Paperon',\n",
       "  'cognome': 'De Paperoni',\n",
       "  'genere': 'M',\n",
       "  'anno_nascita': 1867,\n",
       "  'prima_apparizione': 1947,\n",
       "  'passatempi': ['alta finanza', 'risparmio', 'nuoto in depositi aurei']}]"
      ]
     },
     "execution_count": 36,
     "metadata": {},
     "output_type": "execute_result"
    }
   ],
   "source": [
    "import re\n",
    "regx = re.compile(\"^.*aper\", re.IGNORECASE)\n",
    "\n",
    "list(db.personaggi.find({'nome': regx}))"
   ]
  },
  {
   "cell_type": "markdown",
   "metadata": {
    "slideshow": {
     "slide_type": "slide"
    }
   },
   "source": [
    "## Selettori complessi\n",
    "\n",
    "In base a relazioni di carattere geospaziale\n",
    "\n",
    "- `$near` permette di individuare punti che si trovano a una distanza radiale compresa tra un minimo e un massimo rispetto a un dato punto\n",
    "\n",
    "- `$within` permette di individuare punti che giacciono all'interno di una regione (per esempio indicata attraverso un poligono)"
   ]
  },
  {
   "cell_type": "markdown",
   "metadata": {
    "slideshow": {
     "slide_type": "slide"
    }
   },
   "source": [
    "## Selezioni ed efficienza\n",
    "\n",
    "L'uso di espressioni regolari e di altri strumenti come `$lt` e `$gt` può essere fonte di inefficienza durante l'esecuzione delle query"
   ]
  },
  {
   "cell_type": "markdown",
   "metadata": {
    "slideshow": {
     "slide_type": "slide"
    }
   },
   "source": [
    "## Proiezioni\n",
    "\n",
    "È possibile visualizzare campi specifici dei documenti selezionati specificando un secondo argomento per `find` e `find_one`\n",
    "\n",
    "- contenente un elenco dei campi da visualizzare"
   ]
  },
  {
   "cell_type": "code",
   "execution_count": 37,
   "metadata": {},
   "outputs": [
    {
     "data": {
      "text/plain": [
       "[{'_id': ObjectId('5cfe7923fc4b171de3b919ab'),\n",
       "  'nome': 'Archimede',\n",
       "  'cognome': 'Pitagorico'}]"
      ]
     },
     "execution_count": 37,
     "metadata": {},
     "output_type": "execute_result"
    }
   ],
   "source": [
    "list(db.personaggi.find({'passatempi.1': 'studio'},\n",
    "                        {'nome': 1, 'cognome': 1}))"
   ]
  },
  {
   "cell_type": "markdown",
   "metadata": {
    "slideshow": {
     "slide_type": "slide"
    }
   },
   "source": [
    "## Proiezioni\n",
    "\n",
    "È possibile visualizzare campi specifici dei documenti selezionati specificando un secondo argomento per `find` e `find_one`\n",
    "\n",
    "- o di quelli da escludere"
   ]
  },
  {
   "cell_type": "code",
   "execution_count": 38,
   "metadata": {},
   "outputs": [
    {
     "data": {
      "text/plain": [
       "[{'_id': ObjectId('5cfe7923fc4b171de3b919ab'), 'nome': 'Archimede'}]"
      ]
     },
     "execution_count": 38,
     "metadata": {},
     "output_type": "execute_result"
    }
   ],
   "source": [
    "list(db.personaggi.find({'passatempi.1': 'studio'},\n",
    "                        {'cognome': 0,\n",
    "                         'genere': 0,\n",
    "                         'anno_nascita': 0,\n",
    "                         'prima_apparizione': 0,\n",
    "                         'passatempi': 0}))"
   ]
  },
  {
   "cell_type": "markdown",
   "metadata": {
    "slideshow": {
     "slide_type": "slide"
    }
   },
   "source": [
    "## Proiezioni\n",
    "\n",
    "Non è possibile utilizzare i due approcci assieme, con l'unica eccezione dell'esclusione di `_id`, che altrimenti viene sempre visualizzato"
   ]
  },
  {
   "cell_type": "code",
   "execution_count": 39,
   "metadata": {},
   "outputs": [
    {
     "data": {
      "text/plain": [
       "[{'nome': 'Archimede', 'cognome': 'Pitagorico'}]"
      ]
     },
     "execution_count": 39,
     "metadata": {},
     "output_type": "execute_result"
    }
   ],
   "source": [
    "list(db.personaggi.find({\"passatempi.1\": 'studio'},\n",
    "                        {'nome': 1, 'cognome': 1, '_id': 0}))"
   ]
  },
  {
   "cell_type": "markdown",
   "metadata": {
    "slideshow": {
     "slide_type": "slide"
    }
   },
   "source": [
    "## Indici\n",
    "\n",
    "- È possibile associare un indice a una collezione"
   ]
  },
  {
   "cell_type": "code",
   "execution_count": 40,
   "metadata": {},
   "outputs": [
    {
     "data": {
      "text/plain": [
       "'nome_1_prima_apparizione_-1'"
      ]
     },
     "execution_count": 40,
     "metadata": {},
     "output_type": "execute_result"
    }
   ],
   "source": [
    "import pymongo\n",
    "db.personaggi.create_index([('nome', pymongo.ASCENDING),\n",
    "                            ('prima_apparizione', pymongo.DESCENDING)])"
   ]
  },
  {
   "cell_type": "markdown",
   "metadata": {},
   "source": [
    "- l'indice è associato a un campo o a un gruppo di campi, ordinati in modo non decrescente (1) o non crescente (-1)"
   ]
  },
  {
   "cell_type": "markdown",
   "metadata": {
    "slideshow": {
     "slide_type": "slide"
    }
   },
   "source": [
    "## Indici\n",
    "\n",
    "- un indice ricopre una query se di esso fanno parte\n",
    "  - tutti i campi filtrati dalla query, e\n",
    "  - tutti i campi restituiti dalla query\n",
    "- le query ricoperte vengono eseguite leggendo l'indice"
   ]
  },
  {
   "cell_type": "code",
   "execution_count": 41,
   "metadata": {},
   "outputs": [
    {
     "data": {
      "text/plain": [
       "[{'nome': 'Paolino', 'prima_apparizione': 1934},\n",
       " {'nome': 'Paperon', 'prima_apparizione': 1947}]"
      ]
     },
     "execution_count": 41,
     "metadata": {},
     "output_type": "execute_result"
    }
   ],
   "source": [
    "regx = re.compile(\"^P\", re.IGNORECASE)\n",
    "\n",
    "list(db.personaggi.find({'nome': regx,\n",
    "                    'prima_apparizione': {'$lt': 1950}},\n",
    "                   {'_id': 0, 'nome': 1, 'prima_apparizione': 1}))"
   ]
  },
  {
   "cell_type": "markdown",
   "metadata": {
    "slideshow": {
     "slide_type": "slide"
    }
   },
   "source": [
    "## Cursori\n",
    "\n",
    "`find` restituisce un cursore ai suoi risultati, il quale può essere acceduto\n",
    "\n",
    "- nelle modalità con cui di solito si utilizza un _iterable_"
   ]
  },
  {
   "cell_type": "markdown",
   "metadata": {
    "slideshow": {
     "slide_type": "slide"
    }
   },
   "source": [
    "## Cursori\n",
    "\n",
    "`find` restituisce un cursore ai suoi risultati, il quale può essere acceduto\n",
    "\n",
    "- usando il metodo `next`"
   ]
  },
  {
   "cell_type": "code",
   "execution_count": 42,
   "metadata": {},
   "outputs": [
    {
     "data": {
      "text/plain": [
       "{'modello': 'American Bantam', 'targa': 313}"
      ]
     },
     "execution_count": 42,
     "metadata": {},
     "output_type": "execute_result"
    }
   ],
   "source": [
    "cursor = db.personaggi.find()\n",
    "personaggio = cursor.next()\n",
    "\n",
    "personaggio['auto']"
   ]
  },
  {
   "cell_type": "code",
   "execution_count": 43,
   "metadata": {},
   "outputs": [
    {
     "data": {
      "text/plain": [
       "313"
      ]
     },
     "execution_count": 43,
     "metadata": {},
     "output_type": "execute_result"
    }
   ],
   "source": [
    "personaggio['auto']['targa']"
   ]
  },
  {
   "cell_type": "markdown",
   "metadata": {
    "slideshow": {
     "slide_type": "slide"
    }
   },
   "source": [
    "## Cursori\n",
    "\n",
    "`find` restituisce un cursore ai suoi risultati, il quale può essere acceduto\n",
    "\n",
    "- accedendo alla variabile di istanza `alive` per verificare se esistano risultati che non sono ancora stati considerati"
   ]
  },
  {
   "cell_type": "code",
   "execution_count": 44,
   "metadata": {},
   "outputs": [
    {
     "data": {
      "text/plain": [
       "True"
      ]
     },
     "execution_count": 44,
     "metadata": {},
     "output_type": "execute_result"
    }
   ],
   "source": [
    "cursor.alive"
   ]
  },
  {
   "cell_type": "markdown",
   "metadata": {
    "slideshow": {
     "slide_type": "slide"
    }
   },
   "source": [
    "## Cursori\n",
    "\n",
    "`find` restituisce un cursore ai suoi risultati, il quale può essere acceduto\n",
    "\n",
    "- usando una notazione posizionale (solo se non si è già acceduto ai risultati)"
   ]
  },
  {
   "cell_type": "code",
   "execution_count": 45,
   "metadata": {},
   "outputs": [
    {
     "data": {
      "text/plain": [
       "{'_id': ObjectId('5cfe7923fc4b171de3b919aa'),\n",
       " 'nome': 'Paperon',\n",
       " 'cognome': 'De Paperoni',\n",
       " 'genere': 'M',\n",
       " 'anno_nascita': 1867,\n",
       " 'prima_apparizione': 1947,\n",
       " 'passatempi': ['alta finanza', 'risparmio', 'nuoto in depositi aurei']}"
      ]
     },
     "execution_count": 45,
     "metadata": {},
     "output_type": "execute_result"
    }
   ],
   "source": [
    "cursor = db.personaggi.find()\n",
    "cursor[2] # se è già stato usato non funziona"
   ]
  },
  {
   "cell_type": "markdown",
   "metadata": {
    "slideshow": {
     "slide_type": "slide"
    }
   },
   "source": [
    "## Metodi sui cursori\n",
    "\n",
    "- `limit` limita il numero di risultati"
   ]
  },
  {
   "cell_type": "code",
   "execution_count": 46,
   "metadata": {},
   "outputs": [
    {
     "data": {
      "text/plain": [
       "[{'_id': ObjectId('5cfe7911fc4b171de3b919a5'),\n",
       "  'nome': 'Paolino',\n",
       "  'cognome': 'Paperino',\n",
       "  'genere': 'M',\n",
       "  'auto': {'modello': 'American Bantam', 'targa': 313},\n",
       "  'anno_nascita': 1920,\n",
       "  'prima_apparizione': 1934},\n",
       " {'_id': ObjectId('5cfe7923fc4b171de3b919a9'),\n",
       "  'nome': 'nonna papera',\n",
       "  'genere': 'F',\n",
       "  'auto': {'modello': 'Detroit Electric'},\n",
       "  'anno_nascita': 1833,\n",
       "  'prima_apparizione': 1943,\n",
       "  'passatempi': ['cucina', 'agricoltura']},\n",
       " {'_id': ObjectId('5cfe7923fc4b171de3b919aa'),\n",
       "  'nome': 'Paperon',\n",
       "  'cognome': 'De Paperoni',\n",
       "  'genere': 'M',\n",
       "  'anno_nascita': 1867,\n",
       "  'prima_apparizione': 1947,\n",
       "  'passatempi': ['alta finanza', 'risparmio', 'nuoto in depositi aurei']}]"
      ]
     },
     "execution_count": 46,
     "metadata": {},
     "output_type": "execute_result"
    }
   ],
   "source": [
    "# equivale a find()[:3]\n",
    "\n",
    "list(db.personaggi.find().limit(3))"
   ]
  },
  {
   "cell_type": "markdown",
   "metadata": {
    "slideshow": {
     "slide_type": "slide"
    }
   },
   "source": [
    "## Metodi sui cursori\n",
    "\n",
    "- `skip` sposta il punto in cui il cursore inizia a restituire risultati"
   ]
  },
  {
   "cell_type": "code",
   "execution_count": 47,
   "metadata": {},
   "outputs": [
    {
     "data": {
      "text/plain": [
       "[{'_id': ObjectId('5cfe7923fc4b171de3b919aa'),\n",
       "  'nome': 'Paperon',\n",
       "  'cognome': 'De Paperoni',\n",
       "  'genere': 'M',\n",
       "  'anno_nascita': 1867,\n",
       "  'prima_apparizione': 1947,\n",
       "  'passatempi': ['alta finanza', 'risparmio', 'nuoto in depositi aurei']},\n",
       " {'_id': ObjectId('5cfe7923fc4b171de3b919ab'),\n",
       "  'nome': 'Archimede',\n",
       "  'cognome': 'Pitagorico',\n",
       "  'genere': 'M',\n",
       "  'prima_apparizione': 1952,\n",
       "  'passatempi': ['invenzioni', 'studio']},\n",
       " {'_id': ObjectId('5cfe7923fc4b171de3b919ac'),\n",
       "  'nome': 'Pico',\n",
       "  'cognome': 'De Paperis',\n",
       "  'genere': 'M',\n",
       "  'prima_apparizione': 1961,\n",
       "  'passatempi': ['studio']}]"
      ]
     },
     "execution_count": 47,
     "metadata": {},
     "output_type": "execute_result"
    }
   ],
   "source": [
    "# equivale a find()[2:]\n",
    "\n",
    "list(db.personaggi.find().skip(2))"
   ]
  },
  {
   "cell_type": "markdown",
   "metadata": {
    "slideshow": {
     "slide_type": "slide"
    }
   },
   "source": [
    "## Metodi sui cursori\n",
    "\n",
    "- un mix di `skip` e `limit` equivale a un _list slicing_ sul cursore\n",
    "\n",
    "- `count` conta il numero di documenti in un risultato"
   ]
  },
  {
   "cell_type": "code",
   "execution_count": 48,
   "metadata": {},
   "outputs": [
    {
     "name": "stderr",
     "output_type": "stream",
     "text": [
      "/home/malchiodi/anaconda3/lib/python3.7/site-packages/ipykernel_launcher.py:1: DeprecationWarning: count is deprecated. Use Collection.count_documents instead.\n",
      "  \"\"\"Entry point for launching an IPython kernel.\n"
     ]
    },
    {
     "data": {
      "text/plain": [
       "5"
      ]
     },
     "execution_count": 48,
     "metadata": {},
     "output_type": "execute_result"
    }
   ],
   "source": [
    "db.personaggi.find().count()"
   ]
  },
  {
   "cell_type": "markdown",
   "metadata": {
    "slideshow": {
     "slide_type": "slide"
    }
   },
   "source": [
    "## Metodi sui cursori\n",
    "\n",
    "- `sort` ordina i risultati"
   ]
  },
  {
   "cell_type": "code",
   "execution_count": 49,
   "metadata": {
    "scrolled": false
   },
   "outputs": [
    {
     "data": {
      "text/plain": [
       "[{'_id': ObjectId('5cfe7923fc4b171de3b919a9'),\n",
       "  'nome': 'nonna papera',\n",
       "  'genere': 'F',\n",
       "  'auto': {'modello': 'Detroit Electric'},\n",
       "  'anno_nascita': 1833,\n",
       "  'prima_apparizione': 1943,\n",
       "  'passatempi': ['cucina', 'agricoltura']},\n",
       " {'_id': ObjectId('5cfe7923fc4b171de3b919ac'),\n",
       "  'nome': 'Pico',\n",
       "  'cognome': 'De Paperis',\n",
       "  'genere': 'M',\n",
       "  'prima_apparizione': 1961,\n",
       "  'passatempi': ['studio']},\n",
       " {'_id': ObjectId('5cfe7923fc4b171de3b919aa'),\n",
       "  'nome': 'Paperon',\n",
       "  'cognome': 'De Paperoni',\n",
       "  'genere': 'M',\n",
       "  'anno_nascita': 1867,\n",
       "  'prima_apparizione': 1947,\n",
       "  'passatempi': ['alta finanza', 'risparmio', 'nuoto in depositi aurei']},\n",
       " {'_id': ObjectId('5cfe7911fc4b171de3b919a5'),\n",
       "  'nome': 'Paolino',\n",
       "  'cognome': 'Paperino',\n",
       "  'genere': 'M',\n",
       "  'auto': {'modello': 'American Bantam', 'targa': 313},\n",
       "  'anno_nascita': 1920,\n",
       "  'prima_apparizione': 1934},\n",
       " {'_id': ObjectId('5cfe7923fc4b171de3b919ab'),\n",
       "  'nome': 'Archimede',\n",
       "  'cognome': 'Pitagorico',\n",
       "  'genere': 'M',\n",
       "  'prima_apparizione': 1952,\n",
       "  'passatempi': ['invenzioni', 'studio']}]"
      ]
     },
     "execution_count": 49,
     "metadata": {},
     "output_type": "execute_result"
    }
   ],
   "source": [
    "list(db.personaggi.find().sort([('cognome', pymongo.ASCENDING),\n",
    "                                ('nome', pymongo.ASCENDING)]))"
   ]
  },
  {
   "cell_type": "markdown",
   "metadata": {
    "slideshow": {
     "slide_type": "slide"
    }
   },
   "source": [
    "## Aggiornamento\n",
    "\n",
    "- il metodo `update_one` permette di modificare un documento"
   ]
  },
  {
   "cell_type": "code",
   "execution_count": 50,
   "metadata": {},
   "outputs": [],
   "source": [
    "res = db.personaggi.update_one({'nome': 'Archimede'},\n",
    "                         {'$set': {'prima_apparizione': 1950}})"
   ]
  },
  {
   "cell_type": "markdown",
   "metadata": {},
   "source": [
    "-  (**non** si ha il controllo su quale dei documenti individuati verrà effettuata la modifica)\n",
    "- il metodo `update_many` modifica un insieme di documenti\n",
    "- nelle prime versioni di MongoDB sono possibili query del tipo\n",
    "\n",
    "  ```\n",
    "  db.personaggi.update_one({'nome': 'Archimede},\n",
    "                           {'prima_apparizione': 1950}) ```\n",
    "\n",
    "  che **rimpiazzano** l'intero documento!"
   ]
  },
  {
   "cell_type": "markdown",
   "metadata": {
    "slideshow": {
     "slide_type": "slide"
    }
   },
   "source": [
    "## Aggiornamento\n",
    "\n",
    "Le query di aggiornamento restituiscono un oggetto della classe `UpdateResult` con le seguenti variabili di istanza\n",
    "\n",
    "- `raw_result`, che contiene un dizionario che riassume i risultati dell'aggiornamento"
   ]
  },
  {
   "cell_type": "code",
   "execution_count": 51,
   "metadata": {},
   "outputs": [
    {
     "data": {
      "text/plain": [
       "{'n': 1, 'nModified': 1, 'ok': 1.0, 'updatedExisting': True}"
      ]
     },
     "execution_count": 51,
     "metadata": {},
     "output_type": "execute_result"
    }
   ],
   "source": [
    "res.raw_result"
   ]
  },
  {
   "cell_type": "markdown",
   "metadata": {
    "slideshow": {
     "slide_type": "slide"
    }
   },
   "source": [
    "## Aggiornamento\n",
    "\n",
    "Le query di aggiornamento restituiscono un oggetto della classe `UpdateResult` con le seguenti variabili di istanza\n",
    "\n",
    "- `matched_count`, che indica il numero di documenti che hanno soddisfatto il criterio di ricerca"
   ]
  },
  {
   "cell_type": "code",
   "execution_count": 52,
   "metadata": {},
   "outputs": [
    {
     "data": {
      "text/plain": [
       "1"
      ]
     },
     "execution_count": 52,
     "metadata": {},
     "output_type": "execute_result"
    }
   ],
   "source": [
    "res.matched_count"
   ]
  },
  {
   "cell_type": "markdown",
   "metadata": {
    "slideshow": {
     "slide_type": "slide"
    }
   },
   "source": [
    "## Aggiornamento\n",
    "\n",
    "Le query di aggiornamento restituiscono un oggetto della classe `UpdateResult` con le seguenti variabili di istanza\n",
    "\n",
    "- `modified_count`, che indica quanti documenti sono stati effettivamente modificati"
   ]
  },
  {
   "cell_type": "code",
   "execution_count": 53,
   "metadata": {},
   "outputs": [
    {
     "data": {
      "text/plain": [
       "1"
      ]
     },
     "execution_count": 53,
     "metadata": {},
     "output_type": "execute_result"
    }
   ],
   "source": [
    "res.modified_count"
   ]
  },
  {
   "cell_type": "markdown",
   "metadata": {
    "slideshow": {
     "slide_type": "slide"
    }
   },
   "source": [
    "## Aggiornamento\n",
    "\n",
    "- `$inc` incrementa le quantità numeriche\n",
    "\n",
    "- `$push` aggiunge elementi a un array"
   ]
  },
  {
   "cell_type": "code",
   "execution_count": 54,
   "metadata": {},
   "outputs": [],
   "source": [
    "_ = db.personaggi.update_one({'nome': 'Archimede'},\n",
    "                             {'$push': {'passatempi': 'lampadine'}})"
   ]
  },
  {
   "cell_type": "code",
   "execution_count": 55,
   "metadata": {
    "scrolled": true
   },
   "outputs": [
    {
     "data": {
      "text/plain": [
       "{'_id': ObjectId('5cfe7923fc4b171de3b919ab'),\n",
       " 'nome': 'Archimede',\n",
       " 'cognome': 'Pitagorico',\n",
       " 'genere': 'M',\n",
       " 'prima_apparizione': 1950,\n",
       " 'passatempi': ['invenzioni', 'studio', 'lampadine']}"
      ]
     },
     "execution_count": 55,
     "metadata": {},
     "output_type": "execute_result"
    }
   ],
   "source": [
    "db.personaggi.find_one({'nome': 'Archimede'})"
   ]
  },
  {
   "cell_type": "markdown",
   "metadata": {
    "slideshow": {
     "slide_type": "slide"
    }
   },
   "source": [
    "## Aggiornamento\n",
    "\n",
    "- `$pull` rimuove tutte le occorrenze di un elemento da un array"
   ]
  },
  {
   "cell_type": "code",
   "execution_count": 56,
   "metadata": {},
   "outputs": [
    {
     "data": {
      "text/plain": [
       "<pymongo.results.UpdateResult at 0x7f55c55bc348>"
      ]
     },
     "execution_count": 56,
     "metadata": {},
     "output_type": "execute_result"
    }
   ],
   "source": [
    "db.personaggi.update_one({'nome': 'Archimede'},\n",
    "                         {'$pull': {'passatempi': 'lampadine'}})"
   ]
  },
  {
   "cell_type": "code",
   "execution_count": 57,
   "metadata": {},
   "outputs": [
    {
     "data": {
      "text/plain": [
       "{'_id': ObjectId('5cfe7923fc4b171de3b919ab'),\n",
       " 'nome': 'Archimede',\n",
       " 'cognome': 'Pitagorico',\n",
       " 'genere': 'M',\n",
       " 'prima_apparizione': 1950,\n",
       " 'passatempi': ['invenzioni', 'studio']}"
      ]
     },
     "execution_count": 57,
     "metadata": {},
     "output_type": "execute_result"
    }
   ],
   "source": [
    "db.personaggi.find_one({'nome': 'Archimede'})"
   ]
  },
  {
   "cell_type": "markdown",
   "metadata": {
    "slideshow": {
     "slide_type": "slide"
    }
   },
   "source": [
    "## Peculiarità di `update`\n",
    "\n",
    "\n",
    "- impostando a `True` il terzo argomento di `update_one` o `update_many`, l'operazione di aggiornamento crea un documento qualora quello da modificare non esista (_upsert_)"
   ]
  },
  {
   "cell_type": "code",
   "execution_count": 58,
   "metadata": {},
   "outputs": [
    {
     "data": {
      "text/plain": [
       "<pymongo.results.UpdateResult at 0x7f55c55bc988>"
      ]
     },
     "execution_count": 58,
     "metadata": {},
     "output_type": "execute_result"
    }
   ],
   "source": [
    "db.personaggi.update_one({'nome': 'Archimede'},\n",
    "                         {'$pull': {'passatempi': 'lampadine'}},\n",
    "                         upsert=True)"
   ]
  },
  {
   "cell_type": "markdown",
   "metadata": {
    "slideshow": {
     "slide_type": "slide"
    }
   },
   "source": [
    "## Cancellazione\n",
    "\n",
    "- Il metodo `delete_one` cancella un documento"
   ]
  },
  {
   "cell_type": "code",
   "execution_count": 59,
   "metadata": {},
   "outputs": [],
   "source": [
    "res = db.personaggi.delete_one({'nome': 'Poco'})"
   ]
  },
  {
   "cell_type": "markdown",
   "metadata": {},
   "source": [
    "- sull'oggetto restituito è possibile leggere le variabili di istanza `raw_result` e `deleted_count`"
   ]
  },
  {
   "cell_type": "code",
   "execution_count": 60,
   "metadata": {},
   "outputs": [
    {
     "data": {
      "text/plain": [
       "{'n': 0, 'ok': 1.0}"
      ]
     },
     "execution_count": 60,
     "metadata": {},
     "output_type": "execute_result"
    }
   ],
   "source": [
    "res.raw_result"
   ]
  },
  {
   "cell_type": "code",
   "execution_count": 61,
   "metadata": {},
   "outputs": [
    {
     "data": {
      "text/plain": [
       "0"
      ]
     },
     "execution_count": 61,
     "metadata": {},
     "output_type": "execute_result"
    }
   ],
   "source": [
    "res.deleted_count"
   ]
  },
  {
   "cell_type": "markdown",
   "metadata": {
    "slideshow": {
     "slide_type": "slide"
    }
   },
   "source": [
    "## Cancellazione\n",
    "\n",
    "- analogamente, `delete_many` cancella un insieme di documenti"
   ]
  },
  {
   "cell_type": "code",
   "execution_count": 62,
   "metadata": {},
   "outputs": [
    {
     "data": {
      "text/plain": [
       "{'n': 0, 'ok': 1.0}"
      ]
     },
     "execution_count": 62,
     "metadata": {},
     "output_type": "execute_result"
    }
   ],
   "source": [
    "res = db.personaggi.delete_many({'passatempi': 'fumetti'})\n",
    "res.raw_result"
   ]
  },
  {
   "cell_type": "markdown",
   "metadata": {},
   "source": [
    "- in teoria è ancora supportato il metodo `remove`, che però è deprecato"
   ]
  },
  {
   "cell_type": "markdown",
   "metadata": {
    "slideshow": {
     "slide_type": "slide"
    }
   },
   "source": [
    "## Cancellazione di collezioni e DB\n",
    "\n",
    "- La cancellazione di una collezione si effettua invocando il metodo `drop_collection` sull'oggetto DB o il metodo `drop` sull'oggetto della collezione stessa"
   ]
  },
  {
   "cell_type": "code",
   "execution_count": null,
   "metadata": {
    "collapsed": true
   },
   "outputs": [],
   "source": [
    "# db.fumetti.drop_collection('personaggi')\n",
    "\n",
    "# db.fumetti.personaggi.drop()"
   ]
  },
  {
   "cell_type": "markdown",
   "metadata": {},
   "source": [
    "- La cancellazione di un database si effettua invocando il metodo `drop_database` sull'oggetto ottenuto in fase di connessione"
   ]
  },
  {
   "cell_type": "code",
   "execution_count": 135,
   "metadata": {
    "collapsed": true
   },
   "outputs": [],
   "source": [
    "#mongo.drop_database('fumetti')"
   ]
  },
  {
   "cell_type": "markdown",
   "metadata": {
    "slideshow": {
     "slide_type": "slide"
    }
   },
   "source": [
    "## Map-reduce\n",
    "\n",
    "```\n",
    "resource    date\n",
    "index       Jan 20 2010 4:30\n",
    "index       Jan 20 2010 5:30\n",
    "about       Jan 20 2010 6:00\n",
    "index       Jan 20 2010 7:00\n",
    "about       Jan 21 2010 8:00\n",
    "about       Jan 21 2010 8:30\n",
    "index       Jan 21 2010 8:30\n",
    "about       Jan 21 2010 9:00\n",
    "index       Jan 21 2010 9:30\n",
    "index       Jan 22 2010 5:00\n",
    "```\n",
    "\n",
    "Partendo da questi dati..."
   ]
  },
  {
   "cell_type": "markdown",
   "metadata": {
    "slideshow": {
     "slide_type": "slide"
    }
   },
   "source": [
    "## Map-reduce\n",
    "\n",
    "...vogliamo ottenere\n",
    "\n",
    "```\n",
    "resource    year    month   day     count\n",
    "index       2010    1       20      3\n",
    "about       2010    1       20      1\n",
    "about       2010    1       21      3\n",
    "index       2010    1       21      2\n",
    "index       2010    1       22      1\n",
    "```\n",
    "\n",
    "Usiamo un algoritmo Map-reduce in cui\n",
    "\n",
    "- map emette 1 per ogni chiave (risorsa, data)\n",
    "- reduce somma i valori"
   ]
  },
  {
   "cell_type": "markdown",
   "metadata": {
    "slideshow": {
     "slide_type": "slide"
    }
   },
   "source": [
    "## Map-reduce\n",
    "\n",
    "popoliamo il database"
   ]
  },
  {
   "cell_type": "code",
   "execution_count": 136,
   "metadata": {
    "collapsed": true
   },
   "outputs": [],
   "source": [
    "import datetime\n",
    "\n",
    "db.hits.insert_one({'resource': 'index', 'date': datetime.datetime(2010, 1, 20, 4, 30, 0, 0)})\n",
    "db.hits.insert_one({'resource': 'index', 'date': datetime.datetime(2010, 1, 20, 5, 30, 0, 0)})\n",
    "db.hits.insert_one({'resource': 'about', 'date': datetime.datetime(2010, 1, 20, 6, 0, 0, 0)})\n",
    "db.hits.insert_one({'resource': 'index', 'date': datetime.datetime(2010, 1, 20, 7, 0, 0, 0)})\n",
    "db.hits.insert_one({'resource': 'about', 'date': datetime.datetime(2010, 1, 21, 8, 0, 0, 0)})\n",
    "db.hits.insert_one({'resource': 'index', 'date': datetime.datetime(2010, 1, 21, 8, 30, 0, 0)})\n",
    "db.hits.insert_one({'resource': 'about', 'date': datetime.datetime(2010, 1, 21, 9, 0, 0, 0)})\n",
    "db.hits.insert_one({'resource': 'index', 'date': datetime.datetime(2010, 1, 21, 9, 30, 0, 0)})\n",
    "_ = db.hits.insert_one({'resource': 'index', 'date': datetime.datetime(2010, 1, 22, 5, 0, 0, 0)})"
   ]
  },
  {
   "cell_type": "markdown",
   "metadata": {
    "slideshow": {
     "slide_type": "slide"
    }
   },
   "source": [
    "## Map-reduce\n",
    "\n",
    "creiamo la funzione map (in javascript!)"
   ]
  },
  {
   "cell_type": "code",
   "execution_count": 93,
   "metadata": {
    "collapsed": true
   },
   "outputs": [],
   "source": [
    "from bson.code import Code\n",
    "\n",
    "map = Code('''function() {\n",
    "  var key = {\n",
    "    resource: this.resource,\n",
    "    year: this.date.getFullYear(),\n",
    "    month: this.date.getMonth(),\n",
    "    day: this.date.getDate()\n",
    "  };\n",
    "  emit(key, {count: 1});\n",
    "}''')"
   ]
  },
  {
   "cell_type": "markdown",
   "metadata": {
    "slideshow": {
     "slide_type": "slide"
    }
   },
   "source": [
    "## Map-reduce\n",
    "\n",
    "creiamo la funzione reduce"
   ]
  },
  {
   "cell_type": "code",
   "execution_count": 94,
   "metadata": {
    "collapsed": true
   },
   "outputs": [],
   "source": [
    "reduce = Code('''function(key, values) {\n",
    "  var sum = 0;\n",
    "  values.forEach(function(value) {\n",
    "     sum += value['count'];\n",
    "  });\n",
    "  return {count: sum};\n",
    "}''')"
   ]
  },
  {
   "cell_type": "markdown",
   "metadata": {
    "slideshow": {
     "slide_type": "slide"
    }
   },
   "source": [
    "## Map-reduce\n",
    "\n",
    "_et voilà_"
   ]
  },
  {
   "cell_type": "code",
   "execution_count": 95,
   "metadata": {
    "collapsed": true
   },
   "outputs": [],
   "source": [
    "result = db.hits.map_reduce(map, reduce, 'hit_stats')"
   ]
  },
  {
   "cell_type": "code",
   "execution_count": 96,
   "metadata": {},
   "outputs": [
    {
     "data": {
      "text/plain": [
       "Collection(Database(MongoClient(host=['localhost:27017'], document_class=dict, tz_aware=False, connect=True), u'fumetti'), u'hit_stats')"
      ]
     },
     "execution_count": 96,
     "metadata": {},
     "output_type": "execute_result"
    }
   ],
   "source": [
    "result"
   ]
  },
  {
   "cell_type": "code",
   "execution_count": 97,
   "metadata": {},
   "outputs": [
    {
     "name": "stdout",
     "output_type": "stream",
     "text": [
      "{u'_id': {u'month': 0.0, u'resource': u'about', u'day': 20.0, u'year': 2010.0}, u'value': {u'count': 1.0}}\n",
      "{u'_id': {u'month': 0.0, u'resource': u'about', u'day': 21.0, u'year': 2010.0}, u'value': {u'count': 2.0}}\n",
      "{u'_id': {u'month': 0.0, u'resource': u'index', u'day': 20.0, u'year': 2010.0}, u'value': {u'count': 3.0}}\n",
      "{u'_id': {u'month': 0.0, u'resource': u'index', u'day': 21.0, u'year': 2010.0}, u'value': {u'count': 2.0}}\n",
      "{u'_id': {u'month': 0.0, u'resource': u'index', u'day': 22.0, u'year': 2010.0}, u'value': {u'count': 1.0}}\n"
     ]
    }
   ],
   "source": [
    "for doc in result.find():\n",
    "    print doc"
   ]
  },
  {
   "cell_type": "markdown",
   "metadata": {
    "slideshow": {
     "slide_type": "slide"
    }
   },
   "source": [
    "## Altre forme di aggregazione\n",
    "\n",
    "MongoDB prevede forme più deboli di aggregazione che non richiedono l'utilizzo di algoritmi map-reduce, utilizzando il metodo `aggregate` in congiunzione con operatori come `$match`, `$project`, `$group`, `$sort`, ecc."
   ]
  },
  {
   "cell_type": "markdown",
   "metadata": {
    "slideshow": {
     "slide_type": "slide"
    }
   },
   "source": [
    "## Join\n",
    "\n",
    "- i database orientati ai documenti sono forse quelli più vicini all'approccio relazionale, ma...\n",
    "- le operazioni di join non vanno a braccetto con la scalabilità orizzontale"
   ]
  },
  {
   "cell_type": "markdown",
   "metadata": {
    "slideshow": {
     "slide_type": "slide"
    }
   },
   "source": [
    "## Join\n",
    "\n",
    "Nessuno ci impedisce di fare le join \"a mano\"..."
   ]
  },
  {
   "cell_type": "code",
   "execution_count": 141,
   "metadata": {},
   "outputs": [
    {
     "data": {
      "text/plain": [
       "<pymongo.results.InsertOneResult at 0x104757be0>"
      ]
     },
     "execution_count": 141,
     "metadata": {},
     "output_type": "execute_result"
    }
   ],
   "source": [
    "id_zio = db.personaggi.find_one({'cognome': 'Paperino'})['_id']\n",
    "\n",
    "db.personaggi.insert_one({'nome': 'Qui', 'capofamiglia': id_zio})\n",
    "db.personaggi.insert_one({'nome': 'Quo', 'capofamiglia': id_zio})\n",
    "db.personaggi.insert_one({'nome': 'Qua', 'capofamiglia': id_zio})"
   ]
  },
  {
   "cell_type": "markdown",
   "metadata": {
    "slideshow": {
     "slide_type": "-"
    }
   },
   "source": [
    "...al prezzo di una query in più (per recuperare il capofamiglia)."
   ]
  },
  {
   "cell_type": "markdown",
   "metadata": {
    "slideshow": {
     "slide_type": "slide"
    }
   },
   "source": [
    "## Relazioni molti a molti\n",
    "\n",
    "- Si possono utilizzare gli array"
   ]
  },
  {
   "cell_type": "code",
   "execution_count": 147,
   "metadata": {},
   "outputs": [
    {
     "data": {
      "text/plain": [
       "{u'_id': ObjectId('5a06255f8eac92b1830c46f2'),\n",
       " u'anno_nascita': 1920,\n",
       " u'auto': {u'modello': u'American Bantam', u'targa': 313},\n",
       " u'cognome': u'Paperino',\n",
       " u'familiari': [ObjectId('5a0737428eac92b1830c4704'),\n",
       "  ObjectId('5a0737428eac92b1830c4705'),\n",
       "  ObjectId('5a0737428eac92b1830c4706')],\n",
       " u'genere': u'M',\n",
       " u'nome': u'Paolino',\n",
       " u'prima_apparizione': 1934}"
      ]
     },
     "execution_count": 147,
     "metadata": {},
     "output_type": "execute_result"
    }
   ],
   "source": [
    "id_qui = db.personaggi.find_one({'nome': 'Qui'})['_id']\n",
    "id_quo = db.personaggi.find_one({'nome': 'Quo'})['_id']\n",
    "id_qua = db.personaggi.find_one({'nome': 'Qua'})['_id']\n",
    "\n",
    "db.personaggi.update_one({'nome': 'Paolino', 'cognome': 'Paperino'},\n",
    "                         {'$set': {'familiari': [id_qui, id_quo, id_qua]}})\n",
    "\n",
    "db.personaggi.find_one({'familiari': id_quo})"
   ]
  },
  {
   "cell_type": "markdown",
   "metadata": {
    "slideshow": {
     "slide_type": "slide"
    }
   },
   "source": [
    "## Relazioni molti a molti\n",
    "\n",
    "- o i documenti incorporati"
   ]
  },
  {
   "cell_type": "code",
   "execution_count": 169,
   "metadata": {
    "slideshow": {
     "slide_type": "-"
    }
   },
   "outputs": [
    {
     "data": {
      "text/plain": [
       "{u'_id': ObjectId('5a0739448eac92b1830c4707'),\n",
       " u'anno_nascita': 1920,\n",
       " u'auto': {u'modello': u'American Bantam', u'targa': 313},\n",
       " u'cognome': u'Paperino',\n",
       " u'familiari': [{u'nome': u'Qui'}, {u'nome': u'Quo'}, {u'nome': u'Qua'}],\n",
       " u'genere': u'M',\n",
       " u'nome': u'Paolino',\n",
       " u'prima_apparizione': 1934}"
      ]
     },
     "execution_count": 169,
     "metadata": {},
     "output_type": "execute_result"
    }
   ],
   "source": [
    "db.personaggi.update_one({'nome': 'Paolino', 'cognome': 'Paperino'},\n",
    "                         {'$set': {'familiari': [{'nome': 'Qui'},\n",
    "                                                 {'nome': 'Quo'},\n",
    "                                                 {'nome': 'Qua'}]}})\n",
    "\n",
    "db.personaggi.find_one({'familiari.nome': 'Quo'})"
   ]
  },
  {
   "cell_type": "markdown",
   "metadata": {
    "slideshow": {
     "slide_type": "slide"
    }
   },
   "source": [
    "## Alternativa: denormalizzazione\n",
    "\n",
    "- Potrebbe non essere drammatico, ove dovesse essere necessario, denormalizzare i dati, duplicando parte dell'informazione\n",
    "- in teoria bisogna tenere conto del limite di 64 MByte per documento, anche se nella pratica tale limite è spesso ben più che abbondante (e.g., un post di un blog implementato come un documento che incorpora i documenti che corrispondono ai commenti, tenendo conto che il testo dell'Amleto occupa 200KByte...)\n",
    "- il prezzo da pagare consiste nel dover aumentare il numero di query (per esempio se si aggiornano dati duplicati)"
   ]
  },
  {
   "cell_type": "markdown",
   "metadata": {
    "slideshow": {
     "slide_type": "slide"
    }
   },
   "source": [
    "## Come al solito...\n",
    "\n",
    "...non c'è una soluzione universale, e molto spesso la scelta dipende oltre che dal problema che si vuole risolvere dal proprio stile di progettazione."
   ]
  },
  {
   "cell_type": "markdown",
   "metadata": {
    "slideshow": {
     "slide_type": "slide"
    }
   },
   "source": [
    "## C'è molto di più\n",
    "\n",
    "- Viste\n",
    "- Aggregation\n",
    "- Dati geospaziali\n",
    "- Replication\n",
    "- Sharding (horizontal scaling)\n",
    "- Ricerca testuale\n",
    "- Sicurezza\n"
   ]
  }
 ],
 "metadata": {
  "celltoolbar": "Slideshow",
  "kernelspec": {
   "display_name": "Python 3",
   "language": "python",
   "name": "python3"
  },
  "language_info": {
   "codemirror_mode": {
    "name": "ipython",
    "version": 3
   },
   "file_extension": ".py",
   "mimetype": "text/x-python",
   "name": "python",
   "nbconvert_exporter": "python",
   "pygments_lexer": "ipython3",
   "version": "3.7.3"
  },
  "latex_envs": {
   "LaTeX_envs_menu_present": true,
   "autocomplete": true,
   "bibliofile": "biblio.bib",
   "cite_by": "apalike",
   "current_citInitial": 1,
   "eqLabelWithNumbers": true,
   "eqNumInitial": 1,
   "hotkeys": {
    "equation": "Ctrl-E",
    "itemize": "Ctrl-I"
   },
   "labels_anchors": false,
   "latex_user_defs": false,
   "report_style_numbering": false,
   "user_envs_cfg": false
  }
 },
 "nbformat": 4,
 "nbformat_minor": 1
}
