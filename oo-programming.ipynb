{
 "cells": [
  {
   "cell_type": "code",
   "execution_count": 1,
   "metadata": {},
   "outputs": [
    {
     "name": "stdout",
     "output_type": "stream",
     "text": [
      "Python 3.7.3\n"
     ]
    }
   ],
   "source": [
    "%%bash\n",
    "python --version"
   ]
  },
  {
   "cell_type": "code",
   "execution_count": 2,
   "metadata": {},
   "outputs": [
    {
     "name": "stdout",
     "output_type": "stream",
     "text": [
      "Name;Identity;Birth place;Publisher;Height;Weight;Gender;First appearance;Eye color;Hair color;Strength;Intelligence\r\n",
      "A-Bomb;Richard Milhouse Jones;Scarsdale, Arizona;Marvel Comics;203.21000000000001;441.94999999999999;M;2008;Yellow;No Hair;100;moderate\r\n",
      "Abraxas;Abraxas;Within Eternity ;Marvel Comics;;;M;;Blue;Black;100;high\r\n",
      "Abomination;Emil Blonsky;Zagreb, Yugoslavia;Marvel Comics;203.03999999999999;441.98000000000002;M;;Green;No Hair;80;good\r\n",
      "Adam Monroe;;;NBC - Heroes;;;M;;Blue;Blond;10;good\r\n",
      "Agent 13;Sharon Carter;;Marvel Comics;173.41;61.030000000000001;F;;Blue;Blond;;\r\n",
      "Air-Walker;Gabriel Lan;Xandar, a planet in the Tranta system, Andromeda galaxy;Marvel Comics;188.59;108.23;M;;Blue;White;85;average\r\n",
      "Agent Bob;Bob;;Marvel Comics;178.25;81.450000000000003;M;2007;Brown;Brown;10;low\r\n",
      "Abe Sapien;Abraham Sapien;;Dark Horse Comics;191.24000000000001;65.349999999999994;M;1993;Blue;No Hair;30;high\r\n",
      "Abin Sur;;Ungara;DC Comics;185.52000000000001;90.900000000000006;M;1959;Blue;No Hair;90;average\r\n"
     ]
    }
   ],
   "source": [
    "%%bash\n",
    "\n",
    "head data/heroes.csv"
   ]
  },
  {
   "cell_type": "markdown",
   "metadata": {},
   "source": [
    "Creazione di una classe"
   ]
  },
  {
   "cell_type": "code",
   "execution_count": 3,
   "metadata": {},
   "outputs": [],
   "source": [
    "# notation: camel-case for class names\n",
    "\n",
    "class Superhero:\n",
    "# in python 2.X: Superhero(object)\n",
    "    pass"
   ]
  },
  {
   "cell_type": "markdown",
   "metadata": {},
   "source": [
    "Creazione di un oggetto"
   ]
  },
  {
   "cell_type": "code",
   "execution_count": 4,
   "metadata": {},
   "outputs": [],
   "source": [
    "superman = Superhero()"
   ]
  },
  {
   "cell_type": "code",
   "execution_count": 5,
   "metadata": {},
   "outputs": [
    {
     "data": {
      "text/plain": [
       "<__main__.Superhero at 0x7fee083f7390>"
      ]
     },
     "execution_count": 5,
     "metadata": {},
     "output_type": "execute_result"
    }
   ],
   "source": [
    "superman"
   ]
  },
  {
   "cell_type": "code",
   "execution_count": 6,
   "metadata": {},
   "outputs": [
    {
     "data": {
      "text/plain": [
       "__main__.Superhero"
      ]
     },
     "execution_count": 6,
     "metadata": {},
     "output_type": "execute_result"
    }
   ],
   "source": [
    "type(superman)"
   ]
  },
  {
   "cell_type": "markdown",
   "metadata": {},
   "source": [
    "Costruttori"
   ]
  },
  {
   "cell_type": "code",
   "execution_count": 7,
   "metadata": {},
   "outputs": [
    {
     "name": "stdout",
     "output_type": "stream",
     "text": [
      "Ready to create a new hero!\n"
     ]
    }
   ],
   "source": [
    "class Superhero:\n",
    "    def __init__(self):\n",
    "        print('Ready to create a new hero!')\n",
    "        \n",
    "superman = Superhero()"
   ]
  },
  {
   "cell_type": "markdown",
   "metadata": {},
   "source": [
    "Variabili di istanza"
   ]
  },
  {
   "cell_type": "code",
   "execution_count": 8,
   "metadata": {},
   "outputs": [
    {
     "data": {
      "text/plain": [
       "<__main__.Superhero at 0x7fee083f7940>"
      ]
     },
     "execution_count": 8,
     "metadata": {},
     "output_type": "execute_result"
    }
   ],
   "source": [
    "class Superhero:\n",
    "    def __init__(self, name, identity):\n",
    "        self.name = name\n",
    "        self.identity = identity\n",
    "        \n",
    "superman = Superhero('Superman', 'Clark Kent')\n",
    "superman"
   ]
  },
  {
   "cell_type": "code",
   "execution_count": 9,
   "metadata": {},
   "outputs": [
    {
     "data": {
      "text/plain": [
       "'Superman'"
      ]
     },
     "execution_count": 9,
     "metadata": {},
     "output_type": "execute_result"
    }
   ],
   "source": [
    "superman.name"
   ]
  },
  {
   "cell_type": "code",
   "execution_count": 10,
   "metadata": {},
   "outputs": [
    {
     "data": {
      "text/plain": [
       "'Clark Kent'"
      ]
     },
     "execution_count": 10,
     "metadata": {},
     "output_type": "execute_result"
    }
   ],
   "source": [
    "superman.identity"
   ]
  },
  {
   "cell_type": "markdown",
   "metadata": {},
   "source": [
    "Confronto tra oggetti"
   ]
  },
  {
   "cell_type": "code",
   "execution_count": 11,
   "metadata": {},
   "outputs": [
    {
     "data": {
      "text/plain": [
       "True"
      ]
     },
     "execution_count": 11,
     "metadata": {},
     "output_type": "execute_result"
    }
   ],
   "source": [
    "superman is superman"
   ]
  },
  {
   "cell_type": "code",
   "execution_count": 12,
   "metadata": {},
   "outputs": [
    {
     "data": {
      "text/plain": [
       "True"
      ]
     },
     "execution_count": 12,
     "metadata": {},
     "output_type": "execute_result"
    }
   ],
   "source": [
    "superman_alias = superman\n",
    "superman_alias is superman"
   ]
  },
  {
   "cell_type": "code",
   "execution_count": 13,
   "metadata": {},
   "outputs": [
    {
     "data": {
      "text/plain": [
       "False"
      ]
     },
     "execution_count": 13,
     "metadata": {},
     "output_type": "execute_result"
    }
   ],
   "source": [
    "superman_copy = Superhero('Superman', 'Clark Kent')\n",
    "superman_copy is superman"
   ]
  },
  {
   "cell_type": "code",
   "execution_count": 14,
   "metadata": {},
   "outputs": [
    {
     "name": "stdout",
     "output_type": "stream",
     "text": [
      "True\n",
      "False\n",
      "True\n",
      "True\n"
     ]
    }
   ],
   "source": [
    "a = [1, 2, 3]\n",
    "b = a\n",
    "c = [1, 2, 3]\n",
    "print(a is b)\n",
    "print(a is c)\n",
    "print(a == b)\n",
    "print(a == c)"
   ]
  },
  {
   "cell_type": "code",
   "execution_count": 15,
   "metadata": {},
   "outputs": [
    {
     "data": {
      "text/plain": [
       "True"
      ]
     },
     "execution_count": 15,
     "metadata": {},
     "output_type": "execute_result"
    }
   ],
   "source": [
    "superman_alias == superman"
   ]
  },
  {
   "cell_type": "code",
   "execution_count": 16,
   "metadata": {},
   "outputs": [
    {
     "data": {
      "text/plain": [
       "False"
      ]
     },
     "execution_count": 16,
     "metadata": {},
     "output_type": "execute_result"
    }
   ],
   "source": [
    "superman_copy == superman"
   ]
  },
  {
   "cell_type": "code",
   "execution_count": 17,
   "metadata": {},
   "outputs": [
    {
     "data": {
      "text/plain": [
       "(140660317321536, 140660317321536, 140660317393528)"
      ]
     },
     "execution_count": 17,
     "metadata": {},
     "output_type": "execute_result"
    }
   ],
   "source": [
    "(id(superman), id(superman_alias), id(superman_copy))"
   ]
  },
  {
   "cell_type": "markdown",
   "metadata": {},
   "source": [
    "Metodi"
   ]
  },
  {
   "cell_type": "code",
   "execution_count": 18,
   "metadata": {},
   "outputs": [
    {
     "data": {
      "text/plain": [
       "\"I'm Superman, and nobody knows that I'm also Clark Kent.\""
      ]
     },
     "execution_count": 18,
     "metadata": {},
     "output_type": "execute_result"
    }
   ],
   "source": [
    "class Superhero:\n",
    "    \n",
    "    def __init__(self, name, identity):\n",
    "        self.name = name\n",
    "        self.identity = identity\n",
    "    \n",
    "    def description(self):\n",
    "        return \"I'm {}, and nobody knows \" \\\n",
    "               \"that I'm also {}.\".format(self.name, self.identity)\n",
    "\n",
    "s = Superhero('Superman', 'Clark Kent')\n",
    "s.description()"
   ]
  },
  {
   "cell_type": "markdown",
   "metadata": {},
   "source": [
    "Ereditarietà"
   ]
  },
  {
   "cell_type": "code",
   "execution_count": 19,
   "metadata": {},
   "outputs": [
    {
     "name": "stdout",
     "output_type": "stream",
     "text": [
      "This is to show that parent class constructor is invoked\n"
     ]
    }
   ],
   "source": [
    "class Person:\n",
    "    def __init__(self, name, height, weight, gender):\n",
    "        print('This is to show that parent class constructor is invoked')\n",
    "        self.name = name\n",
    "        self.height = height\n",
    "        self.weight = weight\n",
    "        self.gender = gender\n",
    "        \n",
    "    def description(self):\n",
    "        return \"I'm {}\".format(self.name)\n",
    "    \n",
    "    def print_heigth(self):\n",
    "        print(\"I'm {} cms tall\".format(self.height))\n",
    "\n",
    "    \n",
    "class Superhero(Person):\n",
    "    def description(self):\n",
    "        return \"I'm {} (and secretly I'm a superhero)\".format(self.name)\n",
    "    \n",
    "s = Superhero('Clark Kent', 191.73, 101.73, 'M')"
   ]
  },
  {
   "cell_type": "code",
   "execution_count": 20,
   "metadata": {},
   "outputs": [
    {
     "data": {
      "text/plain": [
       "\"I'm Clark Kent (and secretly I'm a superhero)\""
      ]
     },
     "execution_count": 20,
     "metadata": {},
     "output_type": "execute_result"
    }
   ],
   "source": [
    "s.description()"
   ]
  },
  {
   "cell_type": "code",
   "execution_count": 21,
   "metadata": {},
   "outputs": [
    {
     "name": "stdout",
     "output_type": "stream",
     "text": [
      "I'm 191.73 cms tall\n"
     ]
    }
   ],
   "source": [
    "s.print_heigth()"
   ]
  },
  {
   "cell_type": "code",
   "execution_count": 22,
   "metadata": {},
   "outputs": [
    {
     "data": {
      "text/plain": [
       "True"
      ]
     },
     "execution_count": 22,
     "metadata": {},
     "output_type": "execute_result"
    }
   ],
   "source": [
    "isinstance(s, Superhero)"
   ]
  },
  {
   "cell_type": "code",
   "execution_count": 23,
   "metadata": {},
   "outputs": [
    {
     "data": {
      "text/plain": [
       "True"
      ]
     },
     "execution_count": 23,
     "metadata": {},
     "output_type": "execute_result"
    }
   ],
   "source": [
    "isinstance(s, Person)"
   ]
  },
  {
   "cell_type": "markdown",
   "metadata": {},
   "source": [
    "Variabili di classe"
   ]
  },
  {
   "cell_type": "code",
   "execution_count": 24,
   "metadata": {},
   "outputs": [],
   "source": [
    "class Superhero(Person):\n",
    "    num_heroes = 0\n",
    "    \n",
    "    def print_created_heroes():\n",
    "        print('{} heroes created so far'.format(Superhero.num_heroes))\n",
    "    \n",
    "    def __init__(self, name, identity, height, weight, gender):\n",
    "        super().__init__(identity, height, weight, gender)\n",
    "        self.hero_name = name\n",
    "        Superhero.num_heroes += 1\n",
    "    \n",
    "    def description(self):\n",
    "        return super().description() + \\\n",
    "               \" (and I'm secretly {})\".format(self.hero_name)"
   ]
  },
  {
   "cell_type": "code",
   "execution_count": 25,
   "metadata": {},
   "outputs": [
    {
     "name": "stdout",
     "output_type": "stream",
     "text": [
      "0 heroes created so far\n"
     ]
    }
   ],
   "source": [
    "Superhero.print_created_heroes()"
   ]
  },
  {
   "cell_type": "code",
   "execution_count": 26,
   "metadata": {},
   "outputs": [
    {
     "name": "stdout",
     "output_type": "stream",
     "text": [
      "This is to show that parent class constructor is invoked\n"
     ]
    }
   ],
   "source": [
    "s = Superhero('Superman', 'Clark Kent', 191.73, 101.73, 'M')"
   ]
  },
  {
   "cell_type": "code",
   "execution_count": 27,
   "metadata": {},
   "outputs": [
    {
     "name": "stdout",
     "output_type": "stream",
     "text": [
      "1 heroes created so far\n"
     ]
    }
   ],
   "source": [
    "Superhero.print_created_heroes()"
   ]
  },
  {
   "cell_type": "code",
   "execution_count": 28,
   "metadata": {},
   "outputs": [
    {
     "data": {
      "text/plain": [
       "1"
      ]
     },
     "execution_count": 28,
     "metadata": {},
     "output_type": "execute_result"
    }
   ],
   "source": [
    "Superhero.num_heroes"
   ]
  },
  {
   "cell_type": "code",
   "execution_count": 29,
   "metadata": {},
   "outputs": [
    {
     "data": {
      "text/plain": [
       "1"
      ]
     },
     "execution_count": 29,
     "metadata": {},
     "output_type": "execute_result"
    }
   ],
   "source": [
    "s.num_heroes"
   ]
  },
  {
   "cell_type": "code",
   "execution_count": 30,
   "metadata": {},
   "outputs": [
    {
     "data": {
      "text/plain": [
       "1"
      ]
     },
     "execution_count": 30,
     "metadata": {},
     "output_type": "execute_result"
    }
   ],
   "source": [
    "s.__class__.num_heroes"
   ]
  },
  {
   "cell_type": "markdown",
   "metadata": {},
   "source": [
    "Introspezione e gestione dinamica attributi"
   ]
  },
  {
   "cell_type": "code",
   "execution_count": 31,
   "metadata": {},
   "outputs": [
    {
     "data": {
      "text/plain": [
       "True"
      ]
     },
     "execution_count": 31,
     "metadata": {},
     "output_type": "execute_result"
    }
   ],
   "source": [
    "hasattr(s, 'gender')"
   ]
  },
  {
   "cell_type": "code",
   "execution_count": 32,
   "metadata": {},
   "outputs": [],
   "source": [
    "del s.gender"
   ]
  },
  {
   "cell_type": "code",
   "execution_count": 33,
   "metadata": {},
   "outputs": [
    {
     "data": {
      "text/plain": [
       "False"
      ]
     },
     "execution_count": 33,
     "metadata": {},
     "output_type": "execute_result"
    }
   ],
   "source": [
    "hasattr(s, 'gender')"
   ]
  },
  {
   "cell_type": "code",
   "execution_count": 34,
   "metadata": {},
   "outputs": [
    {
     "ename": "AttributeError",
     "evalue": "'Superhero' object has no attribute 'gender'",
     "output_type": "error",
     "traceback": [
      "\u001b[0;31m---------------------------------------------------------------------------\u001b[0m",
      "\u001b[0;31mAttributeError\u001b[0m                            Traceback (most recent call last)",
      "\u001b[0;32m<ipython-input-34-0cf37e245b2d>\u001b[0m in \u001b[0;36m<module>\u001b[0;34m\u001b[0m\n\u001b[0;32m----> 1\u001b[0;31m \u001b[0ms\u001b[0m\u001b[0;34m.\u001b[0m\u001b[0mgender\u001b[0m\u001b[0;34m\u001b[0m\u001b[0;34m\u001b[0m\u001b[0m\n\u001b[0m",
      "\u001b[0;31mAttributeError\u001b[0m: 'Superhero' object has no attribute 'gender'"
     ]
    }
   ],
   "source": [
    "s.gender"
   ]
  },
  {
   "cell_type": "code",
   "execution_count": 35,
   "metadata": {},
   "outputs": [],
   "source": [
    "# getattr(obj, name[, default])\n",
    "\n",
    "# hasattr(obj,name)\n",
    "\n",
    "# setattr(obj,name,value)\n",
    "\n",
    "# delattr(obj, name)"
   ]
  },
  {
   "cell_type": "markdown",
   "metadata": {},
   "source": [
    "Metodi speciali"
   ]
  },
  {
   "cell_type": "code",
   "execution_count": 36,
   "metadata": {},
   "outputs": [],
   "source": [
    "class Superhero(Person):\n",
    "    '''This class defines a superhero'''\n",
    "    num_heroes = 0\n",
    "    \n",
    "    def print_created_heroes():\n",
    "        print('{} heroes created so far'.format(Superhero.num_heroes))\n",
    "    \n",
    "    def __init__(self, name, identity, height, weight, gender):\n",
    "        super().__init__(identity, height, weight, gender)\n",
    "        self.hero_name = name\n",
    "        Superhero.num_heroes += 1\n",
    "    \n",
    "    def description(self):\n",
    "        return super().description() + \\\n",
    "               \" (and I'm secretly {})\".format(self.hero_name)"
   ]
  },
  {
   "cell_type": "code",
   "execution_count": 37,
   "metadata": {},
   "outputs": [
    {
     "data": {
      "text/plain": [
       "'This class defines a superhero'"
      ]
     },
     "execution_count": 37,
     "metadata": {},
     "output_type": "execute_result"
    }
   ],
   "source": [
    "Superhero.__doc__"
   ]
  },
  {
   "cell_type": "code",
   "execution_count": 38,
   "metadata": {},
   "outputs": [
    {
     "data": {
      "text/plain": [
       "'Superhero'"
      ]
     },
     "execution_count": 38,
     "metadata": {},
     "output_type": "execute_result"
    }
   ],
   "source": [
    "Superhero.__name__"
   ]
  },
  {
   "cell_type": "code",
   "execution_count": 39,
   "metadata": {},
   "outputs": [
    {
     "data": {
      "text/plain": [
       "'__main__'"
      ]
     },
     "execution_count": 39,
     "metadata": {},
     "output_type": "execute_result"
    }
   ],
   "source": [
    "Superhero.__module__"
   ]
  },
  {
   "cell_type": "code",
   "execution_count": 40,
   "metadata": {},
   "outputs": [
    {
     "data": {
      "text/plain": [
       "(__main__.Person,)"
      ]
     },
     "execution_count": 40,
     "metadata": {},
     "output_type": "execute_result"
    }
   ],
   "source": [
    "Superhero.__bases__"
   ]
  },
  {
   "cell_type": "code",
   "execution_count": 41,
   "metadata": {
    "scrolled": true
   },
   "outputs": [
    {
     "data": {
      "text/plain": [
       "mappingproxy({'__module__': '__main__',\n",
       "              '__doc__': 'This class defines a superhero',\n",
       "              'num_heroes': 0,\n",
       "              'print_created_heroes': <function __main__.Superhero.print_created_heroes()>,\n",
       "              '__init__': <function __main__.Superhero.__init__(self, name, identity, height, weight, gender)>,\n",
       "              'description': <function __main__.Superhero.description(self)>})"
      ]
     },
     "execution_count": 41,
     "metadata": {},
     "output_type": "execute_result"
    }
   ],
   "source": [
    "Superhero.__dict__"
   ]
  },
  {
   "cell_type": "markdown",
   "metadata": {},
   "source": [
    "Distruttori"
   ]
  },
  {
   "cell_type": "code",
   "execution_count": 42,
   "metadata": {},
   "outputs": [],
   "source": [
    "class Superhero(Person):\n",
    "    num_heroes = 0\n",
    "    \n",
    "    def print_created_heroes():\n",
    "        print('{} heroes created so far'.format(Superhero.num_heroes))\n",
    "    \n",
    "    def __init__(self, name, identity=None,\n",
    "                 height=None, weight=None, gender=None):\n",
    "        super().__init__(identity, height, weight, gender)\n",
    "        self.hero_name = name\n",
    "        Superhero.num_heroes += 1\n",
    "    \n",
    "    def description(self):\n",
    "        return super().description() + \\\n",
    "               \" (and I'm secretly {})\".format(self.hero_name)\n",
    "    \n",
    "    def __del__(self):\n",
    "        Superhero.num_heroes -= 1\n",
    "        print('{} just got deleted. '\n",
    "              'There are {} heroes left.'.format(self.hero_name,\n",
    "                                                 Superhero.num_heroes))"
   ]
  },
  {
   "cell_type": "code",
   "execution_count": 43,
   "metadata": {},
   "outputs": [
    {
     "name": "stdout",
     "output_type": "stream",
     "text": [
      "This is to show that parent class constructor is invoked\n"
     ]
    }
   ],
   "source": [
    "s = Superhero('Superman')\n",
    "s1 = s\n",
    "s2 = s1"
   ]
  },
  {
   "cell_type": "code",
   "execution_count": 44,
   "metadata": {},
   "outputs": [],
   "source": [
    "del s"
   ]
  },
  {
   "cell_type": "code",
   "execution_count": 45,
   "metadata": {},
   "outputs": [],
   "source": [
    "del s2"
   ]
  },
  {
   "cell_type": "code",
   "execution_count": 46,
   "metadata": {},
   "outputs": [
    {
     "name": "stdout",
     "output_type": "stream",
     "text": [
      "Superman just got deleted. There are 0 heroes left.\n"
     ]
    }
   ],
   "source": [
    "del s1"
   ]
  },
  {
   "cell_type": "markdown",
   "metadata": {},
   "source": [
    "Ereditarietà multipla"
   ]
  },
  {
   "cell_type": "code",
   "execution_count": 47,
   "metadata": {},
   "outputs": [],
   "source": [
    "class AbilityHolder:\n",
    "    def __init__(self, abilities):\n",
    "        self.abilities = abilities\n",
    "        print('In AbilityHolder constructor')\n",
    "    \n",
    "    def show_abilities(self):\n",
    "        if self.abilities:\n",
    "            print('I can:')\n",
    "            for ability in self.abilities:\n",
    "                print('-{}'.format(ability))\n",
    "        else:\n",
    "            print('I have no abilities')\n",
    "            \n",
    "            \n",
    "class Person:\n",
    "    def __init__(self, name):\n",
    "        print('In Person constructor')\n",
    "        self.name = name\n",
    "        \n",
    "    def show(self):\n",
    "        print(\"I'm {}\".format(self.name))"
   ]
  },
  {
   "cell_type": "code",
   "execution_count": 48,
   "metadata": {},
   "outputs": [],
   "source": [
    "class Superhero(Person, AbilityHolder):\n",
    "    pass"
   ]
  },
  {
   "cell_type": "code",
   "execution_count": 49,
   "metadata": {},
   "outputs": [
    {
     "name": "stdout",
     "output_type": "stream",
     "text": [
      "In Person constructor\n"
     ]
    }
   ],
   "source": [
    "s = Superhero('Superman')"
   ]
  },
  {
   "cell_type": "code",
   "execution_count": 50,
   "metadata": {},
   "outputs": [
    {
     "name": "stdout",
     "output_type": "stream",
     "text": [
      "I'm Superman\n"
     ]
    }
   ],
   "source": [
    "s.show()"
   ]
  },
  {
   "cell_type": "code",
   "execution_count": 51,
   "metadata": {},
   "outputs": [
    {
     "ename": "AttributeError",
     "evalue": "'Superhero' object has no attribute 'abilities'",
     "output_type": "error",
     "traceback": [
      "\u001b[0;31m---------------------------------------------------------------------------\u001b[0m",
      "\u001b[0;31mAttributeError\u001b[0m                            Traceback (most recent call last)",
      "\u001b[0;32m<ipython-input-51-b55a56ce81dc>\u001b[0m in \u001b[0;36m<module>\u001b[0;34m\u001b[0m\n\u001b[0;32m----> 1\u001b[0;31m \u001b[0ms\u001b[0m\u001b[0;34m.\u001b[0m\u001b[0mshow_abilities\u001b[0m\u001b[0;34m(\u001b[0m\u001b[0;34m)\u001b[0m\u001b[0;34m\u001b[0m\u001b[0;34m\u001b[0m\u001b[0m\n\u001b[0m",
      "\u001b[0;32m<ipython-input-47-f4ecf3661537>\u001b[0m in \u001b[0;36mshow_abilities\u001b[0;34m(self)\u001b[0m\n\u001b[1;32m      5\u001b[0m \u001b[0;34m\u001b[0m\u001b[0m\n\u001b[1;32m      6\u001b[0m     \u001b[0;32mdef\u001b[0m \u001b[0mshow_abilities\u001b[0m\u001b[0;34m(\u001b[0m\u001b[0mself\u001b[0m\u001b[0;34m)\u001b[0m\u001b[0;34m:\u001b[0m\u001b[0;34m\u001b[0m\u001b[0;34m\u001b[0m\u001b[0m\n\u001b[0;32m----> 7\u001b[0;31m         \u001b[0;32mif\u001b[0m \u001b[0mself\u001b[0m\u001b[0;34m.\u001b[0m\u001b[0mabilities\u001b[0m\u001b[0;34m:\u001b[0m\u001b[0;34m\u001b[0m\u001b[0;34m\u001b[0m\u001b[0m\n\u001b[0m\u001b[1;32m      8\u001b[0m             \u001b[0mprint\u001b[0m\u001b[0;34m(\u001b[0m\u001b[0;34m'I can:'\u001b[0m\u001b[0;34m)\u001b[0m\u001b[0;34m\u001b[0m\u001b[0;34m\u001b[0m\u001b[0m\n\u001b[1;32m      9\u001b[0m             \u001b[0;32mfor\u001b[0m \u001b[0mability\u001b[0m \u001b[0;32min\u001b[0m \u001b[0mself\u001b[0m\u001b[0;34m.\u001b[0m\u001b[0mabilities\u001b[0m\u001b[0;34m:\u001b[0m\u001b[0;34m\u001b[0m\u001b[0;34m\u001b[0m\u001b[0m\n",
      "\u001b[0;31mAttributeError\u001b[0m: 'Superhero' object has no attribute 'abilities'"
     ]
    }
   ],
   "source": [
    "s.show_abilities()"
   ]
  },
  {
   "cell_type": "code",
   "execution_count": 52,
   "metadata": {},
   "outputs": [],
   "source": [
    "class Superhero(Person, AbilityHolder):\n",
    "    def __init__(self, name, abilities):\n",
    "        Person.__init__(self, name)\n",
    "        AbilityHolder.__init__(self, abilities)\n",
    "        \n",
    "    def show(self):\n",
    "        Person.show(self)\n",
    "        AbilityHolder.show_abilities(self)"
   ]
  },
  {
   "cell_type": "code",
   "execution_count": 53,
   "metadata": {},
   "outputs": [
    {
     "name": "stdout",
     "output_type": "stream",
     "text": [
      "In Person constructor\n",
      "In AbilityHolder constructor\n"
     ]
    }
   ],
   "source": [
    "s = Superhero('Superman', ['Fly', 'See through things'])"
   ]
  },
  {
   "cell_type": "code",
   "execution_count": 54,
   "metadata": {
    "scrolled": true
   },
   "outputs": [
    {
     "name": "stdout",
     "output_type": "stream",
     "text": [
      "I'm Superman\n",
      "I can:\n",
      "-Fly\n",
      "-See through things\n"
     ]
    }
   ],
   "source": [
    "s.show()"
   ]
  },
  {
   "cell_type": "markdown",
   "metadata": {},
   "source": [
    "Altri metodi speciali: rappresentazione di oggetti"
   ]
  },
  {
   "cell_type": "code",
   "execution_count": 55,
   "metadata": {},
   "outputs": [],
   "source": [
    "def make_list(values):\n",
    "    return ', '.join([\"'\" + v + \"'\" for v in values])\n",
    "\n",
    "class Superhero(Person, AbilityHolder):\n",
    "    def __init__(self, name, abilities):\n",
    "        Person.__init__(self, name)\n",
    "        AbilityHolder.__init__(self, abilities)\n",
    "        \n",
    "    def show(self):\n",
    "        Person.show(self)\n",
    "        AbilityHolder.show_abilities(self)\n",
    "    \n",
    "    def __repr__(self):\n",
    "        return \"Superhero('{}', [{}])\".format(self.name,\n",
    "                                              make_list(self.abilities))\n",
    "    \n",
    "    def __str__(self):\n",
    "        return \"Let me introduce, I'm {}\".format(self.name)"
   ]
  },
  {
   "cell_type": "code",
   "execution_count": 56,
   "metadata": {},
   "outputs": [
    {
     "name": "stdout",
     "output_type": "stream",
     "text": [
      "In Person constructor\n",
      "In AbilityHolder constructor\n"
     ]
    }
   ],
   "source": [
    "s = Superhero('Superman', ['strength', 'x-ray view', 'fly'])"
   ]
  },
  {
   "cell_type": "code",
   "execution_count": 57,
   "metadata": {},
   "outputs": [
    {
     "data": {
      "text/plain": [
       "Superhero('Superman', ['strength', 'x-ray view', 'fly'])"
      ]
     },
     "execution_count": 57,
     "metadata": {},
     "output_type": "execute_result"
    }
   ],
   "source": [
    "s"
   ]
  },
  {
   "cell_type": "code",
   "execution_count": 58,
   "metadata": {},
   "outputs": [
    {
     "name": "stdout",
     "output_type": "stream",
     "text": [
      "Let me introduce, I'm Superman\n"
     ]
    }
   ],
   "source": [
    "print(s)"
   ]
  },
  {
   "cell_type": "code",
   "execution_count": 59,
   "metadata": {},
   "outputs": [
    {
     "data": {
      "text/plain": [
       "\"Let me introduce, I'm Superman\""
      ]
     },
     "execution_count": 59,
     "metadata": {},
     "output_type": "execute_result"
    }
   ],
   "source": [
    "str(s)"
   ]
  },
  {
   "cell_type": "markdown",
   "metadata": {},
   "source": [
    "Confronto tra oggetti"
   ]
  },
  {
   "cell_type": "code",
   "execution_count": 60,
   "metadata": {},
   "outputs": [],
   "source": [
    "class Superhero:\n",
    "    \n",
    "    def __init__(self, name, strength):\n",
    "        self.name = name\n",
    "        self.strength = strength\n",
    "        \n",
    "    def show(self):\n",
    "        print(\"I'm {} and my strength value is {}\".format(self.name,\n",
    "                                                          self.strength))\n",
    "        \n",
    "    def __le__(self, other):\n",
    "        return self.strength <= other.strength"
   ]
  },
  {
   "cell_type": "code",
   "execution_count": 61,
   "metadata": {},
   "outputs": [
    {
     "data": {
      "text/plain": [
       "False"
      ]
     },
     "execution_count": 61,
     "metadata": {},
     "output_type": "execute_result"
    }
   ],
   "source": [
    "s = Superhero('Superman', 100)\n",
    "a = Superhero('Aquaman', 10)\n",
    "\n",
    "s <= a"
   ]
  },
  {
   "cell_type": "code",
   "execution_count": 62,
   "metadata": {},
   "outputs": [],
   "source": [
    "# __lt__\n",
    "# __ge__\n",
    "# __gt__"
   ]
  },
  {
   "cell_type": "markdown",
   "metadata": {},
   "source": [
    "Overloading di operazioni comuni"
   ]
  },
  {
   "cell_type": "code",
   "execution_count": 63,
   "metadata": {},
   "outputs": [],
   "source": [
    "class Superhero:\n",
    "    \n",
    "    def __init__(self, name, strength):\n",
    "        self.name = name\n",
    "        self.strength = strength\n",
    "        \n",
    "    def show(self):\n",
    "        print(\"I'm {} and my strength value is {}\".format(self.name,\n",
    "                                                          self.strength))\n",
    "        \n",
    "    def __add__(self, other):\n",
    "        name = 'Fusion of {} and {}'.format(self.name, other.name)\n",
    "        return Superhero(name, self.strength + other.strength)"
   ]
  },
  {
   "cell_type": "code",
   "execution_count": 64,
   "metadata": {},
   "outputs": [
    {
     "name": "stdout",
     "output_type": "stream",
     "text": [
      "I'm Fusion of Superman and Aquaman and my strength value is 110\n"
     ]
    }
   ],
   "source": [
    "s = Superhero('Superman', 100)\n",
    "a = Superhero('Aquaman', 10)\n",
    "\n",
    "(s + a).show()"
   ]
  },
  {
   "cell_type": "markdown",
   "metadata": {},
   "source": [
    "Ancora sul confronto"
   ]
  },
  {
   "cell_type": "code",
   "execution_count": 65,
   "metadata": {},
   "outputs": [],
   "source": [
    "class Superhero:\n",
    "    \n",
    "    def __init__(self, name, strength):\n",
    "        self.name = name\n",
    "        self.strength = strength\n",
    "        \n",
    "    def show(self):\n",
    "        print(\"I'm {} and my strength value is {}\".format(self.name,\n",
    "                                                          self.strength))\n",
    "        \n",
    "    def __eq__(self, other):\n",
    "        if isinstance(other, Superhero):\n",
    "            return self.name == other.name and self.strength == other.strength\n",
    "        else:\n",
    "            return False"
   ]
  },
  {
   "cell_type": "code",
   "execution_count": 66,
   "metadata": {},
   "outputs": [
    {
     "data": {
      "text/plain": [
       "False"
      ]
     },
     "execution_count": 66,
     "metadata": {},
     "output_type": "execute_result"
    }
   ],
   "source": [
    "s = Superhero('Superman', 100)\n",
    "a = Superhero('Aquaman', 10)\n",
    "\n",
    "s == a"
   ]
  },
  {
   "cell_type": "code",
   "execution_count": 67,
   "metadata": {},
   "outputs": [
    {
     "data": {
      "text/plain": [
       "True"
      ]
     },
     "execution_count": 67,
     "metadata": {},
     "output_type": "execute_result"
    }
   ],
   "source": [
    "s_copy = Superhero('Superman', 100)\n",
    "\n",
    "s_copy == s"
   ]
  },
  {
   "cell_type": "code",
   "execution_count": 68,
   "metadata": {},
   "outputs": [
    {
     "data": {
      "text/plain": [
       "False"
      ]
     },
     "execution_count": 68,
     "metadata": {},
     "output_type": "execute_result"
    }
   ],
   "source": [
    "s_copy is s"
   ]
  },
  {
   "cell_type": "markdown",
   "metadata": {},
   "source": [
    "Copie shallow e deep"
   ]
  },
  {
   "cell_type": "code",
   "execution_count": 69,
   "metadata": {},
   "outputs": [],
   "source": [
    "class Superhero:\n",
    "    \n",
    "    def __init__(self, name, friends):\n",
    "        self.name = name\n",
    "        self.friends = friends\n",
    "        \n",
    "    def show(self):\n",
    "        print(\"I'm {} and my friends are:\\n{}\".format(self.name,\n",
    "                                make_list([f.name for f in self.friends])))\n",
    "    \n",
    "    def add_friend(self, friend):\n",
    "        self.friends.append(friend)"
   ]
  },
  {
   "cell_type": "code",
   "execution_count": 84,
   "metadata": {},
   "outputs": [],
   "source": [
    "superman = Superhero('Superman', [])\n",
    "batman = Superhero('Batman', [])\n",
    "superman.add_friend(batman)"
   ]
  },
  {
   "cell_type": "code",
   "execution_count": 85,
   "metadata": {},
   "outputs": [
    {
     "name": "stdout",
     "output_type": "stream",
     "text": [
      "I'm Superman and my friends are:\n",
      "'Batman'\n"
     ]
    }
   ],
   "source": [
    "superman.show()"
   ]
  },
  {
   "cell_type": "code",
   "execution_count": 86,
   "metadata": {},
   "outputs": [
    {
     "data": {
      "text/plain": [
       "<__main__.Superhero at 0x7fee0802cef0>"
      ]
     },
     "execution_count": 86,
     "metadata": {},
     "output_type": "execute_result"
    }
   ],
   "source": [
    "import copy\n",
    "\n",
    "superman_copy = copy.copy(superman)\n",
    "superman_copy"
   ]
  },
  {
   "cell_type": "code",
   "execution_count": 87,
   "metadata": {},
   "outputs": [
    {
     "data": {
      "text/plain": [
       "(140660313915464, 140660313915464)"
      ]
     },
     "execution_count": 87,
     "metadata": {},
     "output_type": "execute_result"
    }
   ],
   "source": [
    "id(superman.friends), id(superman_copy.friends)"
   ]
  },
  {
   "cell_type": "code",
   "execution_count": 88,
   "metadata": {},
   "outputs": [
    {
     "name": "stdout",
     "output_type": "stream",
     "text": [
      "I'm Superman and my friends are:\n",
      "\n"
     ]
    }
   ],
   "source": [
    "del superman_copy.friends[0]\n",
    "superman_copy.show()"
   ]
  },
  {
   "cell_type": "code",
   "execution_count": 89,
   "metadata": {},
   "outputs": [
    {
     "name": "stdout",
     "output_type": "stream",
     "text": [
      "I'm Superman and my friends are:\n",
      "\n"
     ]
    }
   ],
   "source": [
    "superman.show()"
   ]
  },
  {
   "cell_type": "code",
   "execution_count": 90,
   "metadata": {},
   "outputs": [],
   "source": [
    "superman = Superhero('Superman', [])\n",
    "batman = Superhero('Batman', [])\n",
    "superman.add_friend(batman)\n",
    "\n",
    "superman_copy = copy.deepcopy(superman)"
   ]
  },
  {
   "cell_type": "code",
   "execution_count": 91,
   "metadata": {},
   "outputs": [
    {
     "name": "stdout",
     "output_type": "stream",
     "text": [
      "I'm Superman and my friends are:\n",
      "'Batman'\n"
     ]
    }
   ],
   "source": [
    "superman.show()"
   ]
  },
  {
   "cell_type": "code",
   "execution_count": 92,
   "metadata": {},
   "outputs": [
    {
     "name": "stdout",
     "output_type": "stream",
     "text": [
      "I'm Superman and my friends are:\n",
      "'Batman'\n"
     ]
    }
   ],
   "source": [
    "superman_copy.show()"
   ]
  },
  {
   "cell_type": "code",
   "execution_count": 93,
   "metadata": {},
   "outputs": [
    {
     "name": "stdout",
     "output_type": "stream",
     "text": [
      "I'm Superman and my friends are:\n",
      "\n"
     ]
    }
   ],
   "source": [
    "del superman_copy.friends[0]\n",
    "superman_copy.show()"
   ]
  },
  {
   "cell_type": "code",
   "execution_count": 94,
   "metadata": {},
   "outputs": [
    {
     "name": "stdout",
     "output_type": "stream",
     "text": [
      "I'm Superman and my friends are:\n",
      "'Batman'\n"
     ]
    }
   ],
   "source": [
    "superman.show()"
   ]
  },
  {
   "cell_type": "markdown",
   "metadata": {},
   "source": [
    "Attributi privati"
   ]
  },
  {
   "cell_type": "code",
   "execution_count": 182,
   "metadata": {},
   "outputs": [],
   "source": [
    "class Superhero:\n",
    "    \n",
    "    def __init__(self, name, strength):\n",
    "        self.__name = name\n",
    "        self.__strength = strength"
   ]
  },
  {
   "cell_type": "code",
   "execution_count": 183,
   "metadata": {},
   "outputs": [],
   "source": [
    "s = Superhero('Superman', 100)"
   ]
  },
  {
   "cell_type": "code",
   "execution_count": 184,
   "metadata": {},
   "outputs": [
    {
     "ename": "AttributeError",
     "evalue": "'Superhero' object has no attribute '__name'",
     "output_type": "error",
     "traceback": [
      "\u001b[0;31m---------------------------------------------------------------------------\u001b[0m",
      "\u001b[0;31mAttributeError\u001b[0m                            Traceback (most recent call last)",
      "\u001b[0;32m<ipython-input-184-3f9c62dc6ea1>\u001b[0m in \u001b[0;36m<module>\u001b[0;34m\u001b[0m\n\u001b[0;32m----> 1\u001b[0;31m \u001b[0ms\u001b[0m\u001b[0;34m.\u001b[0m\u001b[0m__name\u001b[0m\u001b[0;34m\u001b[0m\u001b[0;34m\u001b[0m\u001b[0m\n\u001b[0m",
      "\u001b[0;31mAttributeError\u001b[0m: 'Superhero' object has no attribute '__name'"
     ]
    }
   ],
   "source": [
    "s.__name"
   ]
  },
  {
   "cell_type": "code",
   "execution_count": 187,
   "metadata": {},
   "outputs": [
    {
     "data": {
      "text/plain": [
       "'Superman'"
      ]
     },
     "execution_count": 187,
     "metadata": {},
     "output_type": "execute_result"
    }
   ],
   "source": [
    "s._Superhero__name"
   ]
  },
  {
   "cell_type": "markdown",
   "metadata": {},
   "source": [
    "Getter e setter 1"
   ]
  },
  {
   "cell_type": "code",
   "execution_count": 189,
   "metadata": {},
   "outputs": [],
   "source": [
    "class Superhero:\n",
    "    \n",
    "    def __init__(self, name, strength):\n",
    "        self.__name = name\n",
    "        self.__strength = strength\n",
    "        \n",
    "    def get_strength(self):\n",
    "        return self.__strength\n",
    "    \n",
    "    def set_strength(self, strength):\n",
    "        if strength >= 0:\n",
    "            self.__strength = strength\n",
    "        else:\n",
    "            raise ValueError()"
   ]
  },
  {
   "cell_type": "code",
   "execution_count": 190,
   "metadata": {},
   "outputs": [],
   "source": [
    "s = Superhero('Superman', 100)"
   ]
  },
  {
   "cell_type": "code",
   "execution_count": 191,
   "metadata": {},
   "outputs": [
    {
     "data": {
      "text/plain": [
       "100"
      ]
     },
     "execution_count": 191,
     "metadata": {},
     "output_type": "execute_result"
    }
   ],
   "source": [
    "s.get_strength()"
   ]
  },
  {
   "cell_type": "code",
   "execution_count": 192,
   "metadata": {},
   "outputs": [],
   "source": [
    "s.set_strength(90)"
   ]
  },
  {
   "cell_type": "code",
   "execution_count": 194,
   "metadata": {
    "scrolled": true
   },
   "outputs": [
    {
     "ename": "ValueError",
     "evalue": "",
     "output_type": "error",
     "traceback": [
      "\u001b[0;31m---------------------------------------------------------------------------\u001b[0m",
      "\u001b[0;31mValueError\u001b[0m                                Traceback (most recent call last)",
      "\u001b[0;32m<ipython-input-194-8916e709f314>\u001b[0m in \u001b[0;36m<module>\u001b[0;34m\u001b[0m\n\u001b[0;32m----> 1\u001b[0;31m \u001b[0ms\u001b[0m\u001b[0;34m.\u001b[0m\u001b[0mset_strength\u001b[0m\u001b[0;34m(\u001b[0m\u001b[0;34m-\u001b[0m\u001b[0;36m6\u001b[0m\u001b[0;34m)\u001b[0m\u001b[0;34m\u001b[0m\u001b[0;34m\u001b[0m\u001b[0m\n\u001b[0m",
      "\u001b[0;32m<ipython-input-189-74670aa7b346>\u001b[0m in \u001b[0;36mset_strength\u001b[0;34m(self, strength)\u001b[0m\n\u001b[1;32m     12\u001b[0m             \u001b[0mself\u001b[0m\u001b[0;34m.\u001b[0m\u001b[0m__strength\u001b[0m \u001b[0;34m=\u001b[0m \u001b[0mstrength\u001b[0m\u001b[0;34m\u001b[0m\u001b[0;34m\u001b[0m\u001b[0m\n\u001b[1;32m     13\u001b[0m         \u001b[0;32melse\u001b[0m\u001b[0;34m:\u001b[0m\u001b[0;34m\u001b[0m\u001b[0;34m\u001b[0m\u001b[0m\n\u001b[0;32m---> 14\u001b[0;31m             \u001b[0;32mraise\u001b[0m \u001b[0mValueError\u001b[0m\u001b[0;34m(\u001b[0m\u001b[0;34m)\u001b[0m\u001b[0;34m\u001b[0m\u001b[0;34m\u001b[0m\u001b[0m\n\u001b[0m",
      "\u001b[0;31mValueError\u001b[0m: "
     ]
    }
   ],
   "source": [
    "s.set_strength(-6)"
   ]
  },
  {
   "cell_type": "markdown",
   "metadata": {},
   "source": [
    "Getter e setter 2"
   ]
  },
  {
   "cell_type": "code",
   "execution_count": 197,
   "metadata": {},
   "outputs": [],
   "source": [
    "class Superhero:\n",
    "    \n",
    "    def __init__(self, name, strength):\n",
    "        self.__name = name\n",
    "        self.__strength = strength\n",
    "        \n",
    "    def __getitem__(self, key):\n",
    "        if key == 'strength':\n",
    "            return self.__strength\n",
    "        \n",
    "    def __setitem__(self, key, value):\n",
    "        if key == 'strength':\n",
    "            self.__strength = value\n",
    "            \n",
    "    def show(self):\n",
    "        print(\"I'm {} and my strength level is {}\".format(self.__name,\n",
    "                                                          self.__strength))"
   ]
  },
  {
   "cell_type": "code",
   "execution_count": 198,
   "metadata": {},
   "outputs": [
    {
     "data": {
      "text/plain": [
       "100"
      ]
     },
     "execution_count": 198,
     "metadata": {},
     "output_type": "execute_result"
    }
   ],
   "source": [
    "s = Superhero('Superman', 100)\n",
    "s['strength']"
   ]
  },
  {
   "cell_type": "code",
   "execution_count": 200,
   "metadata": {},
   "outputs": [
    {
     "name": "stdout",
     "output_type": "stream",
     "text": [
      "I'm Superman and my strength level is 90\n"
     ]
    }
   ],
   "source": [
    "s['strength'] = 90\n",
    "s.show()"
   ]
  },
  {
   "cell_type": "markdown",
   "metadata": {},
   "source": [
    "Un esempio più complicato"
   ]
  },
  {
   "cell_type": "code",
   "execution_count": 510,
   "metadata": {},
   "outputs": [],
   "source": [
    "def make_list(values):\n",
    "    return ';\\n'.join(['- ' + s for s in values]) + '.'\n",
    "\n",
    "class Team:\n",
    "    def __init__(self, components):\n",
    "        self.components = components\n",
    "        \n",
    "    def __add__(self, other):\n",
    "        if isinstance(other, Superhero):\n",
    "            return self.add_hero(other)\n",
    "        \n",
    "        if isinstance(other, Team):\n",
    "            return Team(self.components + other.components)\n",
    "        \n",
    "        raise ValueError()\n",
    "        \n",
    "    def add_hero(self, hero):\n",
    "        return Team(self.components + [hero])\n",
    "    \n",
    "    def show(self):\n",
    "        print('This is a superhero team, whose components are:\\n' + \\\n",
    "              make_list([h.name for h in self.components]))\n",
    "        \n",
    "    def strongest_component(self):\n",
    "        max_strength = self.components[0].strength\n",
    "        max_strength_component = self.components[0]\n",
    "        for component in self.components[1:]:\n",
    "            if component.strength > max_strength:\n",
    "                max_strength = component.strength\n",
    "                max_strength_component = component\n",
    "        return max_strength_component\n",
    "        \n",
    "\n",
    "class Superhero:\n",
    "    def __init__(self, name, strength, abilities):\n",
    "        self.name = name\n",
    "        self.strength = strength\n",
    "        self.abilities = abilities\n",
    "    \n",
    "    def __add__(self, other):\n",
    "        if isinstance(other, Superhero):\n",
    "            return Team([self, other])\n",
    "        \n",
    "        if isinstance(other, Team):\n",
    "            return other.add_hero(self)\n",
    "        \n",
    "        raise ValueError()\n",
    "    \n",
    "    def __repr__(self):\n",
    "        return \"Superhero('{}', {})\".format(self.name, self.strength)"
   ]
  },
  {
   "cell_type": "code",
   "execution_count": 511,
   "metadata": {},
   "outputs": [],
   "source": [
    "wonder_woman = Superhero('Wonder Woman', 100, ['truth lazo',\n",
    "                                               'bullet-proof bracelets'])\n",
    "superman = Superhero('Superman', 100, ['X-ray sight', 'fly', 'superstrength'])\n",
    "batman = Superhero('Batman', 70, [])\n",
    "aquaman = Superhero('Aquaman', 10, ['telepathy'])"
   ]
  },
  {
   "cell_type": "code",
   "execution_count": 512,
   "metadata": {},
   "outputs": [
    {
     "name": "stdout",
     "output_type": "stream",
     "text": [
      "This is a superhero team, whose components are:\n",
      "- Wonder Woman;\n",
      "- Superman;\n",
      "- Batman;\n",
      "- Aquaman.\n"
     ]
    }
   ],
   "source": [
    "justice_league = wonder_woman + superman + batman + aquaman\n",
    "justice_league.show()"
   ]
  },
  {
   "cell_type": "code",
   "execution_count": 513,
   "metadata": {},
   "outputs": [
    {
     "data": {
      "text/plain": [
       "Superhero('Wonder Woman', 100)"
      ]
     },
     "execution_count": 513,
     "metadata": {},
     "output_type": "execute_result"
    }
   ],
   "source": [
    "justice_league.strongest_component()"
   ]
  },
  {
   "cell_type": "markdown",
   "metadata": {},
   "source": [
    "Unit test"
   ]
  },
  {
   "cell_type": "code",
   "execution_count": 107,
   "metadata": {},
   "outputs": [],
   "source": [
    "class Vector:\n",
    "    def __init__(self, values):\n",
    "        if not values:\n",
    "            raise ValueError()\n",
    "        self.values = values\n",
    "        \n",
    "    def dimension(self):\n",
    "        return len(self.values)\n",
    "    \n",
    "    def norm(self):\n",
    "        return sum([v**2 for v in self.values]) ** 0.5\n",
    "    \n",
    "    def __add__(self, other):\n",
    "        if isinstance(other, Vector) and \\\n",
    "           other.dimension() == self.dimension():\n",
    "            return Vector([s+o for s, o in zip(self.values, other.values)])\n",
    "        else:\n",
    "            raise ValueError()\n",
    "            \n",
    "    def __rmul__(self, other):\n",
    "        if isinstance(other, (int, float)):\n",
    "            return Vector([other * v for v in self.values])\n",
    "        raise ValueError()\n",
    "        \n",
    "    def __mul__(self, other):\n",
    "        if isinstance(other, (int, float)):\n",
    "            return Vector([other * v for v in self.values])\n",
    "        raise ValueError()\n",
    "        \n",
    "    def __repr__(self):\n",
    "        return 'Vector([' + ', '.join([str(v) for v in self.values]) + '])'\n",
    "    \n",
    "    def __eq__(self, other):\n",
    "        if not isinstance(other, Vector):\n",
    "            return False\n",
    "        return self.values == other.values\n",
    "\n",
    "\n",
    "    \n",
    "def check_matrix(values):\n",
    "    if not isinstance(values, (list, tuple)) or len(values)==0:\n",
    "        raise ValueError()\n",
    "    if not isinstance(values[0], (list, tuple)):\n",
    "        raise ValueError()\n",
    "    dim = len(values[0])\n",
    "    for v in values[1:]:\n",
    "        if len(v) != dim:\n",
    "            raise ValueError()\n",
    "        for e in v:\n",
    "            if not isinstance(e, (int, float)):\n",
    "                raise ValueError()\n",
    "        \n",
    "        \n",
    "class Matrix:\n",
    "    def __init__(self, values):\n",
    "        check_matrix(values)\n",
    "        self.values = values\n",
    "    \n",
    "    def __eq__(self, other):\n",
    "        if not isinstance(other, Matrix):\n",
    "            return False\n",
    "        if not self.dimensions() == other.dimensions():\n",
    "            return False\n",
    "        return self.values == other.values\n",
    "        \n",
    "    def dimensions(self):\n",
    "        return (len(self.values), len(self.values[0]))\n",
    "    \n",
    "    def transpose(self):\n",
    "        return Matrix(list(map(list, zip(*self.values))))"
   ]
  },
  {
   "cell_type": "code",
   "execution_count": 108,
   "metadata": {},
   "outputs": [
    {
     "name": "stderr",
     "output_type": "stream",
     "text": [
      ".........\n",
      "----------------------------------------------------------------------\n",
      "Ran 9 tests in 0.005s\n",
      "\n",
      "OK\n"
     ]
    },
    {
     "data": {
      "text/plain": [
       "<unittest.main.TestProgram at 0x7fee00f73c50>"
      ]
     },
     "execution_count": 108,
     "metadata": {},
     "output_type": "execute_result"
    }
   ],
   "source": [
    "import unittest\n",
    "\n",
    "class TestMatrix(unittest.TestCase):\n",
    "    def setUp(self):\n",
    "        self.identity = Matrix([[1, 0], [0, 1]])\n",
    "    \n",
    "    def test_check_matrix(self):\n",
    "        with self.assertRaises(ValueError):\n",
    "            check_matrix(2)\n",
    "            check_matrix([])\n",
    "            check_matrix([4])\n",
    "            check_matrix([3, 3])\n",
    "            check_matrix([3, [3]])\n",
    "            check_matrix([3, [3, 3]])\n",
    "            check_matrix([[1, 2], [1, 2, 5]])\n",
    "            check_matrix([[1, 4, 5], [1, 6]])\n",
    "            check_matrix([[1, 5, 4], [1, 'a', 5]])\n",
    "            \n",
    "    def test_dimensions(self):\n",
    "        self.assertEqual(Matrix([[1, 1],\n",
    "                                 [1, 1],\n",
    "                                 [1, 1]]).dimensions(), (3, 2))\n",
    "        self.assertEqual(Matrix([[1, 1, 1],\n",
    "                                 [1, 1, 1]]).dimensions(), (2, 3))\n",
    "        \n",
    "    def test_eq(self):\n",
    "        self.assertTrue(Matrix([[1, 0], [0, 1]]) == Matrix([[1, 0], [0, 1]]))\n",
    "        self.assertFalse(Matrix([[1, 0], [0, 1]]) == Matrix([[1, 4],\n",
    "                                                             [0, 1]]))\n",
    "        self.assertFalse(Matrix([[1, 0], [0, 1]]) == Matrix([[1, 4, 4],\n",
    "                                                             [0, 0, 1]]))\n",
    "        self.assertFalse(Matrix([[1, 0], [0, 1]]) == 4)\n",
    "        \n",
    "    def test_transpose(self):\n",
    "        self.assertTrue(self.identity.transpose() == self.identity)\n",
    "\n",
    "class TestVector(unittest.TestCase):\n",
    "    def test_init(self):\n",
    "        with self.assertRaises(ValueError):\n",
    "            Vector([])\n",
    "    def test_dimension(self):\n",
    "        self.assertEqual(Vector([1]).dimension(), 1)\n",
    "        self.assertEqual(Vector([1, 2, 3]).dimension(), 3)\n",
    "        \n",
    "    def test_add(self):\n",
    "        self.assertEqual(Vector([1, 2]) + Vector([5, 5]), Vector([6, 7]))\n",
    "        with self.assertRaises(ValueError):\n",
    "            Vector([1, 2]) + Vector([1, 2, 3])\n",
    "    \n",
    "    def test_mult(self):\n",
    "        self.assertEqual(5 * Vector([1, 1]), Vector([5, 5]))\n",
    "        self.assertEqual(Vector([1, 1]) * 5, Vector([5, 5]))\n",
    "        \n",
    "    def test_norm(self):\n",
    "        self.assertAlmostEqual(Vector([1, 1]).norm()**2, 2)\n",
    "\n",
    "        \n",
    "unittest.main(argv=[''], exit=False)\n",
    "\n",
    "# outside jupyter should be\n",
    "# if name == '__main__':\n",
    "#     unittest.main()"
   ]
  },
  {
   "cell_type": "code",
   "execution_count": null,
   "metadata": {},
   "outputs": [],
   "source": [
    "def quadrato(x):\n",
    "    return x**2\n",
    "\n",
    "map(quadrato, )"
   ]
  }
 ],
 "metadata": {
  "kernelspec": {
   "display_name": "Python 3",
   "language": "python",
   "name": "python3"
  },
  "language_info": {
   "codemirror_mode": {
    "name": "ipython",
    "version": 3
   },
   "file_extension": ".py",
   "mimetype": "text/x-python",
   "name": "python",
   "nbconvert_exporter": "python",
   "pygments_lexer": "ipython3",
   "version": "3.7.3"
  },
  "latex_envs": {
   "LaTeX_envs_menu_present": true,
   "autoclose": true,
   "autocomplete": true,
   "bibliofile": "biblio.bib",
   "cite_by": "apalike",
   "current_citInitial": 1,
   "eqLabelWithNumbers": true,
   "eqNumInitial": 1,
   "hotkeys": {
    "equation": "Ctrl-E",
    "itemize": "Ctrl-I"
   },
   "labels_anchors": false,
   "latex_user_defs": false,
   "report_style_numbering": true,
   "user_envs_cfg": false
  }
 },
 "nbformat": 4,
 "nbformat_minor": 2
}
